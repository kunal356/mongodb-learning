{
 "cells": [
  {
   "cell_type": "markdown",
   "id": "ccfcc3b3",
   "metadata": {},
   "source": [
    "# Aggregation Mini Challenge 2\n",
    "\n",
    "Apply what you have learned so far about the aggregation framework to try solve this mini challenge"
   ]
  },
  {
   "cell_type": "code",
   "execution_count": 1,
   "id": "a5bc05db",
   "metadata": {},
   "outputs": [],
   "source": [
    "# Import pymongo dependencies\n",
    "from pymongo import MongoClient\n",
    "client = MongoClient(host=\"localhost\",port=27017)"
   ]
  },
  {
   "cell_type": "code",
   "execution_count": 3,
   "id": "82db96de",
   "metadata": {},
   "outputs": [
    {
     "data": {
      "text/plain": [
       "['products', 'users', 'beauty_products', 'orders']"
      ]
     },
     "execution_count": 3,
     "metadata": {},
     "output_type": "execute_result"
    }
   ],
   "source": [
    "# Set up your MongoClient and database variable\n",
    "db = client['aggregation_test']\n"
   ]
  },
  {
   "cell_type": "code",
   "execution_count": 4,
   "id": "072bba0e",
   "metadata": {},
   "outputs": [],
   "source": [
    "# Function which prints out all the results of a cursor\n",
    "def print_cursor(cursor):\n",
    "    for document in cursor:\n",
    "        print(document, end=\"\\n\\n\")"
   ]
  },
  {
   "cell_type": "code",
   "execution_count": 111,
   "id": "5c4eaeb3",
   "metadata": {},
   "outputs": [],
   "source": [
    "# Challenge Part 1:\n",
    "# Find the top sellers (by user name) based on the quantity of all prodcuts they have sold from the 'orders' collection.\n",
    "# Sort the sellers from highest to lowest quantity sold, and output the results to a new collection called 'top_sellers'\n",
    "###\n",
    "# Example entry from new collection:\n",
    "# {\"_id\": ObjectId(...), \"seller_name\": \"Sarah\", \"num_items_sold\": 7}\n",
    "\n",
    "challenge1_cursor = db.orders.aggregate([\n",
    "    {\"$unwind\": \"$items\"},\n",
    "    {\"$group\":\n",
    "     {\n",
    "         \"_id\": \"$items.product_id\",\n",
    "         \"num_items_sold\": {\"$sum\": \"$items.quantity\"}\n",
    "     }\n",
    "     },\n",
    "    {\n",
    "        \"$lookup\":\n",
    "        {\n",
    "            \"from\": \"products\",\n",
    "            \"localField\": \"_id\",\n",
    "            \"foreignField\": \"_id\",\n",
    "            \"as\": \"products\"\n",
    "        },\n",
    "\n",
    "    },\n",
    "    {\n",
    "        \"$group\":\n",
    "        {\n",
    "            \"_id\": {\"$first\": \"$products.seller_id\"},\n",
    "            \"num_items_sold\": {\"$sum\": \"$num_items_sold\"}\n",
    "        }\n",
    "    },\n",
    "    {\n",
    "        \"$lookup\":\n",
    "        {\n",
    "            \"from\": \"users\",\n",
    "            \"localField\": \"_id\",\n",
    "            \"foreignField\": \"_id\",\n",
    "            \"as\": \"seller\"\n",
    "        },\n",
    "\n",
    "    },\n",
    "    {\"$project\": {\"seller_name\": {\"$first\":\"$seller.name\"}, \"num_items_sold\": 1}},\n",
    "    {\"$sort\": {\"num_items_sold\": -1}}\n",
    "])"
   ]
  },
  {
   "cell_type": "code",
   "execution_count": 112,
   "id": "5bc3fe75",
   "metadata": {},
   "outputs": [
    {
     "name": "stdout",
     "output_type": "stream",
     "text": [
      "{'_id': ObjectId('66fbbbd37bad260de02d2210'), 'num_items_sold': 7, 'seller_name': 'Sarah'}\n",
      "\n",
      "{'_id': ObjectId('66fbbbd37bad260de02d2211'), 'num_items_sold': 5, 'seller_name': 'Bob'}\n",
      "\n",
      "{'_id': ObjectId('66fbbbd37bad260de02d2214'), 'num_items_sold': 2, 'seller_name': 'Jessica'}\n",
      "\n",
      "{'_id': ObjectId('66fbbbd37bad260de02d2213'), 'num_items_sold': 1, 'seller_name': 'Lisa'}\n",
      "\n"
     ]
    }
   ],
   "source": [
    "# Grab the results from your database\n",
    "print_cursor(challenge1_cursor)"
   ]
  },
  {
   "cell_type": "code",
   "execution_count": 148,
   "id": "ff0a980a",
   "metadata": {},
   "outputs": [],
   "source": [
    "### Challenge Part 2:\n",
    "###   You want to reward your sellers with an extra day of a premium membership for each item they've sold. Add\n",
    "###   an attribute called 'premium_exp_date' to the entries in the 'users' collection which contains the date their \n",
    "###   premium membership will expire. Currently no users have a premium membership, so use today as the start date\n",
    "###   from their premium membership, but make sure your pipeline is able to add the extra days of premium to an\n",
    "###   existing date if one existed. \n",
    "###\n",
    "### Example entry from users collection: \n",
    "###   {'_id': ObjectId(...), 'name': 'Sarah', 'premium_exp_date': datetime.datetime(2021, 12, 24, 4, 2, 4, 146000)}\n",
    "\n",
    "challenge2_cursor = db.orders.aggregate([\n",
    "    {\"$unwind\": \"$items\"},\n",
    "    {\"$group\":\n",
    "     {\n",
    "         \"_id\": \"$items.product_id\",\n",
    "         \"num_items_sold\": {\"$sum\": \"$items.quantity\"}\n",
    "     }\n",
    "     },\n",
    "    {\n",
    "        \"$lookup\":\n",
    "        {\n",
    "            \"from\": \"products\",\n",
    "            \"localField\": \"_id\",\n",
    "            \"foreignField\": \"_id\",\n",
    "            \"as\": \"products\"\n",
    "        },\n",
    "\n",
    "    },\n",
    "    {\n",
    "        \"$group\":\n",
    "        {\n",
    "            \"_id\": {\"$first\": \"$products.seller_id\"},\n",
    "            \"num_items_sold\": {\"$sum\": \"$num_items_sold\"}\n",
    "        }\n",
    "    },\n",
    "    {\n",
    "        \"$lookup\":\n",
    "        {\n",
    "            \"from\": \"users\",\n",
    "            \"localField\": \"_id\",\n",
    "            \"foreignField\": \"_id\",\n",
    "            \"as\": \"seller\"\n",
    "        },\n",
    "\n",
    "    },\n",
    "    {\"$project\": {\"seller_name\": {\"$first\":\"$seller.name\"}, \"num_items_sold\": 1, \n",
    "                  \"premium_exp_date\": {\n",
    "                      \"$switch\":{\"branches\":[\n",
    "                          {\"case\": {\"$eq\":[{\"$first\":\"$seller.premium_exp_date\"}, None]},\n",
    "                           \"then\":{\"$dateAdd\":{\"startDate\": \"$$NOW\", \"unit\":\"day\", \"amount\": \"$num_items_sold\"}}\n",
    "                           },\n",
    "                          {\"case\": {\"$lte\":[{\"$first\":\"$seller.premium_exp_date\"}, \"$$NOW\"]},\n",
    "                           \"then\":{\"$dateAdd\":{\"startDate\": \"$$NOW\", \"unit\":\"day\", \"amount\": \"$num_items_sold\"}}\n",
    "                           },\n",
    "                          {\"case\": {\"$gt\":[{\"$first\":\"$seller.premium_exp_date\"}, \"$$NOW\"]},\n",
    "                           \"then\":{\"$dateAdd\":{\"startDate\": {\"$first\":\"$seller.premium_exp_date\"}, \"unit\":\"day\", \"amount\": \"$num_items_sold\"}}\n",
    "                           }\n",
    "                      ]}\n",
    "\n",
    "    }}},\n",
    "    {\"$sort\": {\"num_items_sold\": -1}}\n",
    "])"
   ]
  },
  {
   "cell_type": "code",
   "execution_count": 149,
   "id": "47d98d2d",
   "metadata": {},
   "outputs": [
    {
     "name": "stdout",
     "output_type": "stream",
     "text": [
      "{'_id': ObjectId('66fbbbd37bad260de02d2210'), 'num_items_sold': 7, 'seller_name': 'Sarah', 'premium_exp_date': datetime.datetime(2024, 10, 10, 16, 28, 20, 778000)}\n",
      "\n",
      "{'_id': ObjectId('66fbbbd37bad260de02d2211'), 'num_items_sold': 5, 'seller_name': 'Bob', 'premium_exp_date': datetime.datetime(2024, 11, 5, 0, 0)}\n",
      "\n",
      "{'_id': ObjectId('66fbbbd37bad260de02d2214'), 'num_items_sold': 2, 'seller_name': 'Jessica', 'premium_exp_date': datetime.datetime(2024, 10, 5, 16, 28, 20, 778000)}\n",
      "\n",
      "{'_id': ObjectId('66fbbbd37bad260de02d2213'), 'num_items_sold': 1, 'seller_name': 'Lisa', 'premium_exp_date': datetime.datetime(2024, 10, 4, 16, 28, 20, 778000)}\n",
      "\n"
     ]
    }
   ],
   "source": [
    "# Print out your results\n",
    "print_cursor(challenge2_cursor)"
   ]
  },
  {
   "cell_type": "code",
   "execution_count": null,
   "id": "7e56cd9d",
   "metadata": {},
   "outputs": [],
   "source": []
  }
 ],
 "metadata": {
  "kernelspec": {
   "display_name": "Python 3 (ipykernel)",
   "language": "python",
   "name": "python3"
  },
  "language_info": {
   "codemirror_mode": {
    "name": "ipython",
    "version": 3
   },
   "file_extension": ".py",
   "mimetype": "text/x-python",
   "name": "python",
   "nbconvert_exporter": "python",
   "pygments_lexer": "ipython3",
   "version": "3.12.5"
  }
 },
 "nbformat": 4,
 "nbformat_minor": 5
}
