{
 "cells": [
  {
   "cell_type": "markdown",
   "id": "ccfcc3b3",
   "metadata": {},
   "source": [
    "# Aggregation Mini Challenge 1\n",
    "\n",
    "Apply what you have learned so far about the aggregation framework to try solve this challenge"
   ]
  },
  {
   "cell_type": "code",
   "execution_count": 1,
   "id": "a5bc05db",
   "metadata": {},
   "outputs": [],
   "source": [
    "# Import pymongo dependencies\n",
    "from pymongo import MongoClient\n",
    "client = MongoClient(host=\"localhost\", port=27017)"
   ]
  },
  {
   "cell_type": "code",
   "execution_count": 3,
   "id": "82db96de",
   "metadata": {},
   "outputs": [],
   "source": [
    "# Set up your MongoClient and database variable\n",
    "db = client[\"aggregation_test\"]"
   ]
  },
  {
   "cell_type": "code",
   "execution_count": 4,
   "id": "072bba0e",
   "metadata": {},
   "outputs": [],
   "source": [
    "# Function which prints out all the results of a cursor\n",
    "def print_cursor(cursor):\n",
    "    for document in cursor:\n",
    "        print(document, end=\"\\n\\n\")"
   ]
  },
  {
   "cell_type": "code",
   "execution_count": 59,
   "id": "e8b96a24",
   "metadata": {},
   "outputs": [],
   "source": [
    "# Challenge Part 1:\n",
    "# Return entries of each unique 'seller_id' associated with the\n",
    "# 'prodcuts' collection that have a \"Beauty\" tag. These entries should\n",
    "# have an attribute called 'beauty_product_seller_id' which is set\n",
    "# equal to the related 'seller_id' of the product.\n",
    "###\n",
    "# Example entry from cursor:\n",
    "# {'beauty_product_seller_id': ObjectId(...)}\n",
    "\n",
    "query_result = db.products.aggregate([\n",
    "    {\"$match\": {\"tags\": \"Beauty\"}},\n",
    "    {\"$group\": {\"_id\": \"$seller_id\"}\n",
    "     },\n",
    "    {\"$project\": {\"beauty_product_seller_id\": \"$_id\", \"_id\": 0}}\n",
    "])"
   ]
  },
  {
   "cell_type": "code",
   "execution_count": 60,
   "id": "79071a23",
   "metadata": {},
   "outputs": [
    {
     "name": "stdout",
     "output_type": "stream",
     "text": [
      "{'beauty_product_seller_id': ObjectId('66fbbbd37bad260de02d2213')}\n",
      "\n",
      "{'beauty_product_seller_id': ObjectId('66fbbbd37bad260de02d2214')}\n",
      "\n",
      "{'beauty_product_seller_id': ObjectId('66fbbbd37bad260de02d2210')}\n",
      "\n"
     ]
    }
   ],
   "source": [
    "# Print out your results\n",
    "print_cursor(query_result)"
   ]
  },
  {
   "cell_type": "code",
   "execution_count": 85,
   "id": "5c4eaeb3",
   "metadata": {},
   "outputs": [],
   "source": [
    "# Challenge Part 2:\n",
    "# Get an array of 'seller_id' attributes from products for each avaiable\n",
    "# 'tag' entry. Result entries should include a 'tag' attribute and a\n",
    "# 'seller_ids' attribute which is an array with all the 'seller_id'.\n",
    "###\n",
    "# Example entry from cursor:\n",
    "# {'tag': 'Kitchen',\"seller_ids\": [ObjectId(...)]}\n",
    "query_result = db.products.aggregate([\n",
    "    {\"$unwind\": \"$tags\"},\n",
    "    {\"$group\": {\"_id\": \"$tags\", \"seller_ids\": {\"$addToSet\": \"$seller_id\"}\n",
    "                }},\n",
    "    {\"$project\": {\"tag\": \"$_id\", \"_id\": 0, \"seller_ids\": \"$seller_ids\"}}\n",
    "])"
   ]
  },
  {
   "cell_type": "code",
   "execution_count": 86,
   "id": "47d98d2d",
   "metadata": {},
   "outputs": [
    {
     "name": "stdout",
     "output_type": "stream",
     "text": [
      "{'tag': 'Home', 'seller_ids': [ObjectId('66fbbbd37bad260de02d2210')]}\n",
      "\n",
      "{'tag': 'Beauty', 'seller_ids': [ObjectId('66fbbbd37bad260de02d2213'), ObjectId('66fbbbd37bad260de02d2210'), ObjectId('66fbbbd37bad260de02d2214')]}\n",
      "\n",
      "{'tag': 'Kitchen', 'seller_ids': [ObjectId('66fbbbd37bad260de02d2210')]}\n",
      "\n",
      "{'tag': 'Office', 'seller_ids': [ObjectId('66fbbbd37bad260de02d2211')]}\n",
      "\n",
      "{'tag': 'School', 'seller_ids': [ObjectId('66fbbbd37bad260de02d2211')]}\n",
      "\n"
     ]
    }
   ],
   "source": [
    "# Print out your results\n",
    "print_cursor(query_result)"
   ]
  },
  {
   "cell_type": "code",
   "execution_count": 97,
   "id": "ff0a980a",
   "metadata": {},
   "outputs": [],
   "source": [
    "# Challenge Part 3:\n",
    "# Display the number of unique seller ids there are for each availble\n",
    "# 'tag' for 'prodcuts'. Result entries should include a 'tag' attribute\n",
    "# and a 'num_sellers' attribute which is a integer. Sort by 'tag' name.\n",
    "###\n",
    "# Example entry from cursor:\n",
    "# {'tag': 'Kitchen',\"num_sellers\": 1}\n",
    "\n",
    "query_result = db.products.aggregate([\n",
    "    {\"$unwind\": \"$tags\"},\n",
    "    {\"$group\": {\"_id\": \"$tags\", \"seller_id\": {\"$addToSet\": \"$seller_id\"}}},\n",
    "    {\"$project\": {\"tag\": \"$_id\", \"num_sellers\": {\"$size\": \"$seller_id\"}, \"_id\": 0}},\n",
    "    {\"$sort\": {\"tag\": 1}}\n",
    "])"
   ]
  },
  {
   "cell_type": "code",
   "execution_count": 98,
   "id": "5bc3fe75",
   "metadata": {},
   "outputs": [
    {
     "name": "stdout",
     "output_type": "stream",
     "text": [
      "{'tag': 'Beauty', 'num_sellers': 3}\n",
      "\n",
      "{'tag': 'Home', 'num_sellers': 1}\n",
      "\n",
      "{'tag': 'Kitchen', 'num_sellers': 1}\n",
      "\n",
      "{'tag': 'Office', 'num_sellers': 1}\n",
      "\n",
      "{'tag': 'School', 'num_sellers': 1}\n",
      "\n"
     ]
    }
   ],
   "source": [
    "# Print out your results\n",
    "print_cursor(query_result)"
   ]
  },
  {
   "cell_type": "code",
   "execution_count": null,
   "id": "49e72bb3",
   "metadata": {},
   "outputs": [],
   "source": []
  }
 ],
 "metadata": {
  "kernelspec": {
   "display_name": "Python 3 (ipykernel)",
   "language": "python",
   "name": "python3"
  },
  "language_info": {
   "codemirror_mode": {
    "name": "ipython",
    "version": 3
   },
   "file_extension": ".py",
   "mimetype": "text/x-python",
   "name": "python",
   "nbconvert_exporter": "python",
   "pygments_lexer": "ipython3",
   "version": "3.12.5"
  }
 },
 "nbformat": 4,
 "nbformat_minor": 5
}
