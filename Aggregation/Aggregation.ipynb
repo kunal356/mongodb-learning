{
 "cells": [
  {
   "cell_type": "markdown",
   "id": "34176bb0",
   "metadata": {},
   "source": [
    "# MongoDB Aggregation Pipeline In Python\n",
    "\n",
    "Learn about the various stages and configurations you can create to configure an Aggregation Pipeline\n",
    "\n",
    "Stages: [match](#match), [project](#project), [unset](#unset), [limit](#limit), [skip](#skip), [sort](#sort), [count](#count), [sortByCount](#sortByCount), [unwind](#unwind), [group](#group), [addFields](#addFields), [sample](#sample), [lookup](#lookup), [unionWith](#unionWith), [out](#out), [merge](#merge)\n",
    "\n",
    "Operators: [size](<#size-(operator)>), [in](<#in-(operator)>), [arrayElemAt](<#arrayElemAt-(operator)>), [first](<#first-(operator)>), [count](<#count-(accumulator-operator)>), [sum](<#sum-(accumulator-operator)>), [first, last](<#first,-last-(accumulator-operators)>), [push](<#push-(accumulator-operator)>), [addToSet](<#addToSet-(accumulator-operator)>), [regexMatch](<#regexMatch-(operator)>), [cond](<#cond-(operator)>), [Date](#Date-Operators), [expr](<#expr-(operator)>), [ifNull](<#ifNull-(operator)>), [type](<#type-(operator)>), [switch](<#switch-(operator)>)\n"
   ]
  },
  {
   "cell_type": "code",
   "execution_count": 1,
   "id": "7ec67890",
   "metadata": {},
   "outputs": [],
   "source": [
    "from pymongo import MongoClient"
   ]
  },
  {
   "cell_type": "code",
   "execution_count": 2,
   "id": "2989084b",
   "metadata": {},
   "outputs": [],
   "source": [
    "mongodb_uri = \"mongodb://localhost:27017/\"\n",
    "db_name = \"aggregation_test\""
   ]
  },
  {
   "cell_type": "code",
   "execution_count": 3,
   "id": "adeb6e53",
   "metadata": {},
   "outputs": [],
   "source": [
    "client = MongoClient(mongodb_uri)\n",
    "db = client[db_name]"
   ]
  },
  {
   "cell_type": "markdown",
   "id": "6b961009",
   "metadata": {},
   "source": [
    "### Helper Function\n"
   ]
  },
  {
   "cell_type": "code",
   "execution_count": 4,
   "id": "4fb93ffb",
   "metadata": {},
   "outputs": [],
   "source": [
    "def print_cursor(cursor):\n",
    "    for document in cursor:\n",
    "        print(document, end=\"\\n\\n\")"
   ]
  },
  {
   "cell_type": "markdown",
   "id": "79b6911e",
   "metadata": {},
   "source": [
    "### Inserting Some Sample Data\n"
   ]
  },
  {
   "cell_type": "code",
   "execution_count": 6,
   "id": "69cea02e",
   "metadata": {},
   "outputs": [
    {
     "name": "stdout",
     "output_type": "stream",
     "text": [
      "Done\n"
     ]
    }
   ],
   "source": [
    "import insert_aggregation_sample_data as iasd\n",
    "iasd.insert_data(mongodb_uri, db_name)"
   ]
  },
  {
   "cell_type": "markdown",
   "id": "3a0dd88d",
   "metadata": {},
   "source": [
    "### match\n"
   ]
  },
  {
   "cell_type": "code",
   "execution_count": 11,
   "id": "d7493e3f",
   "metadata": {},
   "outputs": [],
   "source": [
    "match_cursor = db.products.aggregate([\n",
    "    {\"$match\": {\"name\": \"Pens\"}}\n",
    "])"
   ]
  },
  {
   "cell_type": "code",
   "execution_count": 12,
   "id": "7b1f153f",
   "metadata": {},
   "outputs": [
    {
     "name": "stdout",
     "output_type": "stream",
     "text": [
      "{'_id': ObjectId('66fbbbd37bad260de02d2218'), 'name': 'Pens', 'seller_id': ObjectId('66fbbbd37bad260de02d2211'), 'tags': ['Office', 'School']}\n",
      "\n"
     ]
    }
   ],
   "source": [
    "print_cursor(match_cursor)"
   ]
  },
  {
   "cell_type": "code",
   "execution_count": 9,
   "id": "5ea2ca69",
   "metadata": {},
   "outputs": [],
   "source": [
    "match_cursor = db.products.aggregate(\n",
    "    [\n",
    "        {\"$match\": {\"$or\":\n",
    "                    [\n",
    "                        {\"tags\": \"Beauty\"},\n",
    "                        {\"tags\": \"Home\"}\n",
    "                    ]\n",
    "                    }}\n",
    "    ]\n",
    ")"
   ]
  },
  {
   "cell_type": "code",
   "execution_count": 10,
   "id": "75dc6b7a",
   "metadata": {},
   "outputs": [
    {
     "name": "stdout",
     "output_type": "stream",
     "text": [
      "{'_id': ObjectId('66fbbbd37bad260de02d2216'), 'name': 'Mug', 'seller_id': ObjectId('66fbbbd37bad260de02d2210'), 'tags': ['Home', 'Kitchen']}\n",
      "\n",
      "{'_id': ObjectId('66fbbbd37bad260de02d2217'), 'name': 'Moisturizer', 'seller_id': ObjectId('66fbbbd37bad260de02d2210'), 'tags': ['Beauty']}\n",
      "\n",
      "{'_id': ObjectId('66fbbbd37bad260de02d2219'), 'name': 'Face Cleanser', 'seller_id': ObjectId('66fbbbd37bad260de02d2210'), 'tags': ['Beauty']}\n",
      "\n",
      "{'_id': ObjectId('66fbbbd37bad260de02d221a'), 'name': 'Concealer Makeup', 'seller_id': ObjectId('66fbbbd37bad260de02d2213'), 'tags': ['Beauty']}\n",
      "\n",
      "{'_id': ObjectId('66fbbbd37bad260de02d221b'), 'name': 'Eyeliner', 'seller_id': ObjectId('66fbbbd37bad260de02d2214'), 'tags': ['Beauty']}\n",
      "\n"
     ]
    }
   ],
   "source": [
    "print_cursor(match_cursor)"
   ]
  },
  {
   "cell_type": "markdown",
   "id": "ac3ca0e0",
   "metadata": {},
   "source": [
    "### project\n"
   ]
  },
  {
   "cell_type": "code",
   "execution_count": 13,
   "id": "87a954d8",
   "metadata": {},
   "outputs": [],
   "source": [
    "project_cursor = db.products.aggregate([\n",
    "    {\"$project\": {\n",
    "        \"_id\": 0,\n",
    "        \"produc_name\": \"$name\",\n",
    "        \"tags\": 1\n",
    "    }}\n",
    "])"
   ]
  },
  {
   "cell_type": "code",
   "execution_count": 14,
   "id": "b623aea9",
   "metadata": {},
   "outputs": [
    {
     "name": "stdout",
     "output_type": "stream",
     "text": [
      "{'tags': ['Home', 'Kitchen'], 'produc_name': 'Mug'}\n",
      "\n",
      "{'tags': ['Beauty'], 'produc_name': 'Moisturizer'}\n",
      "\n",
      "{'tags': ['Office', 'School'], 'produc_name': 'Pens'}\n",
      "\n",
      "{'tags': ['Beauty'], 'produc_name': 'Face Cleanser'}\n",
      "\n",
      "{'tags': ['Beauty'], 'produc_name': 'Concealer Makeup'}\n",
      "\n",
      "{'tags': ['Beauty'], 'produc_name': 'Eyeliner'}\n",
      "\n"
     ]
    }
   ],
   "source": [
    "print_cursor(project_cursor)"
   ]
  },
  {
   "cell_type": "code",
   "execution_count": 15,
   "id": "2a748591",
   "metadata": {},
   "outputs": [],
   "source": [
    "match_project_cursor = db.products.aggregate([\n",
    "    {\"$match\": {\"name\": \"Pens\"}},\n",
    "    {\"$project\": {\"_id\": 0, \"product_name\": \"$name\", \"tags\": 1}}\n",
    "])"
   ]
  },
  {
   "cell_type": "code",
   "execution_count": 16,
   "id": "13939e4a",
   "metadata": {},
   "outputs": [
    {
     "name": "stdout",
     "output_type": "stream",
     "text": [
      "{'tags': ['Office', 'School'], 'product_name': 'Pens'}\n",
      "\n"
     ]
    }
   ],
   "source": [
    "print_cursor(match_project_cursor)"
   ]
  },
  {
   "cell_type": "markdown",
   "id": "04882350",
   "metadata": {},
   "source": [
    "### unset\n"
   ]
  },
  {
   "cell_type": "code",
   "execution_count": 18,
   "id": "c32b98a0",
   "metadata": {},
   "outputs": [],
   "source": [
    "unset_cursor = db.products.aggregate([\n",
    "    {\"$unset\": [\"_id\", \"seller_id\"]}\n",
    "])"
   ]
  },
  {
   "cell_type": "code",
   "execution_count": 19,
   "id": "c12df64a",
   "metadata": {},
   "outputs": [
    {
     "name": "stdout",
     "output_type": "stream",
     "text": [
      "{'name': 'Mug', 'tags': ['Home', 'Kitchen']}\n",
      "\n",
      "{'name': 'Moisturizer', 'tags': ['Beauty']}\n",
      "\n",
      "{'name': 'Pens', 'tags': ['Office', 'School']}\n",
      "\n",
      "{'name': 'Face Cleanser', 'tags': ['Beauty']}\n",
      "\n",
      "{'name': 'Concealer Makeup', 'tags': ['Beauty']}\n",
      "\n",
      "{'name': 'Eyeliner', 'tags': ['Beauty']}\n",
      "\n"
     ]
    }
   ],
   "source": [
    "print_cursor(unset_cursor)"
   ]
  },
  {
   "cell_type": "code",
   "execution_count": 20,
   "id": "b7874852",
   "metadata": {},
   "outputs": [],
   "source": [
    "unset_cursor = db.products.aggregate([\n",
    "    {\"$match\": {\"name\": \"Pens\"}},\n",
    "    {\"$unset\": [\"_id\", \"seller_id\"]}\n",
    "])"
   ]
  },
  {
   "cell_type": "code",
   "execution_count": 21,
   "id": "cf04aeff",
   "metadata": {},
   "outputs": [
    {
     "name": "stdout",
     "output_type": "stream",
     "text": [
      "{'name': 'Pens', 'tags': ['Office', 'School']}\n",
      "\n"
     ]
    }
   ],
   "source": [
    "print_cursor(unset_cursor)"
   ]
  },
  {
   "cell_type": "markdown",
   "id": "8e7c4a5b",
   "metadata": {},
   "source": [
    "### limit\n"
   ]
  },
  {
   "cell_type": "code",
   "execution_count": 6,
   "id": "44b55947",
   "metadata": {},
   "outputs": [],
   "source": [
    "limit_cursor = db.products.aggregate([{\"$limit\": 3}])"
   ]
  },
  {
   "cell_type": "code",
   "execution_count": 7,
   "id": "23906526",
   "metadata": {},
   "outputs": [
    {
     "name": "stdout",
     "output_type": "stream",
     "text": [
      "{'_id': ObjectId('66fbbbd37bad260de02d2216'), 'name': 'Mug', 'seller_id': ObjectId('66fbbbd37bad260de02d2210'), 'tags': ['Home', 'Kitchen']}\n",
      "\n",
      "{'_id': ObjectId('66fbbbd37bad260de02d2217'), 'name': 'Moisturizer', 'seller_id': ObjectId('66fbbbd37bad260de02d2210'), 'tags': ['Beauty']}\n",
      "\n",
      "{'_id': ObjectId('66fbbbd37bad260de02d2218'), 'name': 'Pens', 'seller_id': ObjectId('66fbbbd37bad260de02d2211'), 'tags': ['Office', 'School']}\n",
      "\n"
     ]
    }
   ],
   "source": [
    "print_cursor(limit_cursor)"
   ]
  },
  {
   "cell_type": "markdown",
   "id": "faf134d5",
   "metadata": {},
   "source": [
    "### skip\n"
   ]
  },
  {
   "cell_type": "code",
   "execution_count": 8,
   "id": "ca13feb0",
   "metadata": {},
   "outputs": [],
   "source": [
    "skip_cursor = db.products.aggregate([{\"$skip\": 2}])"
   ]
  },
  {
   "cell_type": "code",
   "execution_count": 9,
   "id": "ab0b19d8",
   "metadata": {},
   "outputs": [
    {
     "name": "stdout",
     "output_type": "stream",
     "text": [
      "{'_id': ObjectId('66fbbbd37bad260de02d2218'), 'name': 'Pens', 'seller_id': ObjectId('66fbbbd37bad260de02d2211'), 'tags': ['Office', 'School']}\n",
      "\n",
      "{'_id': ObjectId('66fbbbd37bad260de02d2219'), 'name': 'Face Cleanser', 'seller_id': ObjectId('66fbbbd37bad260de02d2210'), 'tags': ['Beauty']}\n",
      "\n",
      "{'_id': ObjectId('66fbbbd37bad260de02d221a'), 'name': 'Concealer Makeup', 'seller_id': ObjectId('66fbbbd37bad260de02d2213'), 'tags': ['Beauty']}\n",
      "\n",
      "{'_id': ObjectId('66fbbbd37bad260de02d221b'), 'name': 'Eyeliner', 'seller_id': ObjectId('66fbbbd37bad260de02d2214'), 'tags': ['Beauty']}\n",
      "\n"
     ]
    }
   ],
   "source": [
    "print_cursor(skip_cursor)"
   ]
  },
  {
   "cell_type": "code",
   "execution_count": 15,
   "id": "56973212",
   "metadata": {},
   "outputs": [],
   "source": [
    "limit_and_skip_cursor = db.products.aggregate([\n",
    "    {\"$skip\": 2},\n",
    "    {\"$limit\": 3}\n",
    "])"
   ]
  },
  {
   "cell_type": "code",
   "execution_count": 16,
   "id": "e2d2ffdf",
   "metadata": {},
   "outputs": [
    {
     "name": "stdout",
     "output_type": "stream",
     "text": [
      "{'_id': ObjectId('66fbbbd37bad260de02d2218'), 'name': 'Pens', 'seller_id': ObjectId('66fbbbd37bad260de02d2211'), 'tags': ['Office', 'School']}\n",
      "\n",
      "{'_id': ObjectId('66fbbbd37bad260de02d2219'), 'name': 'Face Cleanser', 'seller_id': ObjectId('66fbbbd37bad260de02d2210'), 'tags': ['Beauty']}\n",
      "\n",
      "{'_id': ObjectId('66fbbbd37bad260de02d221a'), 'name': 'Concealer Makeup', 'seller_id': ObjectId('66fbbbd37bad260de02d2213'), 'tags': ['Beauty']}\n",
      "\n"
     ]
    }
   ],
   "source": [
    "print_cursor(limit_and_skip_cursor)"
   ]
  },
  {
   "cell_type": "markdown",
   "id": "cf3cfd7e",
   "metadata": {},
   "source": [
    "### sort\n"
   ]
  },
  {
   "cell_type": "code",
   "execution_count": 17,
   "id": "66868355",
   "metadata": {},
   "outputs": [],
   "source": [
    "sort_cursor = db.products.aggregate([\n",
    "    {\"$sort\": {\"name\": 1}}\n",
    "])"
   ]
  },
  {
   "cell_type": "code",
   "execution_count": 18,
   "id": "b3673dc2",
   "metadata": {},
   "outputs": [
    {
     "name": "stdout",
     "output_type": "stream",
     "text": [
      "{'_id': ObjectId('66fbbbd37bad260de02d221a'), 'name': 'Concealer Makeup', 'seller_id': ObjectId('66fbbbd37bad260de02d2213'), 'tags': ['Beauty']}\n",
      "\n",
      "{'_id': ObjectId('66fbbbd37bad260de02d221b'), 'name': 'Eyeliner', 'seller_id': ObjectId('66fbbbd37bad260de02d2214'), 'tags': ['Beauty']}\n",
      "\n",
      "{'_id': ObjectId('66fbbbd37bad260de02d2219'), 'name': 'Face Cleanser', 'seller_id': ObjectId('66fbbbd37bad260de02d2210'), 'tags': ['Beauty']}\n",
      "\n",
      "{'_id': ObjectId('66fbbbd37bad260de02d2217'), 'name': 'Moisturizer', 'seller_id': ObjectId('66fbbbd37bad260de02d2210'), 'tags': ['Beauty']}\n",
      "\n",
      "{'_id': ObjectId('66fbbbd37bad260de02d2216'), 'name': 'Mug', 'seller_id': ObjectId('66fbbbd37bad260de02d2210'), 'tags': ['Home', 'Kitchen']}\n",
      "\n",
      "{'_id': ObjectId('66fbbbd37bad260de02d2218'), 'name': 'Pens', 'seller_id': ObjectId('66fbbbd37bad260de02d2211'), 'tags': ['Office', 'School']}\n",
      "\n"
     ]
    }
   ],
   "source": [
    "print_cursor(sort_cursor)"
   ]
  },
  {
   "cell_type": "markdown",
   "id": "cc603160",
   "metadata": {},
   "source": [
    "### count\n"
   ]
  },
  {
   "cell_type": "code",
   "execution_count": 32,
   "id": "e614928f",
   "metadata": {},
   "outputs": [],
   "source": [
    "count_cursor = db.products.aggregate([\n",
    "    {\"$match\": {\"tags\": \"Beauty\"}},\n",
    "    {\"$count\": \"beauty_products_count\"}\n",
    "])"
   ]
  },
  {
   "cell_type": "code",
   "execution_count": 33,
   "id": "f808edf7",
   "metadata": {},
   "outputs": [
    {
     "name": "stdout",
     "output_type": "stream",
     "text": [
      "{'beauty_products_count': 4}\n",
      "\n"
     ]
    }
   ],
   "source": [
    "print_cursor(count_cursor)"
   ]
  },
  {
   "cell_type": "markdown",
   "id": "bb13a6bf",
   "metadata": {},
   "source": [
    "### sortByCount\n"
   ]
  },
  {
   "cell_type": "code",
   "execution_count": 30,
   "id": "33fb709e",
   "metadata": {},
   "outputs": [],
   "source": [
    "sort_by_count_cursor = db.products.aggregate([\n",
    "    {\"$sortByCount\": \"$tags\"}\n",
    "])"
   ]
  },
  {
   "cell_type": "code",
   "execution_count": 31,
   "id": "831dbce5",
   "metadata": {},
   "outputs": [
    {
     "name": "stdout",
     "output_type": "stream",
     "text": [
      "{'_id': 'Beauty', 'count': 4}\n",
      "\n",
      "{'_id': 'Office', 'count': 1}\n",
      "\n",
      "{'_id': 'School', 'count': 1}\n",
      "\n",
      "{'_id': 'Kitchen', 'count': 1}\n",
      "\n",
      "{'_id': 'Home', 'count': 1}\n",
      "\n"
     ]
    }
   ],
   "source": [
    "print_cursor(sort_by_count_cursor)"
   ]
  },
  {
   "cell_type": "markdown",
   "id": "513b1fda",
   "metadata": {},
   "source": [
    "### size (operator)\n"
   ]
  },
  {
   "cell_type": "code",
   "execution_count": 44,
   "id": "bf97ff8f",
   "metadata": {},
   "outputs": [],
   "source": [
    "size_cursor = db.products.aggregate([\n",
    "    {\"$project\":\n",
    "     {\n",
    "         \"_id\": 0,\n",
    "         \"name\": 1,\n",
    "         \"num_tags\": {\"$size\": \"$tags\"}}\n",
    "     }\n",
    "])"
   ]
  },
  {
   "cell_type": "code",
   "execution_count": 45,
   "id": "ec03239c",
   "metadata": {},
   "outputs": [
    {
     "name": "stdout",
     "output_type": "stream",
     "text": [
      "{'name': 'Mug', 'num_tags': 2}\n",
      "\n",
      "{'name': 'Moisturizer', 'num_tags': 1}\n",
      "\n",
      "{'name': 'Pens', 'num_tags': 2}\n",
      "\n",
      "{'name': 'Face Cleanser', 'num_tags': 1}\n",
      "\n",
      "{'name': 'Concealer Makeup', 'num_tags': 1}\n",
      "\n",
      "{'name': 'Eyeliner', 'num_tags': 1}\n",
      "\n"
     ]
    }
   ],
   "source": [
    "print_cursor(size_cursor)"
   ]
  },
  {
   "cell_type": "markdown",
   "id": "68aace6a",
   "metadata": {},
   "source": [
    "### in (operator)\n"
   ]
  },
  {
   "cell_type": "code",
   "execution_count": 52,
   "id": "c72ad1c9",
   "metadata": {},
   "outputs": [],
   "source": [
    "project_cursor = db.products.aggregate([\n",
    "    {\"$project\":\n",
    "     {\"_id\": 0,\n",
    "      \"name\": 1,\n",
    "      \"is_beauty_product\":\n",
    "      {\"$in\": [\"Beauty\", \"$tags\"]},\n",
    "      \"tags\": \"$tags\"\n",
    "      }\n",
    "     }\n",
    "])"
   ]
  },
  {
   "cell_type": "code",
   "execution_count": 53,
   "id": "65541099",
   "metadata": {},
   "outputs": [
    {
     "name": "stdout",
     "output_type": "stream",
     "text": [
      "{'name': 'Mug', 'is_beauty_product': False, 'tags': ['Home', 'Kitchen']}\n",
      "\n",
      "{'name': 'Moisturizer', 'is_beauty_product': True, 'tags': ['Beauty']}\n",
      "\n",
      "{'name': 'Pens', 'is_beauty_product': False, 'tags': ['Office', 'School']}\n",
      "\n",
      "{'name': 'Face Cleanser', 'is_beauty_product': True, 'tags': ['Beauty']}\n",
      "\n",
      "{'name': 'Concealer Makeup', 'is_beauty_product': True, 'tags': ['Beauty']}\n",
      "\n",
      "{'name': 'Eyeliner', 'is_beauty_product': True, 'tags': ['Beauty']}\n",
      "\n"
     ]
    }
   ],
   "source": [
    "print_cursor(project_cursor)"
   ]
  },
  {
   "cell_type": "markdown",
   "id": "263b898e",
   "metadata": {},
   "source": [
    "### arrayElemAt (operator)\n"
   ]
  },
  {
   "cell_type": "code",
   "execution_count": 60,
   "id": "b922b021",
   "metadata": {},
   "outputs": [],
   "source": [
    "object_cursor = db.products.aggregate([\n",
    "    {\"$project\": {\n",
    "        \"_id\": 0,\n",
    "        \"name\": 1,\n",
    "        \"first_tag\": {\"$arrayElemAt\": [\"$tags\", 0]},\n",
    "        \"tags\": \"$tags\"\n",
    "    }}\n",
    "])"
   ]
  },
  {
   "cell_type": "code",
   "execution_count": 61,
   "id": "4ecd4cbc",
   "metadata": {},
   "outputs": [
    {
     "name": "stdout",
     "output_type": "stream",
     "text": [
      "{'name': 'Mug', 'first_tag': 'Home', 'tags': ['Home', 'Kitchen']}\n",
      "\n",
      "{'name': 'Moisturizer', 'first_tag': 'Beauty', 'tags': ['Beauty']}\n",
      "\n",
      "{'name': 'Pens', 'first_tag': 'Office', 'tags': ['Office', 'School']}\n",
      "\n",
      "{'name': 'Face Cleanser', 'first_tag': 'Beauty', 'tags': ['Beauty']}\n",
      "\n",
      "{'name': 'Concealer Makeup', 'first_tag': 'Beauty', 'tags': ['Beauty']}\n",
      "\n",
      "{'name': 'Eyeliner', 'first_tag': 'Beauty', 'tags': ['Beauty']}\n",
      "\n"
     ]
    }
   ],
   "source": [
    "print_cursor(object_cursor)"
   ]
  },
  {
   "cell_type": "markdown",
   "id": "5e043b40",
   "metadata": {},
   "source": [
    "### first (operator)\n"
   ]
  },
  {
   "cell_type": "code",
   "execution_count": 62,
   "id": "e191bf85",
   "metadata": {},
   "outputs": [],
   "source": [
    "object_cursor = db.products.aggregate([\n",
    "    {\"$project\": {\n",
    "        \"_id\": 0,\n",
    "        \"name\": 1,\n",
    "        \"first_tag\": {\"$first\": \"$tags\"},\n",
    "        \"tags\": \"$tags\"\n",
    "    }}\n",
    "])"
   ]
  },
  {
   "cell_type": "code",
   "execution_count": 63,
   "id": "73782dc1",
   "metadata": {},
   "outputs": [
    {
     "name": "stdout",
     "output_type": "stream",
     "text": [
      "{'name': 'Mug', 'first_tag': 'Home', 'tags': ['Home', 'Kitchen']}\n",
      "\n",
      "{'name': 'Moisturizer', 'first_tag': 'Beauty', 'tags': ['Beauty']}\n",
      "\n",
      "{'name': 'Pens', 'first_tag': 'Office', 'tags': ['Office', 'School']}\n",
      "\n",
      "{'name': 'Face Cleanser', 'first_tag': 'Beauty', 'tags': ['Beauty']}\n",
      "\n",
      "{'name': 'Concealer Makeup', 'first_tag': 'Beauty', 'tags': ['Beauty']}\n",
      "\n",
      "{'name': 'Eyeliner', 'first_tag': 'Beauty', 'tags': ['Beauty']}\n",
      "\n"
     ]
    }
   ],
   "source": [
    "print_cursor(object_cursor)"
   ]
  },
  {
   "cell_type": "markdown",
   "id": "30e68ea2",
   "metadata": {},
   "source": [
    "### unwind\n"
   ]
  },
  {
   "cell_type": "code",
   "execution_count": 70,
   "id": "f37aef64",
   "metadata": {},
   "outputs": [],
   "source": [
    "unwind_cursor = db.products.aggregate([\n",
    "    {\"$unwind\": \"$tags\"},\n",
    "    {\"$unset\": [\"_id\", \"seller_id\"]}\n",
    "])"
   ]
  },
  {
   "cell_type": "code",
   "execution_count": 71,
   "id": "20b9532b",
   "metadata": {},
   "outputs": [
    {
     "name": "stdout",
     "output_type": "stream",
     "text": [
      "{'name': 'Mug', 'tags': 'Home'}\n",
      "\n",
      "{'name': 'Mug', 'tags': 'Kitchen'}\n",
      "\n",
      "{'name': 'Moisturizer', 'tags': 'Beauty'}\n",
      "\n",
      "{'name': 'Pens', 'tags': 'Office'}\n",
      "\n",
      "{'name': 'Pens', 'tags': 'School'}\n",
      "\n",
      "{'name': 'Face Cleanser', 'tags': 'Beauty'}\n",
      "\n",
      "{'name': 'Concealer Makeup', 'tags': 'Beauty'}\n",
      "\n",
      "{'name': 'Eyeliner', 'tags': 'Beauty'}\n",
      "\n"
     ]
    }
   ],
   "source": [
    "print_cursor(unwind_cursor)"
   ]
  },
  {
   "cell_type": "code",
   "execution_count": 80,
   "id": "1f446f99",
   "metadata": {},
   "outputs": [],
   "source": [
    "unwind_cursor = db.orders.aggregate([\n",
    "    {\"$unwind\": \"$items\"},\n",
    "    {\"$unset\": \"_id\"}\n",
    "])"
   ]
  },
  {
   "cell_type": "code",
   "execution_count": 81,
   "id": "fbafd26b",
   "metadata": {},
   "outputs": [
    {
     "name": "stdout",
     "output_type": "stream",
     "text": [
      "{'items': {'product_id': ObjectId('66fbbbd37bad260de02d2217'), 'quantity': 1}}\n",
      "\n",
      "{'items': {'product_id': ObjectId('66fbbbd37bad260de02d2219'), 'quantity': 1}}\n",
      "\n",
      "{'items': {'product_id': ObjectId('66fbbbd37bad260de02d221a'), 'quantity': 1}}\n",
      "\n",
      "{'items': {'product_id': ObjectId('66fbbbd37bad260de02d221b'), 'quantity': 1}}\n",
      "\n",
      "{'items': {'product_id': ObjectId('66fbbbd37bad260de02d2218'), 'quantity': 5}}\n",
      "\n",
      "{'items': {'product_id': ObjectId('66fbbbd37bad260de02d2216'), 'quantity': 1}}\n",
      "\n",
      "{'items': {'product_id': ObjectId('66fbbbd37bad260de02d2217'), 'quantity': 2}}\n",
      "\n",
      "{'items': {'product_id': ObjectId('66fbbbd37bad260de02d221b'), 'quantity': 1}}\n",
      "\n",
      "{'items': {'product_id': ObjectId('66fbbbd37bad260de02d2217'), 'quantity': 1}}\n",
      "\n",
      "{'items': {'product_id': ObjectId('66fbbbd37bad260de02d2219'), 'quantity': 1}}\n",
      "\n"
     ]
    }
   ],
   "source": [
    "print_cursor(unwind_cursor)"
   ]
  },
  {
   "cell_type": "code",
   "execution_count": 75,
   "id": "cfee9b2c",
   "metadata": {},
   "outputs": [],
   "source": [
    "unwind_cursor = db.products.aggregate([\n",
    "    {\"$match\": {\"tags\": {\"$size\": 2}}},\n",
    "    {\"$unwind\": {\"path\": \"$tags\", \"includeArrayIndex\": \"tag_index\"}},\n",
    "    {\"$unset\": [\"_id\", \"seller_id\"]}\n",
    "])"
   ]
  },
  {
   "cell_type": "code",
   "execution_count": 76,
   "id": "7d3b058a",
   "metadata": {},
   "outputs": [
    {
     "name": "stdout",
     "output_type": "stream",
     "text": [
      "{'name': 'Mug', 'tags': 'Home', 'tag_index': 0}\n",
      "\n",
      "{'name': 'Mug', 'tags': 'Kitchen', 'tag_index': 1}\n",
      "\n",
      "{'name': 'Pens', 'tags': 'Office', 'tag_index': 0}\n",
      "\n",
      "{'name': 'Pens', 'tags': 'School', 'tag_index': 1}\n",
      "\n"
     ]
    }
   ],
   "source": [
    "print_cursor(unwind_cursor)"
   ]
  },
  {
   "cell_type": "markdown",
   "id": "ec99a04c",
   "metadata": {},
   "source": [
    "### group\n"
   ]
  },
  {
   "cell_type": "code",
   "execution_count": 84,
   "id": "edf6c924",
   "metadata": {},
   "outputs": [],
   "source": [
    "group_cursor = db.products.aggregate([\n",
    "    {\n",
    "        \"$group\":\n",
    "        {\n",
    "            \"_id\": \"$tags\"\n",
    "\n",
    "        }\n",
    "    }\n",
    "])"
   ]
  },
  {
   "cell_type": "code",
   "execution_count": 85,
   "id": "385e48e6",
   "metadata": {},
   "outputs": [
    {
     "name": "stdout",
     "output_type": "stream",
     "text": [
      "{'_id': ['Beauty']}\n",
      "\n",
      "{'_id': ['Office', 'School']}\n",
      "\n",
      "{'_id': ['Home', 'Kitchen']}\n",
      "\n"
     ]
    }
   ],
   "source": [
    "print_cursor(group_cursor)"
   ]
  },
  {
   "cell_type": "code",
   "execution_count": 86,
   "id": "3d87ee6c",
   "metadata": {},
   "outputs": [],
   "source": [
    "group_cursor = db.products.aggregate([\n",
    "    {\"$unwind\": \"$tags\"},\n",
    "    {\n",
    "        \"$group\":\n",
    "        {\n",
    "            \"_id\": \"$tags\"\n",
    "\n",
    "        }\n",
    "    }\n",
    "])"
   ]
  },
  {
   "cell_type": "code",
   "execution_count": 87,
   "id": "d7920d0a",
   "metadata": {},
   "outputs": [
    {
     "name": "stdout",
     "output_type": "stream",
     "text": [
      "{'_id': 'Office'}\n",
      "\n",
      "{'_id': 'Beauty'}\n",
      "\n",
      "{'_id': 'School'}\n",
      "\n",
      "{'_id': 'Home'}\n",
      "\n",
      "{'_id': 'Kitchen'}\n",
      "\n"
     ]
    }
   ],
   "source": [
    "print_cursor(group_cursor)"
   ]
  },
  {
   "cell_type": "markdown",
   "id": "a279c576",
   "metadata": {},
   "source": [
    "### count (accumulator operator)\n"
   ]
  },
  {
   "cell_type": "code",
   "execution_count": 88,
   "id": "5b87d6a7",
   "metadata": {},
   "outputs": [],
   "source": [
    "group_cursor = db.products.aggregate([\n",
    "    {\"$group\": {\"_id\": \"$tags\",\n",
    "                \"num_entries\": {\"$count\": {}}\n",
    "                }\n",
    "     }\n",
    "])"
   ]
  },
  {
   "cell_type": "code",
   "execution_count": 89,
   "id": "ecaa3279",
   "metadata": {},
   "outputs": [
    {
     "name": "stdout",
     "output_type": "stream",
     "text": [
      "{'_id': ['Home', 'Kitchen'], 'num_entries': 1}\n",
      "\n",
      "{'_id': ['Beauty'], 'num_entries': 4}\n",
      "\n",
      "{'_id': ['Office', 'School'], 'num_entries': 1}\n",
      "\n"
     ]
    }
   ],
   "source": [
    "print_cursor(group_cursor)"
   ]
  },
  {
   "cell_type": "markdown",
   "id": "3bcb34b4",
   "metadata": {},
   "source": [
    "### sum (accumulator operator)\n"
   ]
  },
  {
   "cell_type": "code",
   "execution_count": 90,
   "id": "9e9b9428",
   "metadata": {},
   "outputs": [],
   "source": [
    "group_cursor = db.orders.aggregate(\n",
    "    [\n",
    "        {\"$unwind\": \"$items\"},\n",
    "        {\n",
    "            \"$group\": {\n",
    "                \"_id\": \"$items.product_id\",\n",
    "                \"total_quantity\": {\"$sum\": \"$items.quantity\"}\n",
    "            }\n",
    "        }\n",
    "    ]\n",
    ")"
   ]
  },
  {
   "cell_type": "code",
   "execution_count": 91,
   "id": "483e0fa9",
   "metadata": {},
   "outputs": [
    {
     "name": "stdout",
     "output_type": "stream",
     "text": [
      "{'_id': ObjectId('66fbbbd37bad260de02d221a'), 'total_quantity': 1}\n",
      "\n",
      "{'_id': ObjectId('66fbbbd37bad260de02d2216'), 'total_quantity': 1}\n",
      "\n",
      "{'_id': ObjectId('66fbbbd37bad260de02d221b'), 'total_quantity': 2}\n",
      "\n",
      "{'_id': ObjectId('66fbbbd37bad260de02d2217'), 'total_quantity': 4}\n",
      "\n",
      "{'_id': ObjectId('66fbbbd37bad260de02d2219'), 'total_quantity': 2}\n",
      "\n",
      "{'_id': ObjectId('66fbbbd37bad260de02d2218'), 'total_quantity': 5}\n",
      "\n"
     ]
    }
   ],
   "source": [
    "print_cursor(group_cursor)"
   ]
  },
  {
   "cell_type": "markdown",
   "id": "00e61049",
   "metadata": {},
   "source": [
    "### first, last (accumulator operators)\n"
   ]
  },
  {
   "cell_type": "code",
   "execution_count": 92,
   "id": "eb92e8a1",
   "metadata": {},
   "outputs": [],
   "source": [
    "group_cursor = db.products.aggregate([\n",
    "    {\"$group\": {\n",
    "        \"_id\": \"$tags\",\n",
    "        \"num_entries\": {\"$count\": {}},\n",
    "        \"first\": {\"$first\": \"$name\"},\n",
    "        \"last\": {\"$last\": \"$name\"}\n",
    "        }\n",
    "    }\n",
    "])"
   ]
  },
  {
   "cell_type": "code",
   "execution_count": 93,
   "id": "96daac5e",
   "metadata": {},
   "outputs": [
    {
     "name": "stdout",
     "output_type": "stream",
     "text": [
      "{'_id': ['Beauty'], 'num_entries': 4, 'first': 'Moisturizer', 'last': 'Eyeliner'}\n",
      "\n",
      "{'_id': ['Home', 'Kitchen'], 'num_entries': 1, 'first': 'Mug', 'last': 'Mug'}\n",
      "\n",
      "{'_id': ['Office', 'School'], 'num_entries': 1, 'first': 'Pens', 'last': 'Pens'}\n",
      "\n"
     ]
    }
   ],
   "source": [
    "print_cursor(group_cursor)"
   ]
  },
  {
   "cell_type": "markdown",
   "id": "5995ad84",
   "metadata": {},
   "source": [
    "### push (accumulator operator)\n"
   ]
  },
  {
   "cell_type": "code",
   "execution_count": 94,
   "id": "96d2b785",
   "metadata": {},
   "outputs": [],
   "source": [
    "group_cursor = db.products.aggregate([\n",
    "    {\n",
    "        \"$group\": {\n",
    "            \"_id\": \"$tags\",\n",
    "            \"products\": {\"$push\": \"$name\"}\n",
    "        }\n",
    "    }\n",
    "])"
   ]
  },
  {
   "cell_type": "code",
   "execution_count": 95,
   "id": "30ac5920",
   "metadata": {
    "scrolled": true
   },
   "outputs": [
    {
     "name": "stdout",
     "output_type": "stream",
     "text": [
      "{'_id': ['Home', 'Kitchen'], 'products': ['Mug']}\n",
      "\n",
      "{'_id': ['Beauty'], 'products': ['Moisturizer', 'Face Cleanser', 'Concealer Makeup', 'Eyeliner']}\n",
      "\n",
      "{'_id': ['Office', 'School'], 'products': ['Pens']}\n",
      "\n"
     ]
    }
   ],
   "source": [
    "print_cursor(group_cursor)"
   ]
  },
  {
   "cell_type": "markdown",
   "id": "3ed8a264",
   "metadata": {},
   "source": [
    "### addToSet (accumulator operator)\n"
   ]
  },
  {
   "cell_type": "code",
   "execution_count": 96,
   "id": "266f042d",
   "metadata": {},
   "outputs": [],
   "source": [
    "group_cursor = db.products.aggregate([\n",
    "    {\"$group\":\n",
    "     {\n",
    "         \"_id\": \"$tags\",\n",
    "         \"products\": {\"$addToSet\": \"$name\"}\n",
    "     }\n",
    "    }\n",
    "\n",
    "])"
   ]
  },
  {
   "cell_type": "code",
   "execution_count": 97,
   "id": "7178b7bb",
   "metadata": {},
   "outputs": [
    {
     "name": "stdout",
     "output_type": "stream",
     "text": [
      "{'_id': ['Home', 'Kitchen'], 'products': ['Mug']}\n",
      "\n",
      "{'_id': ['Beauty'], 'products': ['Face Cleanser', 'Moisturizer', 'Eyeliner', 'Concealer Makeup']}\n",
      "\n",
      "{'_id': ['Office', 'School'], 'products': ['Pens']}\n",
      "\n"
     ]
    }
   ],
   "source": [
    "print_cursor(group_cursor)"
   ]
  },
  {
   "cell_type": "code",
   "execution_count": 98,
   "id": "0056f6c5",
   "metadata": {},
   "outputs": [],
   "source": [
    "group_cursor = db.products.aggregate([\n",
    "    {\"$group\":\n",
    "     {\n",
    "         \"_id\": \"$tags\",\n",
    "         \"products\": {\"$addToSet\": \n",
    "                      {\"name\":\"$name\", \"seller_id\": \"$seller_id\"}\n",
    "                      }\n",
    "     }\n",
    "    }\n",
    "\n",
    "])"
   ]
  },
  {
   "cell_type": "code",
   "execution_count": 99,
   "id": "df475d04",
   "metadata": {},
   "outputs": [
    {
     "name": "stdout",
     "output_type": "stream",
     "text": [
      "{'_id': ['Beauty'], 'products': [{'name': 'Concealer Makeup', 'seller_id': ObjectId('66fbbbd37bad260de02d2213')}, {'name': 'Face Cleanser', 'seller_id': ObjectId('66fbbbd37bad260de02d2210')}, {'name': 'Moisturizer', 'seller_id': ObjectId('66fbbbd37bad260de02d2210')}, {'name': 'Eyeliner', 'seller_id': ObjectId('66fbbbd37bad260de02d2214')}]}\n",
      "\n",
      "{'_id': ['Office', 'School'], 'products': [{'name': 'Pens', 'seller_id': ObjectId('66fbbbd37bad260de02d2211')}]}\n",
      "\n",
      "{'_id': ['Home', 'Kitchen'], 'products': [{'name': 'Mug', 'seller_id': ObjectId('66fbbbd37bad260de02d2210')}]}\n",
      "\n"
     ]
    }
   ],
   "source": [
    "print_cursor(group_cursor)"
   ]
  },
  {
   "cell_type": "markdown",
   "id": "df3d0e92",
   "metadata": {},
   "source": [
    "### $$ROOT (system variable)\n"
   ]
  },
  {
   "cell_type": "code",
   "execution_count": 100,
   "id": "7a1ffb52",
   "metadata": {},
   "outputs": [],
   "source": [
    "group_cursor = db.products.aggregate([\n",
    "    {\"$group\":\n",
    "     {\n",
    "         \"_id\": \"$tags\",\n",
    "         \"products\": {\"$addToSet\": {\"addToSet\": \"$$ROOT\"}}\n",
    "     }\n",
    "    }\n",
    "\n",
    "])"
   ]
  },
  {
   "cell_type": "code",
   "execution_count": 101,
   "id": "f264acd9",
   "metadata": {},
   "outputs": [
    {
     "name": "stdout",
     "output_type": "stream",
     "text": [
      "{'_id': ['Beauty'], 'products': [{'addToSet': {'_id': ObjectId('66fbbbd37bad260de02d2217'), 'name': 'Moisturizer', 'seller_id': ObjectId('66fbbbd37bad260de02d2210'), 'tags': ['Beauty']}}, {'addToSet': {'_id': ObjectId('66fbbbd37bad260de02d221a'), 'name': 'Concealer Makeup', 'seller_id': ObjectId('66fbbbd37bad260de02d2213'), 'tags': ['Beauty']}}, {'addToSet': {'_id': ObjectId('66fbbbd37bad260de02d2219'), 'name': 'Face Cleanser', 'seller_id': ObjectId('66fbbbd37bad260de02d2210'), 'tags': ['Beauty']}}, {'addToSet': {'_id': ObjectId('66fbbbd37bad260de02d221b'), 'name': 'Eyeliner', 'seller_id': ObjectId('66fbbbd37bad260de02d2214'), 'tags': ['Beauty']}}]}\n",
      "\n",
      "{'_id': ['Office', 'School'], 'products': [{'addToSet': {'_id': ObjectId('66fbbbd37bad260de02d2218'), 'name': 'Pens', 'seller_id': ObjectId('66fbbbd37bad260de02d2211'), 'tags': ['Office', 'School']}}]}\n",
      "\n",
      "{'_id': ['Home', 'Kitchen'], 'products': [{'addToSet': {'_id': ObjectId('66fbbbd37bad260de02d2216'), 'name': 'Mug', 'seller_id': ObjectId('66fbbbd37bad260de02d2210'), 'tags': ['Home', 'Kitchen']}}]}\n",
      "\n"
     ]
    }
   ],
   "source": [
    "print_cursor(group_cursor)"
   ]
  },
  {
   "cell_type": "markdown",
   "id": "daff72dd",
   "metadata": {},
   "source": [
    "### addFields\n"
   ]
  },
  {
   "cell_type": "code",
   "execution_count": null,
   "id": "5561e4d6",
   "metadata": {},
   "outputs": [],
   "source": []
  },
  {
   "cell_type": "code",
   "execution_count": null,
   "id": "2ac712f7",
   "metadata": {},
   "outputs": [],
   "source": []
  },
  {
   "cell_type": "markdown",
   "id": "400e3fb1",
   "metadata": {},
   "source": [
    "### sample\n"
   ]
  },
  {
   "cell_type": "code",
   "execution_count": null,
   "id": "84e27037",
   "metadata": {},
   "outputs": [],
   "source": []
  },
  {
   "cell_type": "code",
   "execution_count": null,
   "id": "cfa54a18",
   "metadata": {},
   "outputs": [],
   "source": []
  },
  {
   "cell_type": "markdown",
   "id": "d262c1bd",
   "metadata": {},
   "source": [
    "### lookup\n"
   ]
  },
  {
   "cell_type": "code",
   "execution_count": null,
   "id": "3450bbd7",
   "metadata": {},
   "outputs": [],
   "source": []
  },
  {
   "cell_type": "code",
   "execution_count": null,
   "id": "ea3e519a",
   "metadata": {},
   "outputs": [],
   "source": []
  },
  {
   "cell_type": "code",
   "execution_count": null,
   "id": "16b18ef3",
   "metadata": {},
   "outputs": [],
   "source": []
  },
  {
   "cell_type": "code",
   "execution_count": null,
   "id": "041ee45b",
   "metadata": {},
   "outputs": [],
   "source": []
  },
  {
   "cell_type": "code",
   "execution_count": null,
   "id": "aa44995c",
   "metadata": {},
   "outputs": [],
   "source": []
  },
  {
   "cell_type": "code",
   "execution_count": null,
   "id": "2f45fc7c",
   "metadata": {},
   "outputs": [],
   "source": []
  },
  {
   "cell_type": "code",
   "execution_count": null,
   "id": "dd60f470",
   "metadata": {},
   "outputs": [],
   "source": []
  },
  {
   "cell_type": "code",
   "execution_count": null,
   "id": "6b1cd0c8",
   "metadata": {},
   "outputs": [],
   "source": []
  },
  {
   "cell_type": "markdown",
   "id": "31b43027",
   "metadata": {},
   "source": [
    "### unionWith\n"
   ]
  },
  {
   "cell_type": "code",
   "execution_count": null,
   "id": "9e9a8772",
   "metadata": {},
   "outputs": [],
   "source": []
  },
  {
   "cell_type": "code",
   "execution_count": null,
   "id": "4ffd765e",
   "metadata": {},
   "outputs": [],
   "source": []
  },
  {
   "cell_type": "markdown",
   "id": "080332c9",
   "metadata": {},
   "source": [
    "### regexMatch (operator)\n"
   ]
  },
  {
   "cell_type": "code",
   "execution_count": null,
   "id": "73504e55",
   "metadata": {},
   "outputs": [],
   "source": []
  },
  {
   "cell_type": "code",
   "execution_count": null,
   "id": "54524bfa",
   "metadata": {},
   "outputs": [],
   "source": []
  },
  {
   "cell_type": "code",
   "execution_count": null,
   "id": "933be756",
   "metadata": {},
   "outputs": [],
   "source": []
  },
  {
   "cell_type": "markdown",
   "id": "3a51051f",
   "metadata": {},
   "source": [
    "### out\n",
    "\n",
    "_Note: You can potentially overwrite all your data in a collection with this stage, use with caution_\n"
   ]
  },
  {
   "cell_type": "code",
   "execution_count": null,
   "id": "f9e82365",
   "metadata": {},
   "outputs": [],
   "source": []
  },
  {
   "cell_type": "code",
   "execution_count": null,
   "id": "6eba3d51",
   "metadata": {},
   "outputs": [],
   "source": []
  },
  {
   "cell_type": "markdown",
   "id": "fa438464",
   "metadata": {},
   "source": [
    "### merge\n",
    "\n",
    "_Note: You can potentially overwrite data within a collection with this stage, use with caution_\n"
   ]
  },
  {
   "cell_type": "code",
   "execution_count": null,
   "id": "0e8ba155",
   "metadata": {},
   "outputs": [],
   "source": []
  },
  {
   "cell_type": "code",
   "execution_count": null,
   "id": "7fa5f383",
   "metadata": {},
   "outputs": [],
   "source": []
  },
  {
   "cell_type": "markdown",
   "id": "f2cbcdc9",
   "metadata": {},
   "source": [
    "### cond (operator)\n"
   ]
  },
  {
   "cell_type": "code",
   "execution_count": null,
   "id": "7bf94c0a",
   "metadata": {},
   "outputs": [],
   "source": []
  },
  {
   "cell_type": "code",
   "execution_count": null,
   "id": "b30ffd4f",
   "metadata": {},
   "outputs": [],
   "source": []
  },
  {
   "cell_type": "code",
   "execution_count": null,
   "id": "e85540c7",
   "metadata": {},
   "outputs": [],
   "source": []
  },
  {
   "cell_type": "code",
   "execution_count": null,
   "id": "6d0b7fd4",
   "metadata": {},
   "outputs": [],
   "source": []
  },
  {
   "cell_type": "markdown",
   "id": "3f50f1d1",
   "metadata": {},
   "source": [
    "### $$NOW (system variable)\n"
   ]
  },
  {
   "cell_type": "code",
   "execution_count": null,
   "id": "e1503df4",
   "metadata": {},
   "outputs": [],
   "source": []
  },
  {
   "cell_type": "code",
   "execution_count": null,
   "id": "bd4fd757",
   "metadata": {},
   "outputs": [],
   "source": []
  },
  {
   "cell_type": "markdown",
   "id": "a4513e17",
   "metadata": {},
   "source": [
    "### Date Operators\n"
   ]
  },
  {
   "cell_type": "code",
   "execution_count": null,
   "id": "feaa7da2",
   "metadata": {},
   "outputs": [],
   "source": []
  },
  {
   "cell_type": "code",
   "execution_count": null,
   "id": "38fd8728",
   "metadata": {},
   "outputs": [],
   "source": []
  },
  {
   "cell_type": "code",
   "execution_count": null,
   "id": "7030d6a9",
   "metadata": {},
   "outputs": [],
   "source": []
  },
  {
   "cell_type": "code",
   "execution_count": null,
   "id": "87c06393",
   "metadata": {},
   "outputs": [],
   "source": []
  },
  {
   "cell_type": "code",
   "execution_count": null,
   "id": "a2339adf",
   "metadata": {},
   "outputs": [],
   "source": []
  },
  {
   "cell_type": "code",
   "execution_count": null,
   "id": "708938c8",
   "metadata": {},
   "outputs": [],
   "source": []
  },
  {
   "cell_type": "code",
   "execution_count": null,
   "id": "f3945b91",
   "metadata": {},
   "outputs": [],
   "source": []
  },
  {
   "cell_type": "code",
   "execution_count": null,
   "id": "6a31039d",
   "metadata": {},
   "outputs": [],
   "source": []
  },
  {
   "cell_type": "markdown",
   "id": "531bc8cf",
   "metadata": {},
   "source": [
    "### expr (operator)\n"
   ]
  },
  {
   "cell_type": "code",
   "execution_count": null,
   "id": "66a80fd7",
   "metadata": {},
   "outputs": [],
   "source": []
  },
  {
   "cell_type": "code",
   "execution_count": null,
   "id": "1cb2d077",
   "metadata": {},
   "outputs": [],
   "source": []
  },
  {
   "cell_type": "code",
   "execution_count": null,
   "id": "abb386e4",
   "metadata": {},
   "outputs": [],
   "source": []
  },
  {
   "cell_type": "code",
   "execution_count": null,
   "id": "2a114bfb",
   "metadata": {},
   "outputs": [],
   "source": []
  },
  {
   "cell_type": "markdown",
   "id": "f46023d4",
   "metadata": {},
   "source": [
    "### ifNull (operator)\n"
   ]
  },
  {
   "cell_type": "code",
   "execution_count": null,
   "id": "ea89b41e",
   "metadata": {},
   "outputs": [],
   "source": []
  },
  {
   "cell_type": "code",
   "execution_count": null,
   "id": "0e72e154",
   "metadata": {},
   "outputs": [],
   "source": []
  },
  {
   "cell_type": "markdown",
   "id": "a0d8b6f5",
   "metadata": {},
   "source": [
    "### type (operator)\n"
   ]
  },
  {
   "cell_type": "code",
   "execution_count": null,
   "id": "95ba1775",
   "metadata": {},
   "outputs": [],
   "source": []
  },
  {
   "cell_type": "code",
   "execution_count": null,
   "id": "4fa81cf2",
   "metadata": {},
   "outputs": [],
   "source": []
  },
  {
   "cell_type": "markdown",
   "id": "c2dd1e66",
   "metadata": {},
   "source": [
    "### switch (operator)\n"
   ]
  },
  {
   "cell_type": "code",
   "execution_count": null,
   "id": "07698a22",
   "metadata": {},
   "outputs": [],
   "source": []
  },
  {
   "cell_type": "code",
   "execution_count": null,
   "id": "3e703220",
   "metadata": {},
   "outputs": [],
   "source": []
  },
  {
   "cell_type": "code",
   "execution_count": null,
   "id": "36be23fc",
   "metadata": {},
   "outputs": [],
   "source": []
  },
  {
   "cell_type": "code",
   "execution_count": null,
   "id": "0c4c36da",
   "metadata": {},
   "outputs": [],
   "source": []
  },
  {
   "cell_type": "code",
   "execution_count": null,
   "id": "87ea9da8",
   "metadata": {},
   "outputs": [],
   "source": []
  }
 ],
 "metadata": {
  "kernelspec": {
   "display_name": "Python 3 (ipykernel)",
   "language": "python",
   "name": "python3"
  },
  "language_info": {
   "codemirror_mode": {
    "name": "ipython",
    "version": 3
   },
   "file_extension": ".py",
   "mimetype": "text/x-python",
   "name": "python",
   "nbconvert_exporter": "python",
   "pygments_lexer": "ipython3",
   "version": "3.12.4"
  }
 },
 "nbformat": 4,
 "nbformat_minor": 5
}
