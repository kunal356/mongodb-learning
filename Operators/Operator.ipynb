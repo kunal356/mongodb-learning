{
 "cells": [
  {
   "cell_type": "markdown",
   "id": "3dc5cae0",
   "metadata": {},
   "source": [
    "# MongoDB Operators\n",
    "\n",
    "Go over the usage of common operators within pymongo queries"
   ]
  },
  {
   "cell_type": "code",
   "execution_count": 1,
   "id": "0c683e75",
   "metadata": {},
   "outputs": [],
   "source": [
    "import pymongo\n",
    "from pymongo import MongoClient"
   ]
  },
  {
   "cell_type": "markdown",
   "id": "5fd1cbd3",
   "metadata": {},
   "source": [
    "### Initalize A Client, Connect To DB, Speicfy Collection"
   ]
  },
  {
   "cell_type": "code",
   "execution_count": 2,
   "id": "2671ea67",
   "metadata": {},
   "outputs": [],
   "source": [
    "client = MongoClient(\"mongodb://localhost:27017/\")\n",
    "db = client[\"shop\"]\n",
    "products_col = db[\"products\"]"
   ]
  },
  {
   "cell_type": "markdown",
   "id": "0e1c6bd0",
   "metadata": {},
   "source": [
    "### Helper Function to print all entries in a cursor"
   ]
  },
  {
   "cell_type": "code",
   "execution_count": 3,
   "id": "2112912d",
   "metadata": {},
   "outputs": [],
   "source": [
    "def print_cursor(cursor):\n",
    "    for document in cursor:\n",
    "        print(document)"
   ]
  },
  {
   "cell_type": "markdown",
   "id": "722f39ae",
   "metadata": {},
   "source": [
    "### Comparison Operators"
   ]
  },
  {
   "cell_type": "markdown",
   "id": "6cf43416",
   "metadata": {},
   "source": [
    "###### $lt - Less Than"
   ]
  },
  {
   "cell_type": "code",
   "execution_count": 4,
   "id": "4e6b4f49",
   "metadata": {},
   "outputs": [
    {
     "name": "stdout",
     "output_type": "stream",
     "text": [
      "{'_id': ObjectId('66f7206c593ed3e07defb3b3'), 'name': 'Smartphone Case', 'description': 'Silicone case with reinforced corners for extra protection.', 'price': 9.99}\n",
      "{'_id': ObjectId('66f720a6593ed3e07defb3c2'), 'name': 'Smartphone Case', 'description': 'Silicone case with reinforced corners for extra protection.', 'price': 9.99}\n"
     ]
    }
   ],
   "source": [
    "lt_cursor = products_col.find({\"price\": {\"$lt\": 10.00}})\n",
    "print_cursor(lt_cursor)"
   ]
  },
  {
   "cell_type": "markdown",
   "id": "de88b1cc",
   "metadata": {},
   "source": [
    "###### $gte - Greater Than or Equal To (combined with another operator)"
   ]
  },
  {
   "cell_type": "code",
   "execution_count": 5,
   "id": "a19644da",
   "metadata": {},
   "outputs": [
    {
     "name": "stdout",
     "output_type": "stream",
     "text": [
      "{'_id': ObjectId('66f7206c593ed3e07defb3b2'), 'name': 'Smartphone Case', 'description': 'Durable, shockproof smartphone case compatible with multiple models.', 'price': 12.99}\n",
      "{'_id': ObjectId('66f7206c593ed3e07defb3b3'), 'name': 'Smartphone Case', 'description': 'Silicone case with reinforced corners for extra protection.', 'price': 9.99}\n",
      "{'_id': ObjectId('66f7206c593ed3e07defb3b6'), 'name': 'Portable Charger', 'description': '10,000mAh portable charger with dual USB ports and fast charging capabilities.', 'price': 19.5}\n",
      "{'_id': ObjectId('66f7206c593ed3e07defb3b7'), 'name': 'Portable Charger', 'description': 'Compact 5,000mAh portable charger, lightweight and easy to carry.', 'price': 15.0}\n",
      "{'_id': ObjectId('66f7206c593ed3e07defb3b9'), 'name': 'Wireless Mouse', 'description': 'Smooth wireless mouse with adjustable DPI and USB receiver.', 'price': 18.75}\n",
      "{'_id': ObjectId('66f7206c593ed3e07defb3bb'), 'name': 'LED Desk Lamp', 'description': 'Dimmable LED desk lamp with adjustable brightness and color temperature.', 'price': 22.99}\n",
      "{'_id': ObjectId('66f720a6593ed3e07defb3c1'), 'name': 'Smartphone Case', 'description': 'Durable, shockproof smartphone case compatible with multiple models.', 'price': 12.99}\n",
      "{'_id': ObjectId('66f720a6593ed3e07defb3c2'), 'name': 'Smartphone Case', 'description': 'Silicone case with reinforced corners for extra protection.', 'price': 9.99}\n",
      "{'_id': ObjectId('66f720a6593ed3e07defb3c5'), 'name': 'Portable Charger', 'description': '10,000mAh portable charger with dual USB ports and fast charging capabilities.', 'price': 19.5}\n",
      "{'_id': ObjectId('66f720a6593ed3e07defb3c6'), 'name': 'Portable Charger', 'description': 'Compact 5,000mAh portable charger, lightweight and easy to carry.', 'price': 15.0}\n",
      "{'_id': ObjectId('66f720a6593ed3e07defb3c8'), 'name': 'Wireless Mouse', 'description': 'Smooth wireless mouse with adjustable DPI and USB receiver.', 'price': 18.75}\n",
      "{'_id': ObjectId('66f720a6593ed3e07defb3ca'), 'name': 'LED Desk Lamp', 'description': 'Dimmable LED desk lamp with adjustable brightness and color temperature.', 'price': 22.99}\n"
     ]
    }
   ],
   "source": [
    "lt_gte_cursor = products_col.find({\"price\":{\"$lt\": 25.00, \"$gte\":9.99 }})\n",
    "print_cursor(lt_gte_cursor)"
   ]
  },
  {
   "cell_type": "markdown",
   "id": "9171a17c",
   "metadata": {},
   "source": [
    "###### $ne - Not Equal To (combined with another operator)"
   ]
  },
  {
   "cell_type": "code",
   "execution_count": 6,
   "id": "088877c5",
   "metadata": {},
   "outputs": [
    {
     "name": "stdout",
     "output_type": "stream",
     "text": [
      "{'_id': ObjectId('66f7206c593ed3e07defb3b6'), 'name': 'Portable Charger', 'description': '10,000mAh portable charger with dual USB ports and fast charging capabilities.', 'price': 19.5}\n",
      "{'_id': ObjectId('66f7206c593ed3e07defb3b7'), 'name': 'Portable Charger', 'description': 'Compact 5,000mAh portable charger, lightweight and easy to carry.', 'price': 15.0}\n",
      "{'_id': ObjectId('66f7206c593ed3e07defb3b9'), 'name': 'Wireless Mouse', 'description': 'Smooth wireless mouse with adjustable DPI and USB receiver.', 'price': 18.75}\n",
      "{'_id': ObjectId('66f7206c593ed3e07defb3bb'), 'name': 'LED Desk Lamp', 'description': 'Dimmable LED desk lamp with adjustable brightness and color temperature.', 'price': 22.99}\n",
      "{'_id': ObjectId('66f720a6593ed3e07defb3c5'), 'name': 'Portable Charger', 'description': '10,000mAh portable charger with dual USB ports and fast charging capabilities.', 'price': 19.5}\n",
      "{'_id': ObjectId('66f720a6593ed3e07defb3c6'), 'name': 'Portable Charger', 'description': 'Compact 5,000mAh portable charger, lightweight and easy to carry.', 'price': 15.0}\n",
      "{'_id': ObjectId('66f720a6593ed3e07defb3c8'), 'name': 'Wireless Mouse', 'description': 'Smooth wireless mouse with adjustable DPI and USB receiver.', 'price': 18.75}\n",
      "{'_id': ObjectId('66f720a6593ed3e07defb3ca'), 'name': 'LED Desk Lamp', 'description': 'Dimmable LED desk lamp with adjustable brightness and color temperature.', 'price': 22.99}\n"
     ]
    }
   ],
   "source": [
    "lt_ne_cursor = products_col.find({\"price\":{\"$lt\": 25.00 }, \"name\":{\"$ne\": \"Smartphone Case\"}})\n",
    "print_cursor(lt_ne_cursor)"
   ]
  },
  {
   "cell_type": "markdown",
   "id": "d1d17085",
   "metadata": {},
   "source": [
    "### Logical Operators"
   ]
  },
  {
   "cell_type": "markdown",
   "id": "519965f4",
   "metadata": {},
   "source": [
    "##### $and"
   ]
  },
  {
   "cell_type": "code",
   "execution_count": 7,
   "id": "e6ada04a",
   "metadata": {},
   "outputs": [
    {
     "name": "stdout",
     "output_type": "stream",
     "text": [
      "{'_id': ObjectId('66f7206c593ed3e07defb3b6'), 'name': 'Portable Charger', 'description': '10,000mAh portable charger with dual USB ports and fast charging capabilities.', 'price': 19.5}\n",
      "{'_id': ObjectId('66f7206c593ed3e07defb3b7'), 'name': 'Portable Charger', 'description': 'Compact 5,000mAh portable charger, lightweight and easy to carry.', 'price': 15.0}\n",
      "{'_id': ObjectId('66f7206c593ed3e07defb3b9'), 'name': 'Wireless Mouse', 'description': 'Smooth wireless mouse with adjustable DPI and USB receiver.', 'price': 18.75}\n",
      "{'_id': ObjectId('66f720a6593ed3e07defb3c5'), 'name': 'Portable Charger', 'description': '10,000mAh portable charger with dual USB ports and fast charging capabilities.', 'price': 19.5}\n",
      "{'_id': ObjectId('66f720a6593ed3e07defb3c6'), 'name': 'Portable Charger', 'description': 'Compact 5,000mAh portable charger, lightweight and easy to carry.', 'price': 15.0}\n",
      "{'_id': ObjectId('66f720a6593ed3e07defb3c8'), 'name': 'Wireless Mouse', 'description': 'Smooth wireless mouse with adjustable DPI and USB receiver.', 'price': 18.75}\n"
     ]
    }
   ],
   "source": [
    "and_cursor = products_col.find(\n",
    "    {\n",
    "        \"$and\":[\n",
    "            {\"price\": {\"$lt\": 20.00}},\n",
    "            {\"name\": {\"$ne\": \"Smartphone Case\"}}\n",
    "\n",
    "        ]\n",
    "    }\n",
    ")\n",
    "print_cursor(and_cursor)"
   ]
  },
  {
   "cell_type": "markdown",
   "id": "4f4dcd05",
   "metadata": {},
   "source": [
    "###### $or"
   ]
  },
  {
   "cell_type": "code",
   "execution_count": 8,
   "id": "75843aa5",
   "metadata": {},
   "outputs": [
    {
     "name": "stdout",
     "output_type": "stream",
     "text": [
      "{'_id': ObjectId('66f7206c593ed3e07defb3af'), 'name': 'Wireless Earbuds', 'description': 'Bluetooth-enabled wireless earbuds with noise cancellation.', 'price': 45.99}\n",
      "{'_id': ObjectId('66f7206c593ed3e07defb3b0'), 'name': 'Wireless Earbuds', 'description': 'High-quality wireless earbuds with immersive sound and long battery life.', 'price': 50}\n",
      "{'_id': ObjectId('66f7206c593ed3e07defb3b1'), 'name': 'Laptop Stand', 'description': 'Adjustable aluminum stand for laptops, suitable for all sizes.', 'price': 25.5, 'seller': 'Amazon'}\n",
      "{'_id': ObjectId('66f7206c593ed3e07defb3b4'), 'name': 'Gaming Mouse', 'description': 'Ergonomic gaming mouse with customizable RGB lighting.', 'price': 29.99}\n",
      "{'_id': ObjectId('66f7206c593ed3e07defb3b5'), 'name': 'Wireless Keyboard', 'description': 'Sleek and compact wireless keyboard with built-in rechargeable battery.', 'price': 40.0}\n",
      "{'_id': ObjectId('66f7206c593ed3e07defb3b6'), 'name': 'Portable Charger', 'description': '10,000mAh portable charger with dual USB ports and fast charging capabilities.', 'price': 19.5}\n",
      "{'_id': ObjectId('66f7206c593ed3e07defb3b8'), 'name': 'Fitness Tracker', 'description': 'Waterproof fitness tracker with heart rate monitor and sleep tracking.', 'price': 49.99}\n",
      "{'_id': ObjectId('66f7206c593ed3e07defb3b9'), 'name': 'Wireless Mouse', 'description': 'Smooth wireless mouse with adjustable DPI and USB receiver.', 'price': 18.75}\n",
      "{'_id': ObjectId('66f7206c593ed3e07defb3ba'), 'name': 'Bluetooth Speaker', 'description': 'Portable Bluetooth speaker with deep bass and long battery life.', 'price': 35.0}\n",
      "{'_id': ObjectId('66f7206c593ed3e07defb3bb'), 'name': 'LED Desk Lamp', 'description': 'Dimmable LED desk lamp with adjustable brightness and color temperature.', 'price': 22.99}\n",
      "{'_id': ObjectId('66f7206c593ed3e07defb3bc'), 'name': 'USB-C Hub', 'description': '7-in-1 USB-C hub with HDMI, USB 3.0, and SD card reader.', 'price': 30.0}\n",
      "{'_id': ObjectId('66f7206c593ed3e07defb3bd'), 'name': 'Gaming Headset', 'description': 'Over-ear gaming headset with noise-cancelling microphone and surround sound.', 'price': 60.0}\n",
      "{'_id': ObjectId('66f720a6593ed3e07defb3be'), 'name': 'Wireless Earbuds', 'description': 'Bluetooth-enabled wireless earbuds with noise cancellation.', 'price': 45.99}\n",
      "{'_id': ObjectId('66f720a6593ed3e07defb3bf'), 'name': 'Wireless Earbuds', 'description': 'High-quality wireless earbuds with immersive sound and long battery life.', 'price': 55.0}\n",
      "{'_id': ObjectId('66f720a6593ed3e07defb3c0'), 'name': 'Laptop Stand', 'description': 'Adjustable aluminum stand for laptops, suitable for all sizes.', 'price': 25.5}\n",
      "{'_id': ObjectId('66f720a6593ed3e07defb3c3'), 'name': 'Gaming Mouse', 'description': 'Ergonomic gaming mouse with customizable RGB lighting.', 'price': 29.99}\n",
      "{'_id': ObjectId('66f720a6593ed3e07defb3c4'), 'name': 'Wireless Keyboard', 'description': 'Sleek and compact wireless keyboard with built-in rechargeable battery.', 'price': 40.0}\n",
      "{'_id': ObjectId('66f720a6593ed3e07defb3c5'), 'name': 'Portable Charger', 'description': '10,000mAh portable charger with dual USB ports and fast charging capabilities.', 'price': 19.5}\n",
      "{'_id': ObjectId('66f720a6593ed3e07defb3c7'), 'name': 'Fitness Tracker', 'description': 'Waterproof fitness tracker with heart rate monitor and sleep tracking.', 'price': 49.99}\n",
      "{'_id': ObjectId('66f720a6593ed3e07defb3c8'), 'name': 'Wireless Mouse', 'description': 'Smooth wireless mouse with adjustable DPI and USB receiver.', 'price': 18.75}\n",
      "{'_id': ObjectId('66f720a6593ed3e07defb3c9'), 'name': 'Bluetooth Speaker', 'description': 'Portable Bluetooth speaker with deep bass and long battery life.', 'price': 35.0}\n",
      "{'_id': ObjectId('66f720a6593ed3e07defb3ca'), 'name': 'LED Desk Lamp', 'description': 'Dimmable LED desk lamp with adjustable brightness and color temperature.', 'price': 22.99}\n",
      "{'_id': ObjectId('66f720a6593ed3e07defb3cb'), 'name': 'USB-C Hub', 'description': '7-in-1 USB-C hub with HDMI, USB 3.0, and SD card reader.', 'price': 30.0}\n",
      "{'_id': ObjectId('66f720a6593ed3e07defb3cc'), 'name': 'Gaming Headset', 'description': 'Over-ear gaming headset with noise-cancelling microphone and surround sound.', 'price': 60.0}\n"
     ]
    }
   ],
   "source": [
    "or_cursor = products_col.find({\n",
    "    \"$or\":[\n",
    "        {\"price\": {\"$gt\": 15.00}},\n",
    "        {\"price\": {\"$lt\": 5.00}}\n",
    "\n",
    "    ]\n",
    "})\n",
    "print_cursor(or_cursor)"
   ]
  },
  {
   "cell_type": "markdown",
   "id": "6ff7f1b7",
   "metadata": {},
   "source": [
    "###### $nor"
   ]
  },
  {
   "cell_type": "code",
   "execution_count": 9,
   "id": "e98ddcac",
   "metadata": {},
   "outputs": [
    {
     "name": "stdout",
     "output_type": "stream",
     "text": [
      "{'_id': ObjectId('66f7206c593ed3e07defb3b2'), 'name': 'Smartphone Case', 'description': 'Durable, shockproof smartphone case compatible with multiple models.', 'price': 12.99}\n",
      "{'_id': ObjectId('66f7206c593ed3e07defb3b3'), 'name': 'Smartphone Case', 'description': 'Silicone case with reinforced corners for extra protection.', 'price': 9.99}\n",
      "{'_id': ObjectId('66f7206c593ed3e07defb3b7'), 'name': 'Portable Charger', 'description': 'Compact 5,000mAh portable charger, lightweight and easy to carry.', 'price': 15.0}\n",
      "{'_id': ObjectId('66f720a6593ed3e07defb3c1'), 'name': 'Smartphone Case', 'description': 'Durable, shockproof smartphone case compatible with multiple models.', 'price': 12.99}\n",
      "{'_id': ObjectId('66f720a6593ed3e07defb3c2'), 'name': 'Smartphone Case', 'description': 'Silicone case with reinforced corners for extra protection.', 'price': 9.99}\n",
      "{'_id': ObjectId('66f720a6593ed3e07defb3c6'), 'name': 'Portable Charger', 'description': 'Compact 5,000mAh portable charger, lightweight and easy to carry.', 'price': 15.0}\n"
     ]
    }
   ],
   "source": [
    "nor_cursor = products_col.find(\n",
    "    {\"$nor\":[\n",
    "        {\"price\": {\"$gt\": 15.00}},\n",
    "        {\"price\": {\"$lt\": 5.00}}\n",
    "    ]}\n",
    ")\n",
    "print_cursor(nor_cursor)"
   ]
  },
  {
   "cell_type": "markdown",
   "id": "889ab4dc",
   "metadata": {},
   "source": [
    "###### $type"
   ]
  },
  {
   "cell_type": "code",
   "execution_count": 10,
   "id": "b180fc9c",
   "metadata": {},
   "outputs": [
    {
     "name": "stdout",
     "output_type": "stream",
     "text": [
      "{'_id': ObjectId('66f7206c593ed3e07defb3b0'), 'name': 'Wireless Earbuds', 'description': 'High-quality wireless earbuds with immersive sound and long battery life.', 'price': 50}\n"
     ]
    }
   ],
   "source": [
    "type_cursor = products_col.find({\"price\":{\"$type\": \"int\"}})\n",
    "print_cursor(type_cursor)"
   ]
  },
  {
   "cell_type": "markdown",
   "id": "63be37d8",
   "metadata": {},
   "source": [
    "### Other Useful Operators"
   ]
  },
  {
   "cell_type": "markdown",
   "id": "365bcbf5",
   "metadata": {},
   "source": [
    "###### $exists - Check if a attribute name exists in entries"
   ]
  },
  {
   "cell_type": "code",
   "execution_count": 11,
   "id": "d88290c3",
   "metadata": {},
   "outputs": [
    {
     "name": "stdout",
     "output_type": "stream",
     "text": [
      "{'_id': ObjectId('66f7206c593ed3e07defb3b1'), 'name': 'Laptop Stand', 'description': 'Adjustable aluminum stand for laptops, suitable for all sizes.', 'price': 25.5, 'seller': 'Amazon'}\n"
     ]
    }
   ],
   "source": [
    "exists_cursor = products_col.find({\"seller\": {\"$exists\": True}})\n",
    "print_cursor(exists_cursor)\n"
   ]
  },
  {
   "cell_type": "markdown",
   "id": "66c134aa",
   "metadata": {},
   "source": [
    "#####  $regex - Search for substring within query entries"
   ]
  },
  {
   "cell_type": "code",
   "execution_count": 12,
   "id": "d84cae79",
   "metadata": {},
   "outputs": [
    {
     "name": "stdout",
     "output_type": "stream",
     "text": [
      "{'_id': ObjectId('66f7206c593ed3e07defb3b5'), 'name': 'Wireless Keyboard', 'description': 'Sleek and compact wireless keyboard with built-in rechargeable battery.', 'price': 40.0}\n",
      "{'_id': ObjectId('66f720a6593ed3e07defb3c4'), 'name': 'Wireless Keyboard', 'description': 'Sleek and compact wireless keyboard with built-in rechargeable battery.', 'price': 40.0}\n"
     ]
    }
   ],
   "source": [
    "regex_cursor = products_col.find({\"name\": {\"$regex\": \"Keyboard\"}})\n",
    "print_cursor(regex_cursor)"
   ]
  },
  {
   "cell_type": "code",
   "execution_count": 13,
   "id": "a69852a8",
   "metadata": {},
   "outputs": [
    {
     "name": "stdout",
     "output_type": "stream",
     "text": [
      "{'_id': ObjectId('66f7206c593ed3e07defb3b5'), 'name': 'Wireless Keyboard', 'description': 'Sleek and compact wireless keyboard with built-in rechargeable battery.', 'price': 40.0}\n",
      "{'_id': ObjectId('66f720a6593ed3e07defb3c4'), 'name': 'Wireless Keyboard', 'description': 'Sleek and compact wireless keyboard with built-in rechargeable battery.', 'price': 40.0}\n"
     ]
    }
   ],
   "source": [
    "regex_cursor = products_col.find({\"name\": {\"$regex\": \"keyboard\", \"$options\": \"i\"}})\n",
    "print_cursor(regex_cursor)"
   ]
  },
  {
   "cell_type": "code",
   "execution_count": null,
   "id": "d2ddb432",
   "metadata": {},
   "outputs": [],
   "source": []
  }
 ],
 "metadata": {
  "kernelspec": {
   "display_name": "Python 3 (ipykernel)",
   "language": "python",
   "name": "python3"
  },
  "language_info": {
   "codemirror_mode": {
    "name": "ipython",
    "version": 3
   },
   "file_extension": ".py",
   "mimetype": "text/x-python",
   "name": "python",
   "nbconvert_exporter": "python",
   "pygments_lexer": "ipython3",
   "version": "3.12.5"
  }
 },
 "nbformat": 4,
 "nbformat_minor": 5
}
