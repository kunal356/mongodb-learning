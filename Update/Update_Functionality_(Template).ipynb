{
 "cells": [
  {
   "cell_type": "markdown",
   "id": "31010f21",
   "metadata": {},
   "source": [
    "# MongoDB Update Functionality\n",
    "\n",
    "Go over ways to update entries in MongoDB in pymongo"
   ]
  },
  {
   "cell_type": "code",
   "execution_count": 2,
   "id": "07599bc2",
   "metadata": {},
   "outputs": [],
   "source": [
    "import pymongo\n",
    "from pymongo import MongoClient"
   ]
  },
  {
   "cell_type": "markdown",
   "id": "ac3f352e",
   "metadata": {},
   "source": [
    "### Initalize A Client, Connect To DB, Speicfy Collection"
   ]
  },
  {
   "cell_type": "code",
   "execution_count": 3,
   "id": "707dc3c1",
   "metadata": {},
   "outputs": [],
   "source": [
    "client = MongoClient(\"mongodb://localhost:27017/\")\n",
    "db = client[\"shop\"]\n",
    "products_col = db[\"products\"]"
   ]
  },
  {
   "cell_type": "markdown",
   "id": "6319cdac",
   "metadata": {},
   "source": [
    "### update()\n",
    "*Depreceated, do not use in your applications*"
   ]
  },
  {
   "cell_type": "code",
   "execution_count": 4,
   "id": "8b54bcae",
   "metadata": {},
   "outputs": [
    {
     "ename": "TypeError",
     "evalue": "'Collection' object is not callable. If you meant to call the 'update' method on a 'Collection' object it is failing because no such method exists.",
     "output_type": "error",
     "traceback": [
      "\u001b[1;31m---------------------------------------------------------------------------\u001b[0m",
      "\u001b[1;31mTypeError\u001b[0m                                 Traceback (most recent call last)",
      "Cell \u001b[1;32mIn[4], line 1\u001b[0m\n\u001b[1;32m----> 1\u001b[0m \u001b[43mproducts_col\u001b[49m\u001b[38;5;241;43m.\u001b[39;49m\u001b[43mupdate\u001b[49m\u001b[43m(\u001b[49m\u001b[43m{\u001b[49m\u001b[38;5;124;43m\"\u001b[39;49m\u001b[38;5;124;43mname\u001b[39;49m\u001b[38;5;124;43m\"\u001b[39;49m\u001b[43m:\u001b[49m\u001b[43m \u001b[49m\u001b[38;5;124;43m\"\u001b[39;49m\u001b[38;5;124;43mPens\u001b[39;49m\u001b[38;5;124;43m\"\u001b[39;49m\u001b[43m}\u001b[49m\u001b[43m,\u001b[49m\u001b[43m \u001b[49m\u001b[43m{\u001b[49m\u001b[38;5;124;43m\"\u001b[39;49m\u001b[38;5;124;43m$set\u001b[39;49m\u001b[38;5;124;43m\"\u001b[39;49m\u001b[43m:\u001b[49m\u001b[43m \u001b[49m\u001b[43m{\u001b[49m\u001b[38;5;124;43m\"\u001b[39;49m\u001b[38;5;124;43mprice\u001b[39;49m\u001b[38;5;124;43m\"\u001b[39;49m\u001b[43m:\u001b[49m\u001b[43m \u001b[49m\u001b[38;5;241;43m9.57\u001b[39;49m\u001b[43m}\u001b[49m\u001b[43m}\u001b[49m\u001b[43m)\u001b[49m\n",
      "File \u001b[1;32mc:\\Users\\ashwi\\kunal_programming\\UdemySelfLearning\\mongodb-course\\venv\\Lib\\site-packages\\pymongo\\synchronous\\collection.py:407\u001b[0m, in \u001b[0;36mCollection.__call__\u001b[1;34m(self, *args, **kwargs)\u001b[0m\n\u001b[0;32m    400\u001b[0m \u001b[38;5;28;01mif\u001b[39;00m \u001b[38;5;124m\"\u001b[39m\u001b[38;5;124m.\u001b[39m\u001b[38;5;124m\"\u001b[39m \u001b[38;5;129;01mnot\u001b[39;00m \u001b[38;5;129;01min\u001b[39;00m \u001b[38;5;28mself\u001b[39m\u001b[38;5;241m.\u001b[39m_name:\n\u001b[0;32m    401\u001b[0m     \u001b[38;5;28;01mraise\u001b[39;00m \u001b[38;5;167;01mTypeError\u001b[39;00m(\n\u001b[0;32m    402\u001b[0m         \u001b[38;5;124mf\u001b[39m\u001b[38;5;124m\"\u001b[39m\u001b[38;5;124m'\u001b[39m\u001b[38;5;132;01m{\u001b[39;00m\u001b[38;5;28mtype\u001b[39m(\u001b[38;5;28mself\u001b[39m)\u001b[38;5;241m.\u001b[39m\u001b[38;5;18m__name__\u001b[39m\u001b[38;5;132;01m}\u001b[39;00m\u001b[38;5;124m'\u001b[39m\u001b[38;5;124m object is not callable. If you \u001b[39m\u001b[38;5;124m\"\u001b[39m\n\u001b[0;32m    403\u001b[0m         \u001b[38;5;124m\"\u001b[39m\u001b[38;5;124mmeant to call the \u001b[39m\u001b[38;5;124m'\u001b[39m\u001b[38;5;132;01m%s\u001b[39;00m\u001b[38;5;124m'\u001b[39m\u001b[38;5;124m method on a \u001b[39m\u001b[38;5;124m'\u001b[39m\u001b[38;5;124mDatabase\u001b[39m\u001b[38;5;124m'\u001b[39m\u001b[38;5;124m \u001b[39m\u001b[38;5;124m\"\u001b[39m\n\u001b[0;32m    404\u001b[0m         \u001b[38;5;124m\"\u001b[39m\u001b[38;5;124mobject it is failing because no such method \u001b[39m\u001b[38;5;124m\"\u001b[39m\n\u001b[0;32m    405\u001b[0m         \u001b[38;5;124m\"\u001b[39m\u001b[38;5;124mexists.\u001b[39m\u001b[38;5;124m\"\u001b[39m \u001b[38;5;241m%\u001b[39m \u001b[38;5;28mself\u001b[39m\u001b[38;5;241m.\u001b[39m_name\n\u001b[0;32m    406\u001b[0m     )\n\u001b[1;32m--> 407\u001b[0m \u001b[38;5;28;01mraise\u001b[39;00m \u001b[38;5;167;01mTypeError\u001b[39;00m(\n\u001b[0;32m    408\u001b[0m     \u001b[38;5;124mf\u001b[39m\u001b[38;5;124m\"\u001b[39m\u001b[38;5;124m'\u001b[39m\u001b[38;5;132;01m{\u001b[39;00m\u001b[38;5;28mtype\u001b[39m(\u001b[38;5;28mself\u001b[39m)\u001b[38;5;241m.\u001b[39m\u001b[38;5;18m__name__\u001b[39m\u001b[38;5;132;01m}\u001b[39;00m\u001b[38;5;124m'\u001b[39m\u001b[38;5;124m object is not callable. If you meant to \u001b[39m\u001b[38;5;124m\"\u001b[39m\n\u001b[0;32m    409\u001b[0m     \u001b[38;5;124mf\u001b[39m\u001b[38;5;124m\"\u001b[39m\u001b[38;5;124mcall the \u001b[39m\u001b[38;5;124m'\u001b[39m\u001b[38;5;124m%s\u001b[39m\u001b[38;5;124m'\u001b[39m\u001b[38;5;124m method on a \u001b[39m\u001b[38;5;124m'\u001b[39m\u001b[38;5;132;01m{\u001b[39;00m\u001b[38;5;28mtype\u001b[39m(\u001b[38;5;28mself\u001b[39m)\u001b[38;5;241m.\u001b[39m\u001b[38;5;18m__name__\u001b[39m\u001b[38;5;132;01m}\u001b[39;00m\u001b[38;5;124m'\u001b[39m\u001b[38;5;124m object it is \u001b[39m\u001b[38;5;124m\"\u001b[39m\n\u001b[0;32m    410\u001b[0m     \u001b[38;5;124m\"\u001b[39m\u001b[38;5;124mfailing because no such method exists.\u001b[39m\u001b[38;5;124m\"\u001b[39m \u001b[38;5;241m%\u001b[39m \u001b[38;5;28mself\u001b[39m\u001b[38;5;241m.\u001b[39m_name\u001b[38;5;241m.\u001b[39msplit(\u001b[38;5;124m\"\u001b[39m\u001b[38;5;124m.\u001b[39m\u001b[38;5;124m\"\u001b[39m)[\u001b[38;5;241m-\u001b[39m\u001b[38;5;241m1\u001b[39m]\n\u001b[0;32m    411\u001b[0m )\n",
      "\u001b[1;31mTypeError\u001b[0m: 'Collection' object is not callable. If you meant to call the 'update' method on a 'Collection' object it is failing because no such method exists."
     ]
    }
   ],
   "source": [
    "products_col.update({\"name\": \"Pens\"}, {\"$set\": {\"price\": 9.57}})"
   ]
  },
  {
   "cell_type": "markdown",
   "id": "8733e8d2",
   "metadata": {},
   "source": [
    "### update_one()"
   ]
  },
  {
   "cell_type": "code",
   "execution_count": 7,
   "id": "0bfd3851",
   "metadata": {},
   "outputs": [
    {
     "data": {
      "text/plain": [
       "UpdateResult({'n': 1, 'nModified': 1, 'ok': 1.0, 'updatedExisting': True}, acknowledged=True)"
      ]
     },
     "execution_count": 7,
     "metadata": {},
     "output_type": "execute_result"
    }
   ],
   "source": [
    "products_col.update_one({\"name\":\"Wireless Keyboard\"}, {\"$set\":{\"price\": 9.99}})"
   ]
  },
  {
   "cell_type": "code",
   "execution_count": 8,
   "id": "dae2a3f6",
   "metadata": {},
   "outputs": [],
   "source": [
    "update_one_res = products_col.update_one({\"name\":\"Portable Charger\"}, {\"$set\":{\"price\": 26.99}})"
   ]
  },
  {
   "cell_type": "code",
   "execution_count": 9,
   "id": "4ad320c1",
   "metadata": {},
   "outputs": [
    {
     "name": "stdout",
     "output_type": "stream",
     "text": [
      "True\n",
      "1\n",
      "1\n",
      "{'n': 1, 'nModified': 1, 'ok': 1.0, 'updatedExisting': True}\n",
      "None\n"
     ]
    }
   ],
   "source": [
    "print(update_one_res.acknowledged)\n",
    "print(update_one_res.matched_count)\n",
    "print(update_one_res.modified_count)\n",
    "print(update_one_res.raw_result)\n",
    "print(update_one_res.upserted_id)"
   ]
  },
  {
   "cell_type": "markdown",
   "id": "d7a997b1",
   "metadata": {},
   "source": [
    "### replace_one()"
   ]
  },
  {
   "cell_type": "code",
   "execution_count": 10,
   "id": "d959fa43",
   "metadata": {},
   "outputs": [
    {
     "data": {
      "text/plain": [
       "UpdateResult({'n': 1, 'nModified': 1, 'ok': 1.0, 'updatedExisting': True}, acknowledged=True)"
      ]
     },
     "execution_count": 10,
     "metadata": {},
     "output_type": "execute_result"
    }
   ],
   "source": [
    "replace_one_res = products_col.replace_one({\"name\": \"Portable Charger\"}, {\"product_name\": \"Portable Fast Charger\", \"price\": 27.89, \"seller\": \"Scamkart\"})\n",
    "replace_one_res"
   ]
  },
  {
   "cell_type": "code",
   "execution_count": 11,
   "id": "f1ed7024",
   "metadata": {},
   "outputs": [
    {
     "name": "stdout",
     "output_type": "stream",
     "text": [
      "None\n"
     ]
    }
   ],
   "source": [
    "print(replace_one_res.upserted_id)"
   ]
  },
  {
   "cell_type": "markdown",
   "id": "7c7df700",
   "metadata": {},
   "source": [
    "### update_many()"
   ]
  },
  {
   "cell_type": "code",
   "execution_count": 13,
   "id": "0dc9ecc6",
   "metadata": {},
   "outputs": [
    {
     "data": {
      "text/plain": [
       "UpdateResult({'n': 2, 'nModified': 2, 'ok': 1.0, 'updatedExisting': True}, acknowledged=True)"
      ]
     },
     "execution_count": 13,
     "metadata": {},
     "output_type": "execute_result"
    }
   ],
   "source": [
    "update_many_res =  products_col.update_many({\"name\": \"Wireless Keyboard\"}, {\"$set\":{\"price\": 12.12}})\n",
    "update_many_res"
   ]
  },
  {
   "cell_type": "code",
   "execution_count": 14,
   "id": "47d8a199",
   "metadata": {},
   "outputs": [
    {
     "name": "stdout",
     "output_type": "stream",
     "text": [
      "True\n",
      "2\n",
      "2\n",
      "{'n': 2, 'nModified': 2, 'ok': 1.0, 'updatedExisting': True}\n",
      "None\n"
     ]
    }
   ],
   "source": [
    "print(update_many_res.acknowledged)\n",
    "print(update_many_res.matched_count)\n",
    "print(update_many_res.modified_count)\n",
    "print(update_many_res.raw_result)\n",
    "print(update_many_res.upserted_id)"
   ]
  },
  {
   "cell_type": "markdown",
   "id": "cf165ba7",
   "metadata": {},
   "source": [
    "### upserting"
   ]
  },
  {
   "cell_type": "code",
   "execution_count": 17,
   "id": "b0a6a3fb",
   "metadata": {},
   "outputs": [
    {
     "data": {
      "text/plain": [
       "UpdateResult({'n': 1, 'upserted': ObjectId('66fa6db9928711cd3243dc8a'), 'nModified': 0, 'ok': 1.0, 'updatedExisting': False}, acknowledged=True)"
      ]
     },
     "execution_count": 17,
     "metadata": {},
     "output_type": "execute_result"
    }
   ],
   "source": [
    "update_upsert_res = products_col.update_many({\"name\": \"Automatic Vaccum Cleaner\"}, {\"$set\":{\"name\":\"Automatic Vaccum Cleaner\", \"price\":172.28}}, upsert=True)\n",
    "update_upsert_res"
   ]
  },
  {
   "cell_type": "code",
   "execution_count": 18,
   "id": "28846f1e",
   "metadata": {},
   "outputs": [
    {
     "name": "stdout",
     "output_type": "stream",
     "text": [
      "True\n",
      "0\n",
      "0\n",
      "{'n': 1, 'upserted': ObjectId('66fa6db9928711cd3243dc8a'), 'nModified': 0, 'ok': 1.0, 'updatedExisting': False}\n",
      "66fa6db9928711cd3243dc8a\n"
     ]
    }
   ],
   "source": [
    "print(update_upsert_res.acknowledged)\n",
    "print(update_upsert_res.matched_count)\n",
    "print(update_upsert_res.modified_count)\n",
    "print(update_upsert_res.raw_result)\n",
    "print(update_upsert_res.upserted_id)"
   ]
  },
  {
   "cell_type": "markdown",
   "id": "b8e6c6e3",
   "metadata": {},
   "source": [
    "### Update Operators"
   ]
  },
  {
   "cell_type": "code",
   "execution_count": 19,
   "id": "c89e89ce",
   "metadata": {},
   "outputs": [
    {
     "data": {
      "text/plain": [
       "UpdateResult({'n': 31, 'nModified': 31, 'ok': 1.0, 'updatedExisting': True}, acknowledged=True)"
      ]
     },
     "execution_count": 19,
     "metadata": {},
     "output_type": "execute_result"
    }
   ],
   "source": [
    "products_col.update_many({}, {\"$currentDate\": {\"date\": True}})"
   ]
  },
  {
   "cell_type": "code",
   "execution_count": 20,
   "id": "1da4fbe9",
   "metadata": {},
   "outputs": [
    {
     "data": {
      "text/plain": [
       "UpdateResult({'n': 31, 'nModified': 31, 'ok': 1.0, 'updatedExisting': True}, acknowledged=True)"
      ]
     },
     "execution_count": 20,
     "metadata": {},
     "output_type": "execute_result"
    }
   ],
   "source": [
    "products_col.update_many({}, {\"$rename\": {\"date\": \"date_added\"}})"
   ]
  },
  {
   "cell_type": "code",
   "execution_count": 21,
   "id": "e11b057a",
   "metadata": {},
   "outputs": [
    {
     "data": {
      "text/plain": [
       "UpdateResult({'n': 31, 'nModified': 31, 'ok': 1.0, 'updatedExisting': True}, acknowledged=True)"
      ]
     },
     "execution_count": 21,
     "metadata": {},
     "output_type": "execute_result"
    }
   ],
   "source": [
    "products_col.update_many({}, {\"$mul\": {\"price\": 1.04}})"
   ]
  },
  {
   "cell_type": "code",
   "execution_count": 23,
   "id": "749bb365",
   "metadata": {},
   "outputs": [
    {
     "data": {
      "text/plain": [
       "UpdateResult({'n': 31, 'nModified': 31, 'ok': 1.0, 'updatedExisting': True}, acknowledged=True)"
      ]
     },
     "execution_count": 23,
     "metadata": {},
     "output_type": "execute_result"
    }
   ],
   "source": [
    "products_col.update_many({}, {\"$unset\": {\"date_added\": True}})"
   ]
  },
  {
   "cell_type": "code",
   "execution_count": null,
   "id": "a76c68b1",
   "metadata": {},
   "outputs": [],
   "source": []
  }
 ],
 "metadata": {
  "kernelspec": {
   "display_name": "Python 3 (ipykernel)",
   "language": "python",
   "name": "python3"
  },
  "language_info": {
   "codemirror_mode": {
    "name": "ipython",
    "version": 3
   },
   "file_extension": ".py",
   "mimetype": "text/x-python",
   "name": "python",
   "nbconvert_exporter": "python",
   "pygments_lexer": "ipython3",
   "version": "3.12.5"
  }
 },
 "nbformat": 4,
 "nbformat_minor": 5
}
