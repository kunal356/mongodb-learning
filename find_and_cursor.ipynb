{
 "cells": [
  {
   "cell_type": "code",
   "execution_count": 1,
   "metadata": {},
   "outputs": [],
   "source": [
    "import pymongo\n",
    "from pymongo import MongoClient"
   ]
  },
  {
   "cell_type": "code",
   "execution_count": 6,
   "metadata": {},
   "outputs": [],
   "source": [
    "client = MongoClient(\"mongodb://localhost:27017/\")\n",
    "db = client[\"shop\"]\n",
    "products_col = db.products"
   ]
  },
  {
   "cell_type": "code",
   "execution_count": null,
   "metadata": {},
   "outputs": [],
   "source": [
    "products_col.delete_many({})"
   ]
  },
  {
   "cell_type": "code",
   "execution_count": 23,
   "metadata": {},
   "outputs": [
    {
     "data": {
      "text/plain": [
       "InsertManyResult([ObjectId('66f720a6593ed3e07defb3be'), ObjectId('66f720a6593ed3e07defb3bf'), ObjectId('66f720a6593ed3e07defb3c0'), ObjectId('66f720a6593ed3e07defb3c1'), ObjectId('66f720a6593ed3e07defb3c2'), ObjectId('66f720a6593ed3e07defb3c3'), ObjectId('66f720a6593ed3e07defb3c4'), ObjectId('66f720a6593ed3e07defb3c5'), ObjectId('66f720a6593ed3e07defb3c6'), ObjectId('66f720a6593ed3e07defb3c7'), ObjectId('66f720a6593ed3e07defb3c8'), ObjectId('66f720a6593ed3e07defb3c9'), ObjectId('66f720a6593ed3e07defb3ca'), ObjectId('66f720a6593ed3e07defb3cb'), ObjectId('66f720a6593ed3e07defb3cc')], acknowledged=True)"
      ]
     },
     "execution_count": 23,
     "metadata": {},
     "output_type": "execute_result"
    }
   ],
   "source": [
    "products_col.insert_many([\n",
    "  {\n",
    "    \"name\": \"Wireless Earbuds\",\n",
    "    \"description\": \"Bluetooth-enabled wireless earbuds with noise cancellation.\",\n",
    "    \"price\": 45.99\n",
    "  },\n",
    "  {\n",
    "    \"name\": \"Wireless Earbuds\",\n",
    "    \"description\": \"High-quality wireless earbuds with immersive sound and long battery life.\",\n",
    "    \"price\": 55.00\n",
    "  },\n",
    "  {\n",
    "    \"name\": \"Laptop Stand\",\n",
    "    \"description\": \"Adjustable aluminum stand for laptops, suitable for all sizes.\",\n",
    "    \"price\": 25.50\n",
    "  },\n",
    "  {\n",
    "    \"name\": \"Smartphone Case\",\n",
    "    \"description\": \"Durable, shockproof smartphone case compatible with multiple models.\",\n",
    "    \"price\": 12.99\n",
    "  },\n",
    "  {\n",
    "    \"name\": \"Smartphone Case\",\n",
    "    \"description\": \"Silicone case with reinforced corners for extra protection.\",\n",
    "    \"price\": 9.99\n",
    "  },\n",
    "  {\n",
    "    \"name\": \"Gaming Mouse\",\n",
    "    \"description\": \"Ergonomic gaming mouse with customizable RGB lighting.\",\n",
    "    \"price\": 29.99\n",
    "  },\n",
    "  {\n",
    "    \"name\": \"Wireless Keyboard\",\n",
    "    \"description\": \"Sleek and compact wireless keyboard with built-in rechargeable battery.\",\n",
    "    \"price\": 40.00\n",
    "  },\n",
    "  {\n",
    "    \"name\": \"Portable Charger\",\n",
    "    \"description\": \"10,000mAh portable charger with dual USB ports and fast charging capabilities.\",\n",
    "    \"price\": 19.50\n",
    "  },\n",
    "  {\n",
    "    \"name\": \"Portable Charger\",\n",
    "    \"description\": \"Compact 5,000mAh portable charger, lightweight and easy to carry.\",\n",
    "    \"price\": 15.00\n",
    "  },\n",
    "  {\n",
    "    \"name\": \"Fitness Tracker\",\n",
    "    \"description\": \"Waterproof fitness tracker with heart rate monitor and sleep tracking.\",\n",
    "    \"price\": 49.99\n",
    "  },\n",
    "  {\n",
    "    \"name\": \"Wireless Mouse\",\n",
    "    \"description\": \"Smooth wireless mouse with adjustable DPI and USB receiver.\",\n",
    "    \"price\": 18.75\n",
    "  },\n",
    "  {\n",
    "    \"name\": \"Bluetooth Speaker\",\n",
    "    \"description\": \"Portable Bluetooth speaker with deep bass and long battery life.\",\n",
    "    \"price\": 35.00\n",
    "  },\n",
    "  {\n",
    "    \"name\": \"LED Desk Lamp\",\n",
    "    \"description\": \"Dimmable LED desk lamp with adjustable brightness and color temperature.\",\n",
    "    \"price\": 22.99\n",
    "  },\n",
    "  {\n",
    "    \"name\": \"USB-C Hub\",\n",
    "    \"description\": \"7-in-1 USB-C hub with HDMI, USB 3.0, and SD card reader.\",\n",
    "    \"price\": 30.00\n",
    "  },\n",
    "  {\n",
    "    \"name\": \"Gaming Headset\",\n",
    "    \"description\": \"Over-ear gaming headset with noise-cancelling microphone and surround sound.\",\n",
    "    \"price\": 60.00\n",
    "  }\n",
    "]\n",
    ")"
   ]
  },
  {
   "cell_type": "code",
   "execution_count": 24,
   "metadata": {},
   "outputs": [],
   "source": [
    "find_one_res = products_col.find_one({\"name\": \"Wireless Earbuds\"})"
   ]
  },
  {
   "cell_type": "code",
   "execution_count": 25,
   "metadata": {},
   "outputs": [
    {
     "data": {
      "text/plain": [
       "ObjectId('66f7206c593ed3e07defb3af')"
      ]
     },
     "execution_count": 25,
     "metadata": {},
     "output_type": "execute_result"
    }
   ],
   "source": [
    "find_one_res[\"_id\"]"
   ]
  },
  {
   "cell_type": "code",
   "execution_count": 26,
   "metadata": {},
   "outputs": [
    {
     "data": {
      "text/plain": [
       "'Wireless Earbuds'"
      ]
     },
     "execution_count": 26,
     "metadata": {},
     "output_type": "execute_result"
    }
   ],
   "source": [
    "find_one_res[\"name\"]"
   ]
  },
  {
   "cell_type": "code",
   "execution_count": 29,
   "metadata": {},
   "outputs": [],
   "source": [
    "pen_cursor = products_col.find({\"name\":\"Wireless Earbuds\"})"
   ]
  },
  {
   "cell_type": "code",
   "execution_count": 30,
   "metadata": {},
   "outputs": [
    {
     "name": "stdout",
     "output_type": "stream",
     "text": [
      "{'_id': ObjectId('66f7206c593ed3e07defb3af'), 'name': 'Wireless Earbuds', 'description': 'Bluetooth-enabled wireless earbuds with noise cancellation.', 'price': 45.99}\n",
      "{'_id': ObjectId('66f7206c593ed3e07defb3b0'), 'name': 'Wireless Earbuds', 'description': 'High-quality wireless earbuds with immersive sound and long battery life.', 'price': 55.0}\n",
      "{'_id': ObjectId('66f720a6593ed3e07defb3be'), 'name': 'Wireless Earbuds', 'description': 'Bluetooth-enabled wireless earbuds with noise cancellation.', 'price': 45.99}\n",
      "{'_id': ObjectId('66f720a6593ed3e07defb3bf'), 'name': 'Wireless Earbuds', 'description': 'High-quality wireless earbuds with immersive sound and long battery life.', 'price': 55.0}\n"
     ]
    }
   ],
   "source": [
    "for document in pen_cursor:\n",
    "    print(document)"
   ]
  },
  {
   "cell_type": "code",
   "execution_count": 31,
   "metadata": {},
   "outputs": [
    {
     "data": {
      "text/plain": [
       "False"
      ]
     },
     "execution_count": 31,
     "metadata": {},
     "output_type": "execute_result"
    }
   ],
   "source": [
    "pen_cursor.alive"
   ]
  },
  {
   "cell_type": "markdown",
   "metadata": {},
   "source": [
    "### sort()"
   ]
  },
  {
   "cell_type": "code",
   "execution_count": 32,
   "metadata": {},
   "outputs": [
    {
     "name": "stdout",
     "output_type": "stream",
     "text": [
      "{'_id': ObjectId('66f7206c593ed3e07defb3b3'), 'name': 'Smartphone Case', 'description': 'Silicone case with reinforced corners for extra protection.', 'price': 9.99}\n",
      "{'_id': ObjectId('66f720a6593ed3e07defb3c2'), 'name': 'Smartphone Case', 'description': 'Silicone case with reinforced corners for extra protection.', 'price': 9.99}\n",
      "{'_id': ObjectId('66f7206c593ed3e07defb3b2'), 'name': 'Smartphone Case', 'description': 'Durable, shockproof smartphone case compatible with multiple models.', 'price': 12.99}\n",
      "{'_id': ObjectId('66f720a6593ed3e07defb3c1'), 'name': 'Smartphone Case', 'description': 'Durable, shockproof smartphone case compatible with multiple models.', 'price': 12.99}\n",
      "{'_id': ObjectId('66f7206c593ed3e07defb3b7'), 'name': 'Portable Charger', 'description': 'Compact 5,000mAh portable charger, lightweight and easy to carry.', 'price': 15.0}\n",
      "{'_id': ObjectId('66f720a6593ed3e07defb3c6'), 'name': 'Portable Charger', 'description': 'Compact 5,000mAh portable charger, lightweight and easy to carry.', 'price': 15.0}\n",
      "{'_id': ObjectId('66f7206c593ed3e07defb3b9'), 'name': 'Wireless Mouse', 'description': 'Smooth wireless mouse with adjustable DPI and USB receiver.', 'price': 18.75}\n",
      "{'_id': ObjectId('66f720a6593ed3e07defb3c8'), 'name': 'Wireless Mouse', 'description': 'Smooth wireless mouse with adjustable DPI and USB receiver.', 'price': 18.75}\n",
      "{'_id': ObjectId('66f7206c593ed3e07defb3b6'), 'name': 'Portable Charger', 'description': '10,000mAh portable charger with dual USB ports and fast charging capabilities.', 'price': 19.5}\n",
      "{'_id': ObjectId('66f720a6593ed3e07defb3c5'), 'name': 'Portable Charger', 'description': '10,000mAh portable charger with dual USB ports and fast charging capabilities.', 'price': 19.5}\n",
      "{'_id': ObjectId('66f7206c593ed3e07defb3bb'), 'name': 'LED Desk Lamp', 'description': 'Dimmable LED desk lamp with adjustable brightness and color temperature.', 'price': 22.99}\n",
      "{'_id': ObjectId('66f720a6593ed3e07defb3ca'), 'name': 'LED Desk Lamp', 'description': 'Dimmable LED desk lamp with adjustable brightness and color temperature.', 'price': 22.99}\n",
      "{'_id': ObjectId('66f7206c593ed3e07defb3b1'), 'name': 'Laptop Stand', 'description': 'Adjustable aluminum stand for laptops, suitable for all sizes.', 'price': 25.5}\n",
      "{'_id': ObjectId('66f720a6593ed3e07defb3c0'), 'name': 'Laptop Stand', 'description': 'Adjustable aluminum stand for laptops, suitable for all sizes.', 'price': 25.5}\n",
      "{'_id': ObjectId('66f7206c593ed3e07defb3b4'), 'name': 'Gaming Mouse', 'description': 'Ergonomic gaming mouse with customizable RGB lighting.', 'price': 29.99}\n",
      "{'_id': ObjectId('66f720a6593ed3e07defb3c3'), 'name': 'Gaming Mouse', 'description': 'Ergonomic gaming mouse with customizable RGB lighting.', 'price': 29.99}\n",
      "{'_id': ObjectId('66f7206c593ed3e07defb3bc'), 'name': 'USB-C Hub', 'description': '7-in-1 USB-C hub with HDMI, USB 3.0, and SD card reader.', 'price': 30.0}\n",
      "{'_id': ObjectId('66f720a6593ed3e07defb3cb'), 'name': 'USB-C Hub', 'description': '7-in-1 USB-C hub with HDMI, USB 3.0, and SD card reader.', 'price': 30.0}\n",
      "{'_id': ObjectId('66f7206c593ed3e07defb3ba'), 'name': 'Bluetooth Speaker', 'description': 'Portable Bluetooth speaker with deep bass and long battery life.', 'price': 35.0}\n",
      "{'_id': ObjectId('66f720a6593ed3e07defb3c9'), 'name': 'Bluetooth Speaker', 'description': 'Portable Bluetooth speaker with deep bass and long battery life.', 'price': 35.0}\n",
      "{'_id': ObjectId('66f7206c593ed3e07defb3b5'), 'name': 'Wireless Keyboard', 'description': 'Sleek and compact wireless keyboard with built-in rechargeable battery.', 'price': 40.0}\n",
      "{'_id': ObjectId('66f720a6593ed3e07defb3c4'), 'name': 'Wireless Keyboard', 'description': 'Sleek and compact wireless keyboard with built-in rechargeable battery.', 'price': 40.0}\n",
      "{'_id': ObjectId('66f7206c593ed3e07defb3af'), 'name': 'Wireless Earbuds', 'description': 'Bluetooth-enabled wireless earbuds with noise cancellation.', 'price': 45.99}\n",
      "{'_id': ObjectId('66f720a6593ed3e07defb3be'), 'name': 'Wireless Earbuds', 'description': 'Bluetooth-enabled wireless earbuds with noise cancellation.', 'price': 45.99}\n",
      "{'_id': ObjectId('66f7206c593ed3e07defb3b8'), 'name': 'Fitness Tracker', 'description': 'Waterproof fitness tracker with heart rate monitor and sleep tracking.', 'price': 49.99}\n",
      "{'_id': ObjectId('66f720a6593ed3e07defb3c7'), 'name': 'Fitness Tracker', 'description': 'Waterproof fitness tracker with heart rate monitor and sleep tracking.', 'price': 49.99}\n",
      "{'_id': ObjectId('66f7206c593ed3e07defb3b0'), 'name': 'Wireless Earbuds', 'description': 'High-quality wireless earbuds with immersive sound and long battery life.', 'price': 55.0}\n",
      "{'_id': ObjectId('66f720a6593ed3e07defb3bf'), 'name': 'Wireless Earbuds', 'description': 'High-quality wireless earbuds with immersive sound and long battery life.', 'price': 55.0}\n",
      "{'_id': ObjectId('66f7206c593ed3e07defb3bd'), 'name': 'Gaming Headset', 'description': 'Over-ear gaming headset with noise-cancelling microphone and surround sound.', 'price': 60.0}\n",
      "{'_id': ObjectId('66f720a6593ed3e07defb3cc'), 'name': 'Gaming Headset', 'description': 'Over-ear gaming headset with noise-cancelling microphone and surround sound.', 'price': 60.0}\n"
     ]
    }
   ],
   "source": [
    "for document in products_col.find({}).sort(\"price\", pymongo.ASCENDING):\n",
    "    print(document)"
   ]
  },
  {
   "cell_type": "code",
   "execution_count": 33,
   "metadata": {},
   "outputs": [
    {
     "name": "stdout",
     "output_type": "stream",
     "text": [
      "{'_id': ObjectId('66f7206c593ed3e07defb3bd'), 'name': 'Gaming Headset', 'description': 'Over-ear gaming headset with noise-cancelling microphone and surround sound.', 'price': 60.0}\n",
      "{'_id': ObjectId('66f720a6593ed3e07defb3cc'), 'name': 'Gaming Headset', 'description': 'Over-ear gaming headset with noise-cancelling microphone and surround sound.', 'price': 60.0}\n",
      "{'_id': ObjectId('66f7206c593ed3e07defb3b0'), 'name': 'Wireless Earbuds', 'description': 'High-quality wireless earbuds with immersive sound and long battery life.', 'price': 55.0}\n",
      "{'_id': ObjectId('66f720a6593ed3e07defb3bf'), 'name': 'Wireless Earbuds', 'description': 'High-quality wireless earbuds with immersive sound and long battery life.', 'price': 55.0}\n",
      "{'_id': ObjectId('66f7206c593ed3e07defb3b8'), 'name': 'Fitness Tracker', 'description': 'Waterproof fitness tracker with heart rate monitor and sleep tracking.', 'price': 49.99}\n",
      "{'_id': ObjectId('66f720a6593ed3e07defb3c7'), 'name': 'Fitness Tracker', 'description': 'Waterproof fitness tracker with heart rate monitor and sleep tracking.', 'price': 49.99}\n",
      "{'_id': ObjectId('66f7206c593ed3e07defb3af'), 'name': 'Wireless Earbuds', 'description': 'Bluetooth-enabled wireless earbuds with noise cancellation.', 'price': 45.99}\n",
      "{'_id': ObjectId('66f720a6593ed3e07defb3be'), 'name': 'Wireless Earbuds', 'description': 'Bluetooth-enabled wireless earbuds with noise cancellation.', 'price': 45.99}\n",
      "{'_id': ObjectId('66f7206c593ed3e07defb3b5'), 'name': 'Wireless Keyboard', 'description': 'Sleek and compact wireless keyboard with built-in rechargeable battery.', 'price': 40.0}\n",
      "{'_id': ObjectId('66f720a6593ed3e07defb3c4'), 'name': 'Wireless Keyboard', 'description': 'Sleek and compact wireless keyboard with built-in rechargeable battery.', 'price': 40.0}\n",
      "{'_id': ObjectId('66f7206c593ed3e07defb3ba'), 'name': 'Bluetooth Speaker', 'description': 'Portable Bluetooth speaker with deep bass and long battery life.', 'price': 35.0}\n",
      "{'_id': ObjectId('66f720a6593ed3e07defb3c9'), 'name': 'Bluetooth Speaker', 'description': 'Portable Bluetooth speaker with deep bass and long battery life.', 'price': 35.0}\n",
      "{'_id': ObjectId('66f7206c593ed3e07defb3bc'), 'name': 'USB-C Hub', 'description': '7-in-1 USB-C hub with HDMI, USB 3.0, and SD card reader.', 'price': 30.0}\n",
      "{'_id': ObjectId('66f720a6593ed3e07defb3cb'), 'name': 'USB-C Hub', 'description': '7-in-1 USB-C hub with HDMI, USB 3.0, and SD card reader.', 'price': 30.0}\n",
      "{'_id': ObjectId('66f7206c593ed3e07defb3b4'), 'name': 'Gaming Mouse', 'description': 'Ergonomic gaming mouse with customizable RGB lighting.', 'price': 29.99}\n",
      "{'_id': ObjectId('66f720a6593ed3e07defb3c3'), 'name': 'Gaming Mouse', 'description': 'Ergonomic gaming mouse with customizable RGB lighting.', 'price': 29.99}\n",
      "{'_id': ObjectId('66f7206c593ed3e07defb3b1'), 'name': 'Laptop Stand', 'description': 'Adjustable aluminum stand for laptops, suitable for all sizes.', 'price': 25.5}\n",
      "{'_id': ObjectId('66f720a6593ed3e07defb3c0'), 'name': 'Laptop Stand', 'description': 'Adjustable aluminum stand for laptops, suitable for all sizes.', 'price': 25.5}\n",
      "{'_id': ObjectId('66f7206c593ed3e07defb3bb'), 'name': 'LED Desk Lamp', 'description': 'Dimmable LED desk lamp with adjustable brightness and color temperature.', 'price': 22.99}\n",
      "{'_id': ObjectId('66f720a6593ed3e07defb3ca'), 'name': 'LED Desk Lamp', 'description': 'Dimmable LED desk lamp with adjustable brightness and color temperature.', 'price': 22.99}\n",
      "{'_id': ObjectId('66f7206c593ed3e07defb3b6'), 'name': 'Portable Charger', 'description': '10,000mAh portable charger with dual USB ports and fast charging capabilities.', 'price': 19.5}\n",
      "{'_id': ObjectId('66f720a6593ed3e07defb3c5'), 'name': 'Portable Charger', 'description': '10,000mAh portable charger with dual USB ports and fast charging capabilities.', 'price': 19.5}\n",
      "{'_id': ObjectId('66f7206c593ed3e07defb3b9'), 'name': 'Wireless Mouse', 'description': 'Smooth wireless mouse with adjustable DPI and USB receiver.', 'price': 18.75}\n",
      "{'_id': ObjectId('66f720a6593ed3e07defb3c8'), 'name': 'Wireless Mouse', 'description': 'Smooth wireless mouse with adjustable DPI and USB receiver.', 'price': 18.75}\n",
      "{'_id': ObjectId('66f7206c593ed3e07defb3b7'), 'name': 'Portable Charger', 'description': 'Compact 5,000mAh portable charger, lightweight and easy to carry.', 'price': 15.0}\n",
      "{'_id': ObjectId('66f720a6593ed3e07defb3c6'), 'name': 'Portable Charger', 'description': 'Compact 5,000mAh portable charger, lightweight and easy to carry.', 'price': 15.0}\n",
      "{'_id': ObjectId('66f7206c593ed3e07defb3b2'), 'name': 'Smartphone Case', 'description': 'Durable, shockproof smartphone case compatible with multiple models.', 'price': 12.99}\n",
      "{'_id': ObjectId('66f720a6593ed3e07defb3c1'), 'name': 'Smartphone Case', 'description': 'Durable, shockproof smartphone case compatible with multiple models.', 'price': 12.99}\n",
      "{'_id': ObjectId('66f7206c593ed3e07defb3b3'), 'name': 'Smartphone Case', 'description': 'Silicone case with reinforced corners for extra protection.', 'price': 9.99}\n",
      "{'_id': ObjectId('66f720a6593ed3e07defb3c2'), 'name': 'Smartphone Case', 'description': 'Silicone case with reinforced corners for extra protection.', 'price': 9.99}\n"
     ]
    }
   ],
   "source": [
    "for document in products_col.find({}).sort(\"price\", pymongo.DESCENDING):\n",
    "    print(document)"
   ]
  },
  {
   "cell_type": "code",
   "execution_count": 34,
   "metadata": {},
   "outputs": [
    {
     "data": {
      "text/plain": [
       "1"
      ]
     },
     "execution_count": 34,
     "metadata": {},
     "output_type": "execute_result"
    }
   ],
   "source": [
    "pymongo.ASCENDING"
   ]
  },
  {
   "cell_type": "code",
   "execution_count": 35,
   "metadata": {},
   "outputs": [
    {
     "data": {
      "text/plain": [
       "-1"
      ]
     },
     "execution_count": 35,
     "metadata": {},
     "output_type": "execute_result"
    }
   ],
   "source": [
    "pymongo.DESCENDING"
   ]
  },
  {
   "cell_type": "code",
   "execution_count": 36,
   "metadata": {},
   "outputs": [
    {
     "name": "stdout",
     "output_type": "stream",
     "text": [
      "{'_id': ObjectId('66f7206c593ed3e07defb3b3'), 'name': 'Smartphone Case', 'description': 'Silicone case with reinforced corners for extra protection.', 'price': 9.99}\n",
      "{'_id': ObjectId('66f720a6593ed3e07defb3c2'), 'name': 'Smartphone Case', 'description': 'Silicone case with reinforced corners for extra protection.', 'price': 9.99}\n",
      "{'_id': ObjectId('66f7206c593ed3e07defb3b2'), 'name': 'Smartphone Case', 'description': 'Durable, shockproof smartphone case compatible with multiple models.', 'price': 12.99}\n",
      "{'_id': ObjectId('66f720a6593ed3e07defb3c1'), 'name': 'Smartphone Case', 'description': 'Durable, shockproof smartphone case compatible with multiple models.', 'price': 12.99}\n",
      "{'_id': ObjectId('66f7206c593ed3e07defb3b7'), 'name': 'Portable Charger', 'description': 'Compact 5,000mAh portable charger, lightweight and easy to carry.', 'price': 15.0}\n",
      "{'_id': ObjectId('66f720a6593ed3e07defb3c6'), 'name': 'Portable Charger', 'description': 'Compact 5,000mAh portable charger, lightweight and easy to carry.', 'price': 15.0}\n",
      "{'_id': ObjectId('66f7206c593ed3e07defb3b9'), 'name': 'Wireless Mouse', 'description': 'Smooth wireless mouse with adjustable DPI and USB receiver.', 'price': 18.75}\n",
      "{'_id': ObjectId('66f720a6593ed3e07defb3c8'), 'name': 'Wireless Mouse', 'description': 'Smooth wireless mouse with adjustable DPI and USB receiver.', 'price': 18.75}\n",
      "{'_id': ObjectId('66f7206c593ed3e07defb3b6'), 'name': 'Portable Charger', 'description': '10,000mAh portable charger with dual USB ports and fast charging capabilities.', 'price': 19.5}\n",
      "{'_id': ObjectId('66f720a6593ed3e07defb3c5'), 'name': 'Portable Charger', 'description': '10,000mAh portable charger with dual USB ports and fast charging capabilities.', 'price': 19.5}\n",
      "{'_id': ObjectId('66f7206c593ed3e07defb3bb'), 'name': 'LED Desk Lamp', 'description': 'Dimmable LED desk lamp with adjustable brightness and color temperature.', 'price': 22.99}\n",
      "{'_id': ObjectId('66f720a6593ed3e07defb3ca'), 'name': 'LED Desk Lamp', 'description': 'Dimmable LED desk lamp with adjustable brightness and color temperature.', 'price': 22.99}\n",
      "{'_id': ObjectId('66f7206c593ed3e07defb3b1'), 'name': 'Laptop Stand', 'description': 'Adjustable aluminum stand for laptops, suitable for all sizes.', 'price': 25.5}\n",
      "{'_id': ObjectId('66f720a6593ed3e07defb3c0'), 'name': 'Laptop Stand', 'description': 'Adjustable aluminum stand for laptops, suitable for all sizes.', 'price': 25.5}\n",
      "{'_id': ObjectId('66f7206c593ed3e07defb3b4'), 'name': 'Gaming Mouse', 'description': 'Ergonomic gaming mouse with customizable RGB lighting.', 'price': 29.99}\n",
      "{'_id': ObjectId('66f720a6593ed3e07defb3c3'), 'name': 'Gaming Mouse', 'description': 'Ergonomic gaming mouse with customizable RGB lighting.', 'price': 29.99}\n",
      "{'_id': ObjectId('66f7206c593ed3e07defb3bc'), 'name': 'USB-C Hub', 'description': '7-in-1 USB-C hub with HDMI, USB 3.0, and SD card reader.', 'price': 30.0}\n",
      "{'_id': ObjectId('66f720a6593ed3e07defb3cb'), 'name': 'USB-C Hub', 'description': '7-in-1 USB-C hub with HDMI, USB 3.0, and SD card reader.', 'price': 30.0}\n",
      "{'_id': ObjectId('66f7206c593ed3e07defb3ba'), 'name': 'Bluetooth Speaker', 'description': 'Portable Bluetooth speaker with deep bass and long battery life.', 'price': 35.0}\n",
      "{'_id': ObjectId('66f720a6593ed3e07defb3c9'), 'name': 'Bluetooth Speaker', 'description': 'Portable Bluetooth speaker with deep bass and long battery life.', 'price': 35.0}\n",
      "{'_id': ObjectId('66f7206c593ed3e07defb3b5'), 'name': 'Wireless Keyboard', 'description': 'Sleek and compact wireless keyboard with built-in rechargeable battery.', 'price': 40.0}\n",
      "{'_id': ObjectId('66f720a6593ed3e07defb3c4'), 'name': 'Wireless Keyboard', 'description': 'Sleek and compact wireless keyboard with built-in rechargeable battery.', 'price': 40.0}\n",
      "{'_id': ObjectId('66f7206c593ed3e07defb3af'), 'name': 'Wireless Earbuds', 'description': 'Bluetooth-enabled wireless earbuds with noise cancellation.', 'price': 45.99}\n",
      "{'_id': ObjectId('66f720a6593ed3e07defb3be'), 'name': 'Wireless Earbuds', 'description': 'Bluetooth-enabled wireless earbuds with noise cancellation.', 'price': 45.99}\n",
      "{'_id': ObjectId('66f7206c593ed3e07defb3b8'), 'name': 'Fitness Tracker', 'description': 'Waterproof fitness tracker with heart rate monitor and sleep tracking.', 'price': 49.99}\n",
      "{'_id': ObjectId('66f720a6593ed3e07defb3c7'), 'name': 'Fitness Tracker', 'description': 'Waterproof fitness tracker with heart rate monitor and sleep tracking.', 'price': 49.99}\n",
      "{'_id': ObjectId('66f7206c593ed3e07defb3b0'), 'name': 'Wireless Earbuds', 'description': 'High-quality wireless earbuds with immersive sound and long battery life.', 'price': 55.0}\n",
      "{'_id': ObjectId('66f720a6593ed3e07defb3bf'), 'name': 'Wireless Earbuds', 'description': 'High-quality wireless earbuds with immersive sound and long battery life.', 'price': 55.0}\n",
      "{'_id': ObjectId('66f7206c593ed3e07defb3bd'), 'name': 'Gaming Headset', 'description': 'Over-ear gaming headset with noise-cancelling microphone and surround sound.', 'price': 60.0}\n",
      "{'_id': ObjectId('66f720a6593ed3e07defb3cc'), 'name': 'Gaming Headset', 'description': 'Over-ear gaming headset with noise-cancelling microphone and surround sound.', 'price': 60.0}\n"
     ]
    }
   ],
   "source": [
    "for document in products_col.find({}).sort(\"price\", 1):\n",
    "    print(document)"
   ]
  },
  {
   "cell_type": "markdown",
   "metadata": {},
   "source": [
    "### limit() and skip()\n"
   ]
  },
  {
   "cell_type": "code",
   "execution_count": 37,
   "metadata": {},
   "outputs": [
    {
     "name": "stdout",
     "output_type": "stream",
     "text": [
      "{'_id': ObjectId('66f7206c593ed3e07defb3af'), 'name': 'Wireless Earbuds', 'description': 'Bluetooth-enabled wireless earbuds with noise cancellation.', 'price': 45.99}\n",
      "{'_id': ObjectId('66f7206c593ed3e07defb3b0'), 'name': 'Wireless Earbuds', 'description': 'High-quality wireless earbuds with immersive sound and long battery life.', 'price': 55.0}\n",
      "{'_id': ObjectId('66f7206c593ed3e07defb3b1'), 'name': 'Laptop Stand', 'description': 'Adjustable aluminum stand for laptops, suitable for all sizes.', 'price': 25.5}\n",
      "{'_id': ObjectId('66f7206c593ed3e07defb3b2'), 'name': 'Smartphone Case', 'description': 'Durable, shockproof smartphone case compatible with multiple models.', 'price': 12.99}\n",
      "{'_id': ObjectId('66f7206c593ed3e07defb3b3'), 'name': 'Smartphone Case', 'description': 'Silicone case with reinforced corners for extra protection.', 'price': 9.99}\n"
     ]
    }
   ],
   "source": [
    "for document in products_col.find({}).limit(5):\n",
    "    print(document)"
   ]
  },
  {
   "cell_type": "code",
   "execution_count": 40,
   "metadata": {},
   "outputs": [
    {
     "name": "stdout",
     "output_type": "stream",
     "text": [
      "{'_id': ObjectId('66f720a6593ed3e07defb3c8'), 'name': 'Wireless Mouse', 'description': 'Smooth wireless mouse with adjustable DPI and USB receiver.', 'price': 18.75}\n",
      "{'_id': ObjectId('66f720a6593ed3e07defb3c9'), 'name': 'Bluetooth Speaker', 'description': 'Portable Bluetooth speaker with deep bass and long battery life.', 'price': 35.0}\n",
      "{'_id': ObjectId('66f720a6593ed3e07defb3ca'), 'name': 'LED Desk Lamp', 'description': 'Dimmable LED desk lamp with adjustable brightness and color temperature.', 'price': 22.99}\n",
      "{'_id': ObjectId('66f720a6593ed3e07defb3cb'), 'name': 'USB-C Hub', 'description': '7-in-1 USB-C hub with HDMI, USB 3.0, and SD card reader.', 'price': 30.0}\n",
      "{'_id': ObjectId('66f720a6593ed3e07defb3cc'), 'name': 'Gaming Headset', 'description': 'Over-ear gaming headset with noise-cancelling microphone and surround sound.', 'price': 60.0}\n"
     ]
    }
   ],
   "source": [
    "for document in products_col.find({}).skip(25):\n",
    "    print(document)"
   ]
  },
  {
   "cell_type": "code",
   "execution_count": 41,
   "metadata": {},
   "outputs": [
    {
     "name": "stdout",
     "output_type": "stream",
     "text": [
      "\n",
      "-- Page 1 --\n",
      "{'_id': ObjectId('66f7206c593ed3e07defb3af'), 'name': 'Wireless Earbuds', 'description': 'Bluetooth-enabled wireless earbuds with noise cancellation.', 'price': 45.99}\n",
      "{'_id': ObjectId('66f7206c593ed3e07defb3b0'), 'name': 'Wireless Earbuds', 'description': 'High-quality wireless earbuds with immersive sound and long battery life.', 'price': 55.0}\n",
      "{'_id': ObjectId('66f7206c593ed3e07defb3b1'), 'name': 'Laptop Stand', 'description': 'Adjustable aluminum stand for laptops, suitable for all sizes.', 'price': 25.5}\n",
      "{'_id': ObjectId('66f7206c593ed3e07defb3b2'), 'name': 'Smartphone Case', 'description': 'Durable, shockproof smartphone case compatible with multiple models.', 'price': 12.99}\n",
      "{'_id': ObjectId('66f7206c593ed3e07defb3b3'), 'name': 'Smartphone Case', 'description': 'Silicone case with reinforced corners for extra protection.', 'price': 9.99}\n",
      "{'_id': ObjectId('66f7206c593ed3e07defb3b4'), 'name': 'Gaming Mouse', 'description': 'Ergonomic gaming mouse with customizable RGB lighting.', 'price': 29.99}\n",
      "{'_id': ObjectId('66f7206c593ed3e07defb3b5'), 'name': 'Wireless Keyboard', 'description': 'Sleek and compact wireless keyboard with built-in rechargeable battery.', 'price': 40.0}\n",
      "{'_id': ObjectId('66f7206c593ed3e07defb3b6'), 'name': 'Portable Charger', 'description': '10,000mAh portable charger with dual USB ports and fast charging capabilities.', 'price': 19.5}\n",
      "{'_id': ObjectId('66f7206c593ed3e07defb3b7'), 'name': 'Portable Charger', 'description': 'Compact 5,000mAh portable charger, lightweight and easy to carry.', 'price': 15.0}\n",
      "{'_id': ObjectId('66f7206c593ed3e07defb3b8'), 'name': 'Fitness Tracker', 'description': 'Waterproof fitness tracker with heart rate monitor and sleep tracking.', 'price': 49.99}\n",
      "\n",
      "-- Page 2 --\n",
      "{'_id': ObjectId('66f7206c593ed3e07defb3b9'), 'name': 'Wireless Mouse', 'description': 'Smooth wireless mouse with adjustable DPI and USB receiver.', 'price': 18.75}\n",
      "{'_id': ObjectId('66f7206c593ed3e07defb3ba'), 'name': 'Bluetooth Speaker', 'description': 'Portable Bluetooth speaker with deep bass and long battery life.', 'price': 35.0}\n",
      "{'_id': ObjectId('66f7206c593ed3e07defb3bb'), 'name': 'LED Desk Lamp', 'description': 'Dimmable LED desk lamp with adjustable brightness and color temperature.', 'price': 22.99}\n",
      "{'_id': ObjectId('66f7206c593ed3e07defb3bc'), 'name': 'USB-C Hub', 'description': '7-in-1 USB-C hub with HDMI, USB 3.0, and SD card reader.', 'price': 30.0}\n",
      "{'_id': ObjectId('66f7206c593ed3e07defb3bd'), 'name': 'Gaming Headset', 'description': 'Over-ear gaming headset with noise-cancelling microphone and surround sound.', 'price': 60.0}\n",
      "{'_id': ObjectId('66f720a6593ed3e07defb3be'), 'name': 'Wireless Earbuds', 'description': 'Bluetooth-enabled wireless earbuds with noise cancellation.', 'price': 45.99}\n",
      "{'_id': ObjectId('66f720a6593ed3e07defb3bf'), 'name': 'Wireless Earbuds', 'description': 'High-quality wireless earbuds with immersive sound and long battery life.', 'price': 55.0}\n",
      "{'_id': ObjectId('66f720a6593ed3e07defb3c0'), 'name': 'Laptop Stand', 'description': 'Adjustable aluminum stand for laptops, suitable for all sizes.', 'price': 25.5}\n",
      "{'_id': ObjectId('66f720a6593ed3e07defb3c1'), 'name': 'Smartphone Case', 'description': 'Durable, shockproof smartphone case compatible with multiple models.', 'price': 12.99}\n",
      "{'_id': ObjectId('66f720a6593ed3e07defb3c2'), 'name': 'Smartphone Case', 'description': 'Silicone case with reinforced corners for extra protection.', 'price': 9.99}\n",
      "\n",
      "-- Page 3 --\n",
      "{'_id': ObjectId('66f720a6593ed3e07defb3c3'), 'name': 'Gaming Mouse', 'description': 'Ergonomic gaming mouse with customizable RGB lighting.', 'price': 29.99}\n",
      "{'_id': ObjectId('66f720a6593ed3e07defb3c4'), 'name': 'Wireless Keyboard', 'description': 'Sleek and compact wireless keyboard with built-in rechargeable battery.', 'price': 40.0}\n",
      "{'_id': ObjectId('66f720a6593ed3e07defb3c5'), 'name': 'Portable Charger', 'description': '10,000mAh portable charger with dual USB ports and fast charging capabilities.', 'price': 19.5}\n",
      "{'_id': ObjectId('66f720a6593ed3e07defb3c6'), 'name': 'Portable Charger', 'description': 'Compact 5,000mAh portable charger, lightweight and easy to carry.', 'price': 15.0}\n",
      "{'_id': ObjectId('66f720a6593ed3e07defb3c7'), 'name': 'Fitness Tracker', 'description': 'Waterproof fitness tracker with heart rate monitor and sleep tracking.', 'price': 49.99}\n",
      "{'_id': ObjectId('66f720a6593ed3e07defb3c8'), 'name': 'Wireless Mouse', 'description': 'Smooth wireless mouse with adjustable DPI and USB receiver.', 'price': 18.75}\n",
      "{'_id': ObjectId('66f720a6593ed3e07defb3c9'), 'name': 'Bluetooth Speaker', 'description': 'Portable Bluetooth speaker with deep bass and long battery life.', 'price': 35.0}\n",
      "{'_id': ObjectId('66f720a6593ed3e07defb3ca'), 'name': 'LED Desk Lamp', 'description': 'Dimmable LED desk lamp with adjustable brightness and color temperature.', 'price': 22.99}\n",
      "{'_id': ObjectId('66f720a6593ed3e07defb3cb'), 'name': 'USB-C Hub', 'description': '7-in-1 USB-C hub with HDMI, USB 3.0, and SD card reader.', 'price': 30.0}\n",
      "{'_id': ObjectId('66f720a6593ed3e07defb3cc'), 'name': 'Gaming Headset', 'description': 'Over-ear gaming headset with noise-cancelling microphone and surround sound.', 'price': 60.0}\n"
     ]
    }
   ],
   "source": [
    "page_item_limit = 10\n",
    "\n",
    "products_cursor = products_col.find({})\n",
    "\n",
    "for page_num in [1,2,3]:\n",
    "    print(\"\\n-- Page {} --\".format(page_num))\n",
    "    for document in products_col.find({}).skip((page_num-1)*page_item_limit).limit(page_item_limit):\n",
    "        print(document)"
   ]
  },
  {
   "cell_type": "markdown",
   "metadata": {},
   "source": [
    "### cursor.count() vs collection.count_documents()"
   ]
  },
  {
   "cell_type": "code",
   "execution_count": 55,
   "metadata": {},
   "outputs": [],
   "source": [
    "find_query_filter = {\"name\" : \"Wireless Earbuds\"}\n",
    "find_cursor = products_col.find(find_query_filter)"
   ]
  },
  {
   "cell_type": "code",
   "execution_count": 56,
   "metadata": {},
   "outputs": [
    {
     "ename": "AttributeError",
     "evalue": "'dict' object has no attribute 'count'",
     "output_type": "error",
     "traceback": [
      "\u001b[1;31m---------------------------------------------------------------------------\u001b[0m",
      "\u001b[1;31mAttributeError\u001b[0m                            Traceback (most recent call last)",
      "Cell \u001b[1;32mIn[56], line 1\u001b[0m\n\u001b[1;32m----> 1\u001b[0m \u001b[43mfind_query_filter\u001b[49m\u001b[38;5;241;43m.\u001b[39;49m\u001b[43mcount\u001b[49m()\n",
      "\u001b[1;31mAttributeError\u001b[0m: 'dict' object has no attribute 'count'"
     ]
    }
   ],
   "source": [
    "find_query_filter.count() ## This function is deprecated"
   ]
  },
  {
   "cell_type": "code",
   "execution_count": 57,
   "metadata": {},
   "outputs": [
    {
     "data": {
      "text/plain": [
       "4"
      ]
     },
     "execution_count": 57,
     "metadata": {},
     "output_type": "execute_result"
    }
   ],
   "source": [
    "products_col.count_documents(find_query_filter)"
   ]
  },
  {
   "cell_type": "markdown",
   "metadata": {},
   "source": [
    "### distinct()"
   ]
  },
  {
   "cell_type": "code",
   "execution_count": 47,
   "metadata": {},
   "outputs": [
    {
     "data": {
      "text/plain": [
       "['Bluetooth Speaker',\n",
       " 'Fitness Tracker',\n",
       " 'Gaming Headset',\n",
       " 'Gaming Mouse',\n",
       " 'LED Desk Lamp',\n",
       " 'Laptop Stand',\n",
       " 'Portable Charger',\n",
       " 'Smartphone Case',\n",
       " 'USB-C Hub',\n",
       " 'Wireless Earbuds',\n",
       " 'Wireless Keyboard',\n",
       " 'Wireless Mouse']"
      ]
     },
     "execution_count": 47,
     "metadata": {},
     "output_type": "execute_result"
    }
   ],
   "source": [
    "product_cursor.distinct(\"name\")"
   ]
  },
  {
   "cell_type": "code",
   "execution_count": 49,
   "metadata": {},
   "outputs": [
    {
     "name": "stdout",
     "output_type": "stream",
     "text": [
      "12 unique product names found vs 30 total entries\n"
     ]
    }
   ],
   "source": [
    "distinct_count = len(products_cursor.distinct(\"name\"))\n",
    "all_count = products_col.count_documents({})\n",
    "\n",
    "print(\"{} unique product names found vs {} total entries\".format(distinct_count, all_count))"
   ]
  },
  {
   "cell_type": "markdown",
   "metadata": {},
   "source": [
    "### Projection"
   ]
  },
  {
   "cell_type": "code",
   "execution_count": 50,
   "metadata": {},
   "outputs": [],
   "source": [
    "find_projection_cursor = products_col.find({\"name\":\"Wireless Earbuds\"}, {\"price\": 1})"
   ]
  },
  {
   "cell_type": "code",
   "execution_count": 51,
   "metadata": {},
   "outputs": [
    {
     "name": "stdout",
     "output_type": "stream",
     "text": [
      "{'_id': ObjectId('66f7206c593ed3e07defb3af'), 'price': 45.99}\n",
      "{'_id': ObjectId('66f7206c593ed3e07defb3b0'), 'price': 55.0}\n",
      "{'_id': ObjectId('66f720a6593ed3e07defb3be'), 'price': 45.99}\n",
      "{'_id': ObjectId('66f720a6593ed3e07defb3bf'), 'price': 55.0}\n"
     ]
    }
   ],
   "source": [
    "for document in find_projection_cursor:\n",
    "    print(document)"
   ]
  },
  {
   "cell_type": "code",
   "execution_count": 52,
   "metadata": {},
   "outputs": [
    {
     "data": {
      "text/plain": [
       "{'price': 19.5}"
      ]
     },
     "execution_count": 52,
     "metadata": {},
     "output_type": "execute_result"
    }
   ],
   "source": [
    "products_col.find_one({\"name\": \"Portable Charger\"}, {\"_id\":0, \"price\":1})"
   ]
  }
 ],
 "metadata": {
  "kernelspec": {
   "display_name": "Python 3",
   "language": "python",
   "name": "python3"
  },
  "language_info": {
   "codemirror_mode": {
    "name": "ipython",
    "version": 3
   },
   "file_extension": ".py",
   "mimetype": "text/x-python",
   "name": "python",
   "nbconvert_exporter": "python",
   "pygments_lexer": "ipython3",
   "version": "3.12.4"
  }
 },
 "nbformat": 4,
 "nbformat_minor": 2
}
