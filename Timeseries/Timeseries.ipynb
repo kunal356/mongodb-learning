{
 "cells": [
  {
   "cell_type": "markdown",
   "id": "347527e2",
   "metadata": {},
   "source": [
    "## Timeseries Data\n",
    "\n",
    "Go over using Time Series MongoDB collections by scraping stock market data over the internet"
   ]
  },
  {
   "cell_type": "markdown",
   "id": "e2f93e7f",
   "metadata": {},
   "source": [
    "##### Install Dependencies In Terminal (if you do not already have it)\n",
    "```bash\n",
    "pip install --user yfinance\n",
    "pip install --user matplotlib\n",
    "```"
   ]
  },
  {
   "cell_type": "code",
   "execution_count": 2,
   "id": "9ebe4ca7",
   "metadata": {},
   "outputs": [],
   "source": [
    "from pymongo import MongoClient\n",
    "\n",
    "import pandas\n",
    "import yfinance as yf\n",
    "from datetime import datetime, timedelta\n",
    "from dateutil.relativedelta import relativedelta"
   ]
  },
  {
   "cell_type": "markdown",
   "id": "d0a37460",
   "metadata": {},
   "source": [
    "### Intro to yfinance"
   ]
  },
  {
   "cell_type": "code",
   "execution_count": 5,
   "id": "aa9f4459",
   "metadata": {},
   "outputs": [
    {
     "name": "stderr",
     "output_type": "stream",
     "text": [
      "[*********************100%***********************]  2 of 2 completed\n"
     ]
    }
   ],
   "source": [
    "tickers = [\"AMZN\", \"GOOGL\"]\n",
    "data = yf.download(tickers=tickers, period=\"1y\", interval=\"1d\")"
   ]
  },
  {
   "cell_type": "code",
   "execution_count": 6,
   "id": "2f9afb6b",
   "metadata": {},
   "outputs": [
    {
     "name": "stdout",
     "output_type": "stream",
     "text": [
      "<class 'pandas.core.frame.DataFrame'>\n"
     ]
    },
    {
     "data": {
      "text/html": [
       "<div>\n",
       "<style scoped>\n",
       "    .dataframe tbody tr th:only-of-type {\n",
       "        vertical-align: middle;\n",
       "    }\n",
       "\n",
       "    .dataframe tbody tr th {\n",
       "        vertical-align: top;\n",
       "    }\n",
       "\n",
       "    .dataframe thead tr th {\n",
       "        text-align: left;\n",
       "    }\n",
       "\n",
       "    .dataframe thead tr:last-of-type th {\n",
       "        text-align: right;\n",
       "    }\n",
       "</style>\n",
       "<table border=\"1\" class=\"dataframe\">\n",
       "  <thead>\n",
       "    <tr>\n",
       "      <th>Price</th>\n",
       "      <th colspan=\"2\" halign=\"left\">Adj Close</th>\n",
       "      <th colspan=\"2\" halign=\"left\">Close</th>\n",
       "      <th colspan=\"2\" halign=\"left\">High</th>\n",
       "      <th colspan=\"2\" halign=\"left\">Low</th>\n",
       "      <th colspan=\"2\" halign=\"left\">Open</th>\n",
       "      <th colspan=\"2\" halign=\"left\">Volume</th>\n",
       "    </tr>\n",
       "    <tr>\n",
       "      <th>Ticker</th>\n",
       "      <th>AMZN</th>\n",
       "      <th>GOOGL</th>\n",
       "      <th>AMZN</th>\n",
       "      <th>GOOGL</th>\n",
       "      <th>AMZN</th>\n",
       "      <th>GOOGL</th>\n",
       "      <th>AMZN</th>\n",
       "      <th>GOOGL</th>\n",
       "      <th>AMZN</th>\n",
       "      <th>GOOGL</th>\n",
       "      <th>AMZN</th>\n",
       "      <th>GOOGL</th>\n",
       "    </tr>\n",
       "    <tr>\n",
       "      <th>Date</th>\n",
       "      <th></th>\n",
       "      <th></th>\n",
       "      <th></th>\n",
       "      <th></th>\n",
       "      <th></th>\n",
       "      <th></th>\n",
       "      <th></th>\n",
       "      <th></th>\n",
       "      <th></th>\n",
       "      <th></th>\n",
       "      <th></th>\n",
       "      <th></th>\n",
       "    </tr>\n",
       "  </thead>\n",
       "  <tbody>\n",
       "    <tr>\n",
       "      <th>2023-10-05 00:00:00+00:00</th>\n",
       "      <td>125.959999</td>\n",
       "      <td>134.736374</td>\n",
       "      <td>125.959999</td>\n",
       "      <td>135.070007</td>\n",
       "      <td>126.730003</td>\n",
       "      <td>135.490005</td>\n",
       "      <td>124.330002</td>\n",
       "      <td>133.449997</td>\n",
       "      <td>126.709999</td>\n",
       "      <td>135.070007</td>\n",
       "      <td>39660600</td>\n",
       "      <td>19832600</td>\n",
       "    </tr>\n",
       "    <tr>\n",
       "      <th>2023-10-06 00:00:00+00:00</th>\n",
       "      <td>127.959999</td>\n",
       "      <td>137.240158</td>\n",
       "      <td>127.959999</td>\n",
       "      <td>137.580002</td>\n",
       "      <td>128.449997</td>\n",
       "      <td>138.160004</td>\n",
       "      <td>124.129997</td>\n",
       "      <td>134.009995</td>\n",
       "      <td>124.160004</td>\n",
       "      <td>134.009995</td>\n",
       "      <td>46795900</td>\n",
       "      <td>27583200</td>\n",
       "    </tr>\n",
       "    <tr>\n",
       "      <th>2023-10-09 00:00:00+00:00</th>\n",
       "      <td>128.259995</td>\n",
       "      <td>138.078094</td>\n",
       "      <td>128.259995</td>\n",
       "      <td>138.419998</td>\n",
       "      <td>128.789993</td>\n",
       "      <td>138.940002</td>\n",
       "      <td>124.760002</td>\n",
       "      <td>135.610001</td>\n",
       "      <td>126.220001</td>\n",
       "      <td>136.940002</td>\n",
       "      <td>38773700</td>\n",
       "      <td>19278100</td>\n",
       "    </tr>\n",
       "  </tbody>\n",
       "</table>\n",
       "</div>"
      ],
      "text/plain": [
       "Price                       Adj Close                   Close              \\\n",
       "Ticker                           AMZN       GOOGL        AMZN       GOOGL   \n",
       "Date                                                                        \n",
       "2023-10-05 00:00:00+00:00  125.959999  134.736374  125.959999  135.070007   \n",
       "2023-10-06 00:00:00+00:00  127.959999  137.240158  127.959999  137.580002   \n",
       "2023-10-09 00:00:00+00:00  128.259995  138.078094  128.259995  138.419998   \n",
       "\n",
       "Price                            High                     Low              \\\n",
       "Ticker                           AMZN       GOOGL        AMZN       GOOGL   \n",
       "Date                                                                        \n",
       "2023-10-05 00:00:00+00:00  126.730003  135.490005  124.330002  133.449997   \n",
       "2023-10-06 00:00:00+00:00  128.449997  138.160004  124.129997  134.009995   \n",
       "2023-10-09 00:00:00+00:00  128.789993  138.940002  124.760002  135.610001   \n",
       "\n",
       "Price                            Open                Volume            \n",
       "Ticker                           AMZN       GOOGL      AMZN     GOOGL  \n",
       "Date                                                                   \n",
       "2023-10-05 00:00:00+00:00  126.709999  135.070007  39660600  19832600  \n",
       "2023-10-06 00:00:00+00:00  124.160004  134.009995  46795900  27583200  \n",
       "2023-10-09 00:00:00+00:00  126.220001  136.940002  38773700  19278100  "
      ]
     },
     "execution_count": 6,
     "metadata": {},
     "output_type": "execute_result"
    }
   ],
   "source": [
    "print(type(data))\n",
    "data[0:3]"
   ]
  },
  {
   "cell_type": "code",
   "execution_count": 8,
   "id": "3a3e205f",
   "metadata": {},
   "outputs": [
    {
     "data": {
      "image/png": "[encoded data removed]",
      "text/plain": [
       "<Figure size 1500x500 with 1 Axes>"
      ]
     },
     "metadata": {},
     "output_type": "display_data"
    }
   ],
   "source": [
    "ax = data.plot(y=[\"Close\"], figsize=(15,5), title=str(tickers) + \"Stock Price Close Data\")\n",
    "ax.set_ylabel(\"Close Price ($)\")\n",
    "None"
   ]
  },
  {
   "cell_type": "markdown",
   "id": "0944bc89",
   "metadata": {},
   "source": [
    "### Converting yfinance dataframe to dict format for insertion"
   ]
  },
  {
   "cell_type": "markdown",
   "id": "ad67dd31",
   "metadata": {},
   "source": [
    "##### Swap the columns so the ticker names are the highest level column"
   ]
  },
  {
   "cell_type": "code",
   "execution_count": 9,
   "id": "ba48e391",
   "metadata": {},
   "outputs": [
    {
     "data": {
      "text/html": [
       "<div>\n",
       "<style scoped>\n",
       "    .dataframe tbody tr th:only-of-type {\n",
       "        vertical-align: middle;\n",
       "    }\n",
       "\n",
       "    .dataframe tbody tr th {\n",
       "        vertical-align: top;\n",
       "    }\n",
       "\n",
       "    .dataframe thead tr th {\n",
       "        text-align: left;\n",
       "    }\n",
       "\n",
       "    .dataframe thead tr:last-of-type th {\n",
       "        text-align: right;\n",
       "    }\n",
       "</style>\n",
       "<table border=\"1\" class=\"dataframe\">\n",
       "  <thead>\n",
       "    <tr>\n",
       "      <th>Ticker</th>\n",
       "      <th>AMZN</th>\n",
       "      <th>GOOGL</th>\n",
       "      <th>AMZN</th>\n",
       "      <th>GOOGL</th>\n",
       "      <th>AMZN</th>\n",
       "      <th>GOOGL</th>\n",
       "      <th>AMZN</th>\n",
       "      <th>GOOGL</th>\n",
       "      <th>AMZN</th>\n",
       "      <th>GOOGL</th>\n",
       "      <th>AMZN</th>\n",
       "      <th>GOOGL</th>\n",
       "    </tr>\n",
       "    <tr>\n",
       "      <th>Price</th>\n",
       "      <th>Adj Close</th>\n",
       "      <th>Adj Close</th>\n",
       "      <th>Close</th>\n",
       "      <th>Close</th>\n",
       "      <th>High</th>\n",
       "      <th>High</th>\n",
       "      <th>Low</th>\n",
       "      <th>Low</th>\n",
       "      <th>Open</th>\n",
       "      <th>Open</th>\n",
       "      <th>Volume</th>\n",
       "      <th>Volume</th>\n",
       "    </tr>\n",
       "    <tr>\n",
       "      <th>Date</th>\n",
       "      <th></th>\n",
       "      <th></th>\n",
       "      <th></th>\n",
       "      <th></th>\n",
       "      <th></th>\n",
       "      <th></th>\n",
       "      <th></th>\n",
       "      <th></th>\n",
       "      <th></th>\n",
       "      <th></th>\n",
       "      <th></th>\n",
       "      <th></th>\n",
       "    </tr>\n",
       "  </thead>\n",
       "  <tbody>\n",
       "    <tr>\n",
       "      <th>2023-10-05 00:00:00+00:00</th>\n",
       "      <td>125.959999</td>\n",
       "      <td>134.736374</td>\n",
       "      <td>125.959999</td>\n",
       "      <td>135.070007</td>\n",
       "      <td>126.730003</td>\n",
       "      <td>135.490005</td>\n",
       "      <td>124.330002</td>\n",
       "      <td>133.449997</td>\n",
       "      <td>126.709999</td>\n",
       "      <td>135.070007</td>\n",
       "      <td>39660600</td>\n",
       "      <td>19832600</td>\n",
       "    </tr>\n",
       "    <tr>\n",
       "      <th>2023-10-06 00:00:00+00:00</th>\n",
       "      <td>127.959999</td>\n",
       "      <td>137.240158</td>\n",
       "      <td>127.959999</td>\n",
       "      <td>137.580002</td>\n",
       "      <td>128.449997</td>\n",
       "      <td>138.160004</td>\n",
       "      <td>124.129997</td>\n",
       "      <td>134.009995</td>\n",
       "      <td>124.160004</td>\n",
       "      <td>134.009995</td>\n",
       "      <td>46795900</td>\n",
       "      <td>27583200</td>\n",
       "    </tr>\n",
       "    <tr>\n",
       "      <th>2023-10-09 00:00:00+00:00</th>\n",
       "      <td>128.259995</td>\n",
       "      <td>138.078094</td>\n",
       "      <td>128.259995</td>\n",
       "      <td>138.419998</td>\n",
       "      <td>128.789993</td>\n",
       "      <td>138.940002</td>\n",
       "      <td>124.760002</td>\n",
       "      <td>135.610001</td>\n",
       "      <td>126.220001</td>\n",
       "      <td>136.940002</td>\n",
       "      <td>38773700</td>\n",
       "      <td>19278100</td>\n",
       "    </tr>\n",
       "  </tbody>\n",
       "</table>\n",
       "</div>"
      ],
      "text/plain": [
       "Ticker                           AMZN       GOOGL        AMZN       GOOGL  \\\n",
       "Price                       Adj Close   Adj Close       Close       Close   \n",
       "Date                                                                        \n",
       "2023-10-05 00:00:00+00:00  125.959999  134.736374  125.959999  135.070007   \n",
       "2023-10-06 00:00:00+00:00  127.959999  137.240158  127.959999  137.580002   \n",
       "2023-10-09 00:00:00+00:00  128.259995  138.078094  128.259995  138.419998   \n",
       "\n",
       "Ticker                           AMZN       GOOGL        AMZN       GOOGL  \\\n",
       "Price                            High        High         Low         Low   \n",
       "Date                                                                        \n",
       "2023-10-05 00:00:00+00:00  126.730003  135.490005  124.330002  133.449997   \n",
       "2023-10-06 00:00:00+00:00  128.449997  138.160004  124.129997  134.009995   \n",
       "2023-10-09 00:00:00+00:00  128.789993  138.940002  124.760002  135.610001   \n",
       "\n",
       "Ticker                           AMZN       GOOGL      AMZN     GOOGL  \n",
       "Price                            Open        Open    Volume    Volume  \n",
       "Date                                                                   \n",
       "2023-10-05 00:00:00+00:00  126.709999  135.070007  39660600  19832600  \n",
       "2023-10-06 00:00:00+00:00  124.160004  134.009995  46795900  27583200  \n",
       "2023-10-09 00:00:00+00:00  126.220001  136.940002  38773700  19278100  "
      ]
     },
     "execution_count": 9,
     "metadata": {},
     "output_type": "execute_result"
    }
   ],
   "source": [
    "data.columns = data.columns.swaplevel(0,1)\n",
    "data[0:3]"
   ]
  },
  {
   "cell_type": "code",
   "execution_count": 10,
   "id": "ce655fe4",
   "metadata": {},
   "outputs": [
    {
     "data": {
      "text/html": [
       "<div>\n",
       "<style scoped>\n",
       "    .dataframe tbody tr th:only-of-type {\n",
       "        vertical-align: middle;\n",
       "    }\n",
       "\n",
       "    .dataframe tbody tr th {\n",
       "        vertical-align: top;\n",
       "    }\n",
       "\n",
       "    .dataframe thead th {\n",
       "        text-align: right;\n",
       "    }\n",
       "</style>\n",
       "<table border=\"1\" class=\"dataframe\">\n",
       "  <thead>\n",
       "    <tr style=\"text-align: right;\">\n",
       "      <th>Price</th>\n",
       "      <th>Adj Close</th>\n",
       "      <th>Close</th>\n",
       "      <th>High</th>\n",
       "      <th>Low</th>\n",
       "      <th>Open</th>\n",
       "      <th>Volume</th>\n",
       "    </tr>\n",
       "    <tr>\n",
       "      <th>Date</th>\n",
       "      <th></th>\n",
       "      <th></th>\n",
       "      <th></th>\n",
       "      <th></th>\n",
       "      <th></th>\n",
       "      <th></th>\n",
       "    </tr>\n",
       "  </thead>\n",
       "  <tbody>\n",
       "    <tr>\n",
       "      <th>2023-10-05 00:00:00+00:00</th>\n",
       "      <td>125.959999</td>\n",
       "      <td>125.959999</td>\n",
       "      <td>126.730003</td>\n",
       "      <td>124.330002</td>\n",
       "      <td>126.709999</td>\n",
       "      <td>39660600</td>\n",
       "    </tr>\n",
       "    <tr>\n",
       "      <th>2023-10-06 00:00:00+00:00</th>\n",
       "      <td>127.959999</td>\n",
       "      <td>127.959999</td>\n",
       "      <td>128.449997</td>\n",
       "      <td>124.129997</td>\n",
       "      <td>124.160004</td>\n",
       "      <td>46795900</td>\n",
       "    </tr>\n",
       "    <tr>\n",
       "      <th>2023-10-09 00:00:00+00:00</th>\n",
       "      <td>128.259995</td>\n",
       "      <td>128.259995</td>\n",
       "      <td>128.789993</td>\n",
       "      <td>124.760002</td>\n",
       "      <td>126.220001</td>\n",
       "      <td>38773700</td>\n",
       "    </tr>\n",
       "  </tbody>\n",
       "</table>\n",
       "</div>"
      ],
      "text/plain": [
       "Price                       Adj Close       Close        High         Low  \\\n",
       "Date                                                                        \n",
       "2023-10-05 00:00:00+00:00  125.959999  125.959999  126.730003  124.330002   \n",
       "2023-10-06 00:00:00+00:00  127.959999  127.959999  128.449997  124.129997   \n",
       "2023-10-09 00:00:00+00:00  128.259995  128.259995  128.789993  124.760002   \n",
       "\n",
       "Price                            Open    Volume  \n",
       "Date                                             \n",
       "2023-10-05 00:00:00+00:00  126.709999  39660600  \n",
       "2023-10-06 00:00:00+00:00  124.160004  46795900  \n",
       "2023-10-09 00:00:00+00:00  126.220001  38773700  "
      ]
     },
     "execution_count": 10,
     "metadata": {},
     "output_type": "execute_result"
    }
   ],
   "source": [
    "data[\"AMZN\"][0:3]"
   ]
  },
  {
   "cell_type": "markdown",
   "id": "b2519622",
   "metadata": {},
   "source": [
    "##### Create an attribute an each entry that has the name of the ticker"
   ]
  },
  {
   "cell_type": "code",
   "execution_count": 11,
   "id": "2ac1e294",
   "metadata": {},
   "outputs": [],
   "source": [
    "for ticker in tickers:\n",
    "    data.loc[: , (ticker, \"Ticker\")] = ticker"
   ]
  },
  {
   "cell_type": "code",
   "execution_count": 12,
   "id": "17cb1a50",
   "metadata": {},
   "outputs": [
    {
     "data": {
      "text/html": [
       "<div>\n",
       "<style scoped>\n",
       "    .dataframe tbody tr th:only-of-type {\n",
       "        vertical-align: middle;\n",
       "    }\n",
       "\n",
       "    .dataframe tbody tr th {\n",
       "        vertical-align: top;\n",
       "    }\n",
       "\n",
       "    .dataframe thead th {\n",
       "        text-align: right;\n",
       "    }\n",
       "</style>\n",
       "<table border=\"1\" class=\"dataframe\">\n",
       "  <thead>\n",
       "    <tr style=\"text-align: right;\">\n",
       "      <th>Price</th>\n",
       "      <th>Adj Close</th>\n",
       "      <th>Close</th>\n",
       "      <th>High</th>\n",
       "      <th>Low</th>\n",
       "      <th>Open</th>\n",
       "      <th>Volume</th>\n",
       "      <th>Ticker</th>\n",
       "    </tr>\n",
       "    <tr>\n",
       "      <th>Date</th>\n",
       "      <th></th>\n",
       "      <th></th>\n",
       "      <th></th>\n",
       "      <th></th>\n",
       "      <th></th>\n",
       "      <th></th>\n",
       "      <th></th>\n",
       "    </tr>\n",
       "  </thead>\n",
       "  <tbody>\n",
       "    <tr>\n",
       "      <th>2023-10-05 00:00:00+00:00</th>\n",
       "      <td>134.736374</td>\n",
       "      <td>135.070007</td>\n",
       "      <td>135.490005</td>\n",
       "      <td>133.449997</td>\n",
       "      <td>135.070007</td>\n",
       "      <td>19832600</td>\n",
       "      <td>GOOGL</td>\n",
       "    </tr>\n",
       "    <tr>\n",
       "      <th>2023-10-06 00:00:00+00:00</th>\n",
       "      <td>137.240158</td>\n",
       "      <td>137.580002</td>\n",
       "      <td>138.160004</td>\n",
       "      <td>134.009995</td>\n",
       "      <td>134.009995</td>\n",
       "      <td>27583200</td>\n",
       "      <td>GOOGL</td>\n",
       "    </tr>\n",
       "    <tr>\n",
       "      <th>2023-10-09 00:00:00+00:00</th>\n",
       "      <td>138.078094</td>\n",
       "      <td>138.419998</td>\n",
       "      <td>138.940002</td>\n",
       "      <td>135.610001</td>\n",
       "      <td>136.940002</td>\n",
       "      <td>19278100</td>\n",
       "      <td>GOOGL</td>\n",
       "    </tr>\n",
       "  </tbody>\n",
       "</table>\n",
       "</div>"
      ],
      "text/plain": [
       "Price                       Adj Close       Close        High         Low  \\\n",
       "Date                                                                        \n",
       "2023-10-05 00:00:00+00:00  134.736374  135.070007  135.490005  133.449997   \n",
       "2023-10-06 00:00:00+00:00  137.240158  137.580002  138.160004  134.009995   \n",
       "2023-10-09 00:00:00+00:00  138.078094  138.419998  138.940002  135.610001   \n",
       "\n",
       "Price                            Open    Volume Ticker  \n",
       "Date                                                    \n",
       "2023-10-05 00:00:00+00:00  135.070007  19832600  GOOGL  \n",
       "2023-10-06 00:00:00+00:00  134.009995  27583200  GOOGL  \n",
       "2023-10-09 00:00:00+00:00  136.940002  19278100  GOOGL  "
      ]
     },
     "execution_count": 12,
     "metadata": {},
     "output_type": "execute_result"
    }
   ],
   "source": [
    "data[\"GOOGL\"][0:3]"
   ]
  },
  {
   "cell_type": "markdown",
   "id": "55594023",
   "metadata": {},
   "source": [
    "##### Set date index to a column "
   ]
  },
  {
   "cell_type": "code",
   "execution_count": 13,
   "id": "f47004c2",
   "metadata": {},
   "outputs": [
    {
     "data": {
      "text/html": [
       "<div>\n",
       "<style scoped>\n",
       "    .dataframe tbody tr th:only-of-type {\n",
       "        vertical-align: middle;\n",
       "    }\n",
       "\n",
       "    .dataframe tbody tr th {\n",
       "        vertical-align: top;\n",
       "    }\n",
       "\n",
       "    .dataframe thead th {\n",
       "        text-align: right;\n",
       "    }\n",
       "</style>\n",
       "<table border=\"1\" class=\"dataframe\">\n",
       "  <thead>\n",
       "    <tr style=\"text-align: right;\">\n",
       "      <th>Price</th>\n",
       "      <th>Date</th>\n",
       "      <th>Adj Close</th>\n",
       "      <th>Close</th>\n",
       "      <th>High</th>\n",
       "      <th>Low</th>\n",
       "      <th>Open</th>\n",
       "      <th>Volume</th>\n",
       "      <th>Ticker</th>\n",
       "    </tr>\n",
       "  </thead>\n",
       "  <tbody>\n",
       "    <tr>\n",
       "      <th>0</th>\n",
       "      <td>2023-10-05 00:00:00+00:00</td>\n",
       "      <td>125.959999</td>\n",
       "      <td>125.959999</td>\n",
       "      <td>126.730003</td>\n",
       "      <td>124.330002</td>\n",
       "      <td>126.709999</td>\n",
       "      <td>39660600</td>\n",
       "      <td>AMZN</td>\n",
       "    </tr>\n",
       "    <tr>\n",
       "      <th>1</th>\n",
       "      <td>2023-10-06 00:00:00+00:00</td>\n",
       "      <td>127.959999</td>\n",
       "      <td>127.959999</td>\n",
       "      <td>128.449997</td>\n",
       "      <td>124.129997</td>\n",
       "      <td>124.160004</td>\n",
       "      <td>46795900</td>\n",
       "      <td>AMZN</td>\n",
       "    </tr>\n",
       "    <tr>\n",
       "      <th>2</th>\n",
       "      <td>2023-10-09 00:00:00+00:00</td>\n",
       "      <td>128.259995</td>\n",
       "      <td>128.259995</td>\n",
       "      <td>128.789993</td>\n",
       "      <td>124.760002</td>\n",
       "      <td>126.220001</td>\n",
       "      <td>38773700</td>\n",
       "      <td>AMZN</td>\n",
       "    </tr>\n",
       "  </tbody>\n",
       "</table>\n",
       "</div>"
      ],
      "text/plain": [
       "Price                      Date   Adj Close       Close        High  \\\n",
       "0     2023-10-05 00:00:00+00:00  125.959999  125.959999  126.730003   \n",
       "1     2023-10-06 00:00:00+00:00  127.959999  127.959999  128.449997   \n",
       "2     2023-10-09 00:00:00+00:00  128.259995  128.259995  128.789993   \n",
       "\n",
       "Price         Low        Open    Volume Ticker  \n",
       "0      124.330002  126.709999  39660600   AMZN  \n",
       "1      124.129997  124.160004  46795900   AMZN  \n",
       "2      124.760002  126.220001  38773700   AMZN  "
      ]
     },
     "execution_count": 13,
     "metadata": {},
     "output_type": "execute_result"
    }
   ],
   "source": [
    "data[\"AMZN\"].reset_index(level=0)[0:3]"
   ]
  },
  {
   "cell_type": "markdown",
   "id": "485c95d8",
   "metadata": {},
   "source": [
    "##### Convert the dataframe to an array of dictionaries "
   ]
  },
  {
   "cell_type": "code",
   "execution_count": 14,
   "id": "84f2c9b0",
   "metadata": {},
   "outputs": [
    {
     "data": {
      "text/plain": [
       "[{'Date': Timestamp('2023-10-05 00:00:00+0000', tz='UTC'),\n",
       "  'Adj Close': 125.95999908447266,\n",
       "  'Close': 125.95999908447266,\n",
       "  'High': 126.7300033569336,\n",
       "  'Low': 124.33000183105469,\n",
       "  'Open': 126.70999908447266,\n",
       "  'Volume': 39660600,\n",
       "  'Ticker': 'AMZN'},\n",
       " {'Date': Timestamp('2023-10-06 00:00:00+0000', tz='UTC'),\n",
       "  'Adj Close': 127.95999908447266,\n",
       "  'Close': 127.95999908447266,\n",
       "  'High': 128.4499969482422,\n",
       "  'Low': 124.12999725341797,\n",
       "  'Open': 124.16000366210938,\n",
       "  'Volume': 46795900,\n",
       "  'Ticker': 'AMZN'}]"
      ]
     },
     "execution_count": 14,
     "metadata": {},
     "output_type": "execute_result"
    }
   ],
   "source": [
    "data[\"AMZN\"].reset_index(level=0).to_dict('records')[0:2]"
   ]
  },
  {
   "cell_type": "markdown",
   "id": "f7e37292",
   "metadata": {},
   "source": [
    "### Connect To MongoDB instance"
   ]
  },
  {
   "cell_type": "code",
   "execution_count": 15,
   "id": "7aaae524",
   "metadata": {},
   "outputs": [],
   "source": [
    "mongodb_uri = \"mongodb://localhost:27017/\"\n",
    "db_name = \"advanced_features\""
   ]
  },
  {
   "cell_type": "code",
   "execution_count": 16,
   "id": "cbb879e9",
   "metadata": {},
   "outputs": [],
   "source": [
    "client = MongoClient(mongodb_uri)\n",
    "db = client[db_name]"
   ]
  },
  {
   "cell_type": "markdown",
   "id": "42842740",
   "metadata": {},
   "source": [
    "### Creating  A Time-Series Collection\n",
    "\n",
    "You could also use the compass app or mongoshell"
   ]
  },
  {
   "cell_type": "code",
   "execution_count": 17,
   "id": "fae693ac",
   "metadata": {},
   "outputs": [
    {
     "data": {
      "text/plain": [
       "Collection(Database(MongoClient(host=['localhost:27017'], document_class=dict, tz_aware=False, connect=True), 'advanced_features'), 'historical_stock_data')"
      ]
     },
     "execution_count": 17,
     "metadata": {},
     "output_type": "execute_result"
    }
   ],
   "source": [
    "db.create_collection(\"historical_stock_data\", timeseries={\n",
    "    \"timeField\": \"Date\",\n",
    "    \"metaField\": \"Ticker\",\n",
    "    \"granularity\": \"hours\"\n",
    "}, expireAfterSeconds=60 * 60 * 24 * 365  # 1 year\n",
    ")"
   ]
  },
  {
   "cell_type": "markdown",
   "id": "a3b680b8",
   "metadata": {},
   "source": [
    "### Inserting The Time-Series Stock Data"
   ]
  },
  {
   "cell_type": "markdown",
   "id": "c422f747",
   "metadata": {},
   "source": [
    "##### Download the data"
   ]
  },
  {
   "cell_type": "code",
   "execution_count": 19,
   "id": "673293f6",
   "metadata": {},
   "outputs": [
    {
     "name": "stderr",
     "output_type": "stream",
     "text": [
      "[*********************100%***********************]  5 of 5 completed\n"
     ]
    }
   ],
   "source": [
    "tickers = [\"AMZN\", \"META\", \"GOOGL\", \"MSFT\", \"UDMY\"]\n",
    "data = yf.download(tickers=tickers, period=\"2y\", interval=\"1d\")"
   ]
  },
  {
   "cell_type": "markdown",
   "id": "f529e511",
   "metadata": {},
   "source": [
    "##### Process dataframe into list of dictionaries"
   ]
  },
  {
   "cell_type": "code",
   "execution_count": 20,
   "id": "44f0e47a",
   "metadata": {},
   "outputs": [],
   "source": [
    "stock_data_to_insert = []\n",
    "\n",
    "data.columns = data.columns.swaplevel(0,1)\n",
    "\n",
    "for ticker in tickers:\n",
    "    data.loc[: , (ticker, \"Ticker\")] = ticker\n",
    "    stock_data_to_insert.extend(data[ticker].reset_index(level=0).to_dict('records'))"
   ]
  },
  {
   "cell_type": "code",
   "execution_count": 21,
   "id": "0e7a2b4e",
   "metadata": {},
   "outputs": [
    {
     "data": {
      "text/plain": [
       "[{'Date': Timestamp('2022-10-05 00:00:00+0000', tz='UTC'),\n",
       "  'Adj Close': 120.94999694824219,\n",
       "  'Close': 120.94999694824219,\n",
       "  'High': 121.75,\n",
       "  'Low': 117.69000244140625,\n",
       "  'Open': 118.58000183105469,\n",
       "  'Volume': 48217500,\n",
       "  'Ticker': 'AMZN'},\n",
       " {'Date': Timestamp('2022-10-06 00:00:00+0000', tz='UTC'),\n",
       "  'Adj Close': 120.30000305175781,\n",
       "  'Close': 120.30000305175781,\n",
       "  'High': 121.52999877929688,\n",
       "  'Low': 119.5,\n",
       "  'Open': 120.7699966430664,\n",
       "  'Volume': 42253800,\n",
       "  'Ticker': 'AMZN'}]"
      ]
     },
     "execution_count": 21,
     "metadata": {},
     "output_type": "execute_result"
    }
   ],
   "source": [
    "stock_data_to_insert[0:2]"
   ]
  },
  {
   "cell_type": "markdown",
   "id": "89e28caa",
   "metadata": {},
   "source": [
    "##### Call insert_many() on time series collection"
   ]
  },
  {
   "cell_type": "code",
   "execution_count": 22,
   "id": "a1048c0f",
   "metadata": {},
   "outputs": [
    {
     "data": {
      "text/plain": [
       "InsertManyResult([ObjectId('67016b3f0457ddbb8fc311b6'), ObjectId('67016b3f0457ddbb8fc311b7'), ObjectId('67016b3f0457ddbb8fc311b8'), ObjectId('67016b3f0457ddbb8fc311b9'), ObjectId('67016b3f0457ddbb8fc311ba'), ObjectId('67016b3f0457ddbb8fc311bb'), ObjectId('67016b3f0457ddbb8fc311bc'), ObjectId('67016b3f0457ddbb8fc311bd'), ObjectId('67016b3f0457ddbb8fc311be'), ObjectId('67016b3f0457ddbb8fc311bf'), ObjectId('67016b3f0457ddbb8fc311c0'), ObjectId('67016b3f0457ddbb8fc311c1'), ObjectId('67016b3f0457ddbb8fc311c2'), ObjectId('67016b3f0457ddbb8fc311c3'), ObjectId('67016b3f0457ddbb8fc311c4'), ObjectId('67016b3f0457ddbb8fc311c5'), ObjectId('67016b3f0457ddbb8fc311c6'), ObjectId('67016b3f0457ddbb8fc311c7'), ObjectId('67016b3f0457ddbb8fc311c8'), ObjectId('67016b3f0457ddbb8fc311c9'), ObjectId('67016b3f0457ddbb8fc311ca'), ObjectId('67016b3f0457ddbb8fc311cb'), ObjectId('67016b3f0457ddbb8fc311cc'), ObjectId('67016b3f0457ddbb8fc311cd'), ObjectId('67016b3f0457ddbb8fc311ce'), ObjectId('67016b3f0457ddbb8fc311cf'), ObjectId('67016b3f0457ddbb8fc311d0'), ObjectId('67016b3f0457ddbb8fc311d1'), ObjectId('67016b3f0457ddbb8fc311d2'), ObjectId('67016b3f0457ddbb8fc311d3'), ObjectId('67016b3f0457ddbb8fc311d4'), ObjectId('67016b3f0457ddbb8fc311d5'), ObjectId('67016b3f0457ddbb8fc311d6'), ObjectId('67016b3f0457ddbb8fc311d7'), ObjectId('67016b3f0457ddbb8fc311d8'), ObjectId('67016b3f0457ddbb8fc311d9'), ObjectId('67016b3f0457ddbb8fc311da'), ObjectId('67016b3f0457ddbb8fc311db'), ObjectId('67016b3f0457ddbb8fc311dc'), ObjectId('67016b3f0457ddbb8fc311dd'), ObjectId('67016b3f0457ddbb8fc311de'), ObjectId('67016b3f0457ddbb8fc311df'), ObjectId('67016b3f0457ddbb8fc311e0'), ObjectId('67016b3f0457ddbb8fc311e1'), ObjectId('67016b3f0457ddbb8fc311e2'), ObjectId('67016b3f0457ddbb8fc311e3'), ObjectId('67016b3f0457ddbb8fc311e4'), ObjectId('67016b3f0457ddbb8fc311e5'), ObjectId('67016b3f0457ddbb8fc311e6'), ObjectId('67016b3f0457ddbb8fc311e7'), ObjectId('67016b3f0457ddbb8fc311e8'), ObjectId('67016b3f0457ddbb8fc311e9'), ObjectId('67016b3f0457ddbb8fc311ea'), ObjectId('67016b3f0457ddbb8fc311eb'), ObjectId('67016b3f0457ddbb8fc311ec'), ObjectId('67016b3f0457ddbb8fc311ed'), ObjectId('67016b3f0457ddbb8fc311ee'), ObjectId('67016b3f0457ddbb8fc311ef'), ObjectId('67016b3f0457ddbb8fc311f0'), ObjectId('67016b3f0457ddbb8fc311f1'), ObjectId('67016b3f0457ddbb8fc311f2'), ObjectId('67016b3f0457ddbb8fc311f3'), ObjectId('67016b3f0457ddbb8fc311f4'), ObjectId('67016b3f0457ddbb8fc311f5'), ObjectId('67016b3f0457ddbb8fc311f6'), ObjectId('67016b3f0457ddbb8fc311f7'), ObjectId('67016b3f0457ddbb8fc311f8'), ObjectId('67016b3f0457ddbb8fc311f9'), ObjectId('67016b3f0457ddbb8fc311fa'), ObjectId('67016b3f0457ddbb8fc311fb'), ObjectId('67016b3f0457ddbb8fc311fc'), ObjectId('67016b3f0457ddbb8fc311fd'), ObjectId('67016b3f0457ddbb8fc311fe'), ObjectId('67016b3f0457ddbb8fc311ff'), ObjectId('67016b3f0457ddbb8fc31200'), ObjectId('67016b3f0457ddbb8fc31201'), ObjectId('67016b3f0457ddbb8fc31202'), ObjectId('67016b3f0457ddbb8fc31203'), ObjectId('67016b3f0457ddbb8fc31204'), ObjectId('67016b3f0457ddbb8fc31205'), ObjectId('67016b3f0457ddbb8fc31206'), ObjectId('67016b3f0457ddbb8fc31207'), ObjectId('67016b3f0457ddbb8fc31208'), ObjectId('67016b3f0457ddbb8fc31209'), ObjectId('67016b3f0457ddbb8fc3120a'), ObjectId('67016b3f0457ddbb8fc3120b'), ObjectId('67016b3f0457ddbb8fc3120c'), ObjectId('67016b3f0457ddbb8fc3120d'), ObjectId('67016b3f0457ddbb8fc3120e'), ObjectId('67016b3f0457ddbb8fc3120f'), ObjectId('67016b3f0457ddbb8fc31210'), ObjectId('67016b3f0457ddbb8fc31211'), ObjectId('67016b3f0457ddbb8fc31212'), ObjectId('67016b3f0457ddbb8fc31213'), ObjectId('67016b3f0457ddbb8fc31214'), ObjectId('67016b3f0457ddbb8fc31215'), ObjectId('67016b3f0457ddbb8fc31216'), ObjectId('67016b3f0457ddbb8fc31217'), ObjectId('67016b3f0457ddbb8fc31218'), ObjectId('67016b3f0457ddbb8fc31219'), ObjectId('67016b3f0457ddbb8fc3121a'), ObjectId('67016b3f0457ddbb8fc3121b'), ObjectId('67016b3f0457ddbb8fc3121c'), ObjectId('67016b3f0457ddbb8fc3121d'), ObjectId('67016b3f0457ddbb8fc3121e'), ObjectId('67016b3f0457ddbb8fc3121f'), ObjectId('67016b3f0457ddbb8fc31220'), ObjectId('67016b3f0457ddbb8fc31221'), ObjectId('67016b3f0457ddbb8fc31222'), ObjectId('67016b3f0457ddbb8fc31223'), ObjectId('67016b3f0457ddbb8fc31224'), ObjectId('67016b3f0457ddbb8fc31225'), ObjectId('67016b3f0457ddbb8fc31226'), ObjectId('67016b3f0457ddbb8fc31227'), ObjectId('67016b3f0457ddbb8fc31228'), ObjectId('67016b3f0457ddbb8fc31229'), ObjectId('67016b3f0457ddbb8fc3122a'), ObjectId('67016b3f0457ddbb8fc3122b'), ObjectId('67016b3f0457ddbb8fc3122c'), ObjectId('67016b3f0457ddbb8fc3122d'), ObjectId('67016b3f0457ddbb8fc3122e'), ObjectId('67016b3f0457ddbb8fc3122f'), ObjectId('67016b3f0457ddbb8fc31230'), ObjectId('67016b3f0457ddbb8fc31231'), ObjectId('67016b3f0457ddbb8fc31232'), ObjectId('67016b3f0457ddbb8fc31233'), ObjectId('67016b3f0457ddbb8fc31234'), ObjectId('67016b3f0457ddbb8fc31235'), ObjectId('67016b3f0457ddbb8fc31236'), ObjectId('67016b3f0457ddbb8fc31237'), ObjectId('67016b3f0457ddbb8fc31238'), ObjectId('67016b3f0457ddbb8fc31239'), ObjectId('67016b3f0457ddbb8fc3123a'), ObjectId('67016b3f0457ddbb8fc3123b'), ObjectId('67016b3f0457ddbb8fc3123c'), ObjectId('67016b3f0457ddbb8fc3123d'), ObjectId('67016b3f0457ddbb8fc3123e'), ObjectId('67016b3f0457ddbb8fc3123f'), ObjectId('67016b3f0457ddbb8fc31240'), ObjectId('67016b3f0457ddbb8fc31241'), ObjectId('67016b3f0457ddbb8fc31242'), ObjectId('67016b3f0457ddbb8fc31243'), ObjectId('67016b3f0457ddbb8fc31244'), ObjectId('67016b3f0457ddbb8fc31245'), ObjectId('67016b3f0457ddbb8fc31246'), ObjectId('67016b3f0457ddbb8fc31247'), ObjectId('67016b3f0457ddbb8fc31248'), ObjectId('67016b3f0457ddbb8fc31249'), ObjectId('67016b3f0457ddbb8fc3124a'), ObjectId('67016b3f0457ddbb8fc3124b'), ObjectId('67016b3f0457ddbb8fc3124c'), ObjectId('67016b3f0457ddbb8fc3124d'), ObjectId('67016b3f0457ddbb8fc3124e'), ObjectId('67016b3f0457ddbb8fc3124f'), ObjectId('67016b3f0457ddbb8fc31250'), ObjectId('67016b3f0457ddbb8fc31251'), ObjectId('67016b3f0457ddbb8fc31252'), ObjectId('67016b3f0457ddbb8fc31253'), ObjectId('67016b3f0457ddbb8fc31254'), ObjectId('67016b3f0457ddbb8fc31255'), ObjectId('67016b3f0457ddbb8fc31256'), ObjectId('67016b3f0457ddbb8fc31257'), ObjectId('67016b3f0457ddbb8fc31258'), ObjectId('67016b3f0457ddbb8fc31259'), ObjectId('67016b3f0457ddbb8fc3125a'), ObjectId('67016b3f0457ddbb8fc3125b'), ObjectId('67016b3f0457ddbb8fc3125c'), ObjectId('67016b3f0457ddbb8fc3125d'), ObjectId('67016b3f0457ddbb8fc3125e'), ObjectId('67016b3f0457ddbb8fc3125f'), ObjectId('67016b3f0457ddbb8fc31260'), ObjectId('67016b3f0457ddbb8fc31261'), ObjectId('67016b3f0457ddbb8fc31262'), ObjectId('67016b3f0457ddbb8fc31263'), ObjectId('67016b3f0457ddbb8fc31264'), ObjectId('67016b3f0457ddbb8fc31265'), ObjectId('67016b3f0457ddbb8fc31266'), ObjectId('67016b3f0457ddbb8fc31267'), ObjectId('67016b3f0457ddbb8fc31268'), ObjectId('67016b3f0457ddbb8fc31269'), ObjectId('67016b3f0457ddbb8fc3126a'), ObjectId('67016b3f0457ddbb8fc3126b'), ObjectId('67016b3f0457ddbb8fc3126c'), ObjectId('67016b3f0457ddbb8fc3126d'), ObjectId('67016b3f0457ddbb8fc3126e'), ObjectId('67016b3f0457ddbb8fc3126f'), ObjectId('67016b3f0457ddbb8fc31270'), ObjectId('67016b3f0457ddbb8fc31271'), ObjectId('67016b3f0457ddbb8fc31272'), ObjectId('67016b3f0457ddbb8fc31273'), ObjectId('67016b3f0457ddbb8fc31274'), ObjectId('67016b3f0457ddbb8fc31275'), ObjectId('67016b3f0457ddbb8fc31276'), ObjectId('67016b3f0457ddbb8fc31277'), ObjectId('67016b3f0457ddbb8fc31278'), ObjectId('67016b3f0457ddbb8fc31279'), ObjectId('67016b3f0457ddbb8fc3127a'), ObjectId('67016b3f0457ddbb8fc3127b'), ObjectId('67016b3f0457ddbb8fc3127c'), ObjectId('67016b3f0457ddbb8fc3127d'), ObjectId('67016b3f0457ddbb8fc3127e'), ObjectId('67016b3f0457ddbb8fc3127f'), ObjectId('67016b3f0457ddbb8fc31280'), ObjectId('67016b3f0457ddbb8fc31281'), ObjectId('67016b3f0457ddbb8fc31282'), ObjectId('67016b3f0457ddbb8fc31283'), ObjectId('67016b3f0457ddbb8fc31284'), ObjectId('67016b3f0457ddbb8fc31285'), ObjectId('67016b3f0457ddbb8fc31286'), ObjectId('67016b3f0457ddbb8fc31287'), ObjectId('67016b3f0457ddbb8fc31288'), ObjectId('67016b3f0457ddbb8fc31289'), ObjectId('67016b3f0457ddbb8fc3128a'), ObjectId('67016b3f0457ddbb8fc3128b'), ObjectId('67016b3f0457ddbb8fc3128c'), ObjectId('67016b3f0457ddbb8fc3128d'), ObjectId('67016b3f0457ddbb8fc3128e'), ObjectId('67016b3f0457ddbb8fc3128f'), ObjectId('67016b3f0457ddbb8fc31290'), ObjectId('67016b3f0457ddbb8fc31291'), ObjectId('67016b3f0457ddbb8fc31292'), ObjectId('67016b3f0457ddbb8fc31293'), ObjectId('67016b3f0457ddbb8fc31294'), ObjectId('67016b3f0457ddbb8fc31295'), ObjectId('67016b3f0457ddbb8fc31296'), ObjectId('67016b3f0457ddbb8fc31297'), ObjectId('67016b3f0457ddbb8fc31298'), ObjectId('67016b3f0457ddbb8fc31299'), ObjectId('67016b3f0457ddbb8fc3129a'), ObjectId('67016b3f0457ddbb8fc3129b'), ObjectId('67016b3f0457ddbb8fc3129c'), ObjectId('67016b3f0457ddbb8fc3129d'), ObjectId('67016b3f0457ddbb8fc3129e'), ObjectId('67016b3f0457ddbb8fc3129f'), ObjectId('67016b3f0457ddbb8fc312a0'), ObjectId('67016b3f0457ddbb8fc312a1'), ObjectId('67016b3f0457ddbb8fc312a2'), ObjectId('67016b3f0457ddbb8fc312a3'), ObjectId('67016b3f0457ddbb8fc312a4'), ObjectId('67016b3f0457ddbb8fc312a5'), ObjectId('67016b3f0457ddbb8fc312a6'), ObjectId('67016b3f0457ddbb8fc312a7'), ObjectId('67016b3f0457ddbb8fc312a8'), ObjectId('67016b3f0457ddbb8fc312a9'), ObjectId('67016b3f0457ddbb8fc312aa'), ObjectId('67016b3f0457ddbb8fc312ab'), ObjectId('67016b3f0457ddbb8fc312ac'), ObjectId('67016b3f0457ddbb8fc312ad'), ObjectId('67016b3f0457ddbb8fc312ae'), ObjectId('67016b3f0457ddbb8fc312af'), ObjectId('67016b3f0457ddbb8fc312b0'), ObjectId('67016b3f0457ddbb8fc312b1'), ObjectId('67016b3f0457ddbb8fc312b2'), ObjectId('67016b3f0457ddbb8fc312b3'), ObjectId('67016b3f0457ddbb8fc312b4'), ObjectId('67016b3f0457ddbb8fc312b5'), ObjectId('67016b3f0457ddbb8fc312b6'), ObjectId('67016b3f0457ddbb8fc312b7'), ObjectId('67016b3f0457ddbb8fc312b8'), ObjectId('67016b3f0457ddbb8fc312b9'), ObjectId('67016b3f0457ddbb8fc312ba'), ObjectId('67016b3f0457ddbb8fc312bb'), ObjectId('67016b3f0457ddbb8fc312bc'), ObjectId('67016b3f0457ddbb8fc312bd'), ObjectId('67016b3f0457ddbb8fc312be'), ObjectId('67016b3f0457ddbb8fc312bf'), ObjectId('67016b3f0457ddbb8fc312c0'), ObjectId('67016b3f0457ddbb8fc312c1'), ObjectId('67016b3f0457ddbb8fc312c2'), ObjectId('67016b3f0457ddbb8fc312c3'), ObjectId('67016b3f0457ddbb8fc312c4'), ObjectId('67016b3f0457ddbb8fc312c5'), ObjectId('67016b3f0457ddbb8fc312c6'), ObjectId('67016b3f0457ddbb8fc312c7'), ObjectId('67016b3f0457ddbb8fc312c8'), ObjectId('67016b3f0457ddbb8fc312c9'), ObjectId('67016b3f0457ddbb8fc312ca'), ObjectId('67016b3f0457ddbb8fc312cb'), ObjectId('67016b3f0457ddbb8fc312cc'), ObjectId('67016b3f0457ddbb8fc312cd'), ObjectId('67016b3f0457ddbb8fc312ce'), ObjectId('67016b3f0457ddbb8fc312cf'), ObjectId('67016b3f0457ddbb8fc312d0'), ObjectId('67016b3f0457ddbb8fc312d1'), ObjectId('67016b3f0457ddbb8fc312d2'), ObjectId('67016b3f0457ddbb8fc312d3'), ObjectId('67016b3f0457ddbb8fc312d4'), ObjectId('67016b3f0457ddbb8fc312d5'), ObjectId('67016b3f0457ddbb8fc312d6'), ObjectId('67016b3f0457ddbb8fc312d7'), ObjectId('67016b3f0457ddbb8fc312d8'), ObjectId('67016b3f0457ddbb8fc312d9'), ObjectId('67016b3f0457ddbb8fc312da'), ObjectId('67016b3f0457ddbb8fc312db'), ObjectId('67016b3f0457ddbb8fc312dc'), ObjectId('67016b3f0457ddbb8fc312dd'), ObjectId('67016b3f0457ddbb8fc312de'), ObjectId('67016b3f0457ddbb8fc312df'), ObjectId('67016b3f0457ddbb8fc312e0'), ObjectId('67016b3f0457ddbb8fc312e1'), ObjectId('67016b3f0457ddbb8fc312e2'), ObjectId('67016b3f0457ddbb8fc312e3'), ObjectId('67016b3f0457ddbb8fc312e4'), ObjectId('67016b3f0457ddbb8fc312e5'), ObjectId('67016b3f0457ddbb8fc312e6'), ObjectId('67016b3f0457ddbb8fc312e7'), ObjectId('67016b3f0457ddbb8fc312e8'), ObjectId('67016b3f0457ddbb8fc312e9'), ObjectId('67016b3f0457ddbb8fc312ea'), ObjectId('67016b3f0457ddbb8fc312eb'), ObjectId('67016b3f0457ddbb8fc312ec'), ObjectId('67016b3f0457ddbb8fc312ed'), ObjectId('67016b3f0457ddbb8fc312ee'), ObjectId('67016b3f0457ddbb8fc312ef'), ObjectId('67016b3f0457ddbb8fc312f0'), ObjectId('67016b3f0457ddbb8fc312f1'), ObjectId('67016b3f0457ddbb8fc312f2'), ObjectId('67016b3f0457ddbb8fc312f3'), ObjectId('67016b3f0457ddbb8fc312f4'), ObjectId('67016b3f0457ddbb8fc312f5'), ObjectId('67016b3f0457ddbb8fc312f6'), ObjectId('67016b3f0457ddbb8fc312f7'), ObjectId('67016b3f0457ddbb8fc312f8'), ObjectId('67016b3f0457ddbb8fc312f9'), ObjectId('67016b3f0457ddbb8fc312fa'), ObjectId('67016b3f0457ddbb8fc312fb'), ObjectId('67016b3f0457ddbb8fc312fc'), ObjectId('67016b3f0457ddbb8fc312fd'), ObjectId('67016b3f0457ddbb8fc312fe'), ObjectId('67016b3f0457ddbb8fc312ff'), ObjectId('67016b3f0457ddbb8fc31300'), ObjectId('67016b3f0457ddbb8fc31301'), ObjectId('67016b3f0457ddbb8fc31302'), ObjectId('67016b3f0457ddbb8fc31303'), ObjectId('67016b3f0457ddbb8fc31304'), ObjectId('67016b3f0457ddbb8fc31305'), ObjectId('67016b3f0457ddbb8fc31306'), ObjectId('67016b3f0457ddbb8fc31307'), ObjectId('67016b3f0457ddbb8fc31308'), ObjectId('67016b3f0457ddbb8fc31309'), ObjectId('67016b3f0457ddbb8fc3130a'), ObjectId('67016b3f0457ddbb8fc3130b'), ObjectId('67016b3f0457ddbb8fc3130c'), ObjectId('67016b3f0457ddbb8fc3130d'), ObjectId('67016b3f0457ddbb8fc3130e'), ObjectId('67016b3f0457ddbb8fc3130f'), ObjectId('67016b3f0457ddbb8fc31310'), ObjectId('67016b3f0457ddbb8fc31311'), ObjectId('67016b3f0457ddbb8fc31312'), ObjectId('67016b3f0457ddbb8fc31313'), ObjectId('67016b3f0457ddbb8fc31314'), ObjectId('67016b3f0457ddbb8fc31315'), ObjectId('67016b3f0457ddbb8fc31316'), ObjectId('67016b3f0457ddbb8fc31317'), ObjectId('67016b3f0457ddbb8fc31318'), ObjectId('67016b3f0457ddbb8fc31319'), ObjectId('67016b3f0457ddbb8fc3131a'), ObjectId('67016b3f0457ddbb8fc3131b'), ObjectId('67016b3f0457ddbb8fc3131c'), ObjectId('67016b3f0457ddbb8fc3131d'), ObjectId('67016b3f0457ddbb8fc3131e'), ObjectId('67016b3f0457ddbb8fc3131f'), ObjectId('67016b3f0457ddbb8fc31320'), ObjectId('67016b3f0457ddbb8fc31321'), ObjectId('67016b3f0457ddbb8fc31322'), ObjectId('67016b3f0457ddbb8fc31323'), ObjectId('67016b3f0457ddbb8fc31324'), ObjectId('67016b3f0457ddbb8fc31325'), ObjectId('67016b3f0457ddbb8fc31326'), ObjectId('67016b3f0457ddbb8fc31327'), ObjectId('67016b3f0457ddbb8fc31328'), ObjectId('67016b3f0457ddbb8fc31329'), ObjectId('67016b3f0457ddbb8fc3132a'), ObjectId('67016b3f0457ddbb8fc3132b'), ObjectId('67016b3f0457ddbb8fc3132c'), ObjectId('67016b3f0457ddbb8fc3132d'), ObjectId('67016b3f0457ddbb8fc3132e'), ObjectId('67016b3f0457ddbb8fc3132f'), ObjectId('67016b3f0457ddbb8fc31330'), ObjectId('67016b3f0457ddbb8fc31331'), ObjectId('67016b3f0457ddbb8fc31332'), ObjectId('67016b3f0457ddbb8fc31333'), ObjectId('67016b3f0457ddbb8fc31334'), ObjectId('67016b3f0457ddbb8fc31335'), ObjectId('67016b3f0457ddbb8fc31336'), ObjectId('67016b3f0457ddbb8fc31337'), ObjectId('67016b3f0457ddbb8fc31338'), ObjectId('67016b3f0457ddbb8fc31339'), ObjectId('67016b3f0457ddbb8fc3133a'), ObjectId('67016b3f0457ddbb8fc3133b'), ObjectId('67016b3f0457ddbb8fc3133c'), ObjectId('67016b3f0457ddbb8fc3133d'), ObjectId('67016b3f0457ddbb8fc3133e'), ObjectId('67016b3f0457ddbb8fc3133f'), ObjectId('67016b3f0457ddbb8fc31340'), ObjectId('67016b3f0457ddbb8fc31341'), ObjectId('67016b3f0457ddbb8fc31342'), ObjectId('67016b3f0457ddbb8fc31343'), ObjectId('67016b3f0457ddbb8fc31344'), ObjectId('67016b3f0457ddbb8fc31345'), ObjectId('67016b3f0457ddbb8fc31346'), ObjectId('67016b3f0457ddbb8fc31347'), ObjectId('67016b3f0457ddbb8fc31348'), ObjectId('67016b3f0457ddbb8fc31349'), ObjectId('67016b3f0457ddbb8fc3134a'), ObjectId('67016b3f0457ddbb8fc3134b'), ObjectId('67016b3f0457ddbb8fc3134c'), ObjectId('67016b3f0457ddbb8fc3134d'), ObjectId('67016b3f0457ddbb8fc3134e'), ObjectId('67016b3f0457ddbb8fc3134f'), ObjectId('67016b3f0457ddbb8fc31350'), ObjectId('67016b3f0457ddbb8fc31351'), ObjectId('67016b3f0457ddbb8fc31352'), ObjectId('67016b3f0457ddbb8fc31353'), ObjectId('67016b3f0457ddbb8fc31354'), ObjectId('67016b3f0457ddbb8fc31355'), ObjectId('67016b3f0457ddbb8fc31356'), ObjectId('67016b3f0457ddbb8fc31357'), ObjectId('67016b3f0457ddbb8fc31358'), ObjectId('67016b3f0457ddbb8fc31359'), ObjectId('67016b3f0457ddbb8fc3135a'), ObjectId('67016b3f0457ddbb8fc3135b'), ObjectId('67016b3f0457ddbb8fc3135c'), ObjectId('67016b3f0457ddbb8fc3135d'), ObjectId('67016b3f0457ddbb8fc3135e'), ObjectId('67016b3f0457ddbb8fc3135f'), ObjectId('67016b3f0457ddbb8fc31360'), ObjectId('67016b3f0457ddbb8fc31361'), ObjectId('67016b3f0457ddbb8fc31362'), ObjectId('67016b3f0457ddbb8fc31363'), ObjectId('67016b3f0457ddbb8fc31364'), ObjectId('67016b3f0457ddbb8fc31365'), ObjectId('67016b3f0457ddbb8fc31366'), ObjectId('67016b3f0457ddbb8fc31367'), ObjectId('67016b3f0457ddbb8fc31368'), ObjectId('67016b3f0457ddbb8fc31369'), ObjectId('67016b3f0457ddbb8fc3136a'), ObjectId('67016b3f0457ddbb8fc3136b'), ObjectId('67016b3f0457ddbb8fc3136c'), ObjectId('67016b3f0457ddbb8fc3136d'), ObjectId('67016b3f0457ddbb8fc3136e'), ObjectId('67016b3f0457ddbb8fc3136f'), ObjectId('67016b3f0457ddbb8fc31370'), ObjectId('67016b3f0457ddbb8fc31371'), ObjectId('67016b3f0457ddbb8fc31372'), ObjectId('67016b3f0457ddbb8fc31373'), ObjectId('67016b3f0457ddbb8fc31374'), ObjectId('67016b3f0457ddbb8fc31375'), ObjectId('67016b3f0457ddbb8fc31376'), ObjectId('67016b3f0457ddbb8fc31377'), ObjectId('67016b3f0457ddbb8fc31378'), ObjectId('67016b3f0457ddbb8fc31379'), ObjectId('67016b3f0457ddbb8fc3137a'), ObjectId('67016b3f0457ddbb8fc3137b'), ObjectId('67016b3f0457ddbb8fc3137c'), ObjectId('67016b3f0457ddbb8fc3137d'), ObjectId('67016b3f0457ddbb8fc3137e'), ObjectId('67016b3f0457ddbb8fc3137f'), ObjectId('67016b3f0457ddbb8fc31380'), ObjectId('67016b3f0457ddbb8fc31381'), ObjectId('67016b3f0457ddbb8fc31382'), ObjectId('67016b3f0457ddbb8fc31383'), ObjectId('67016b3f0457ddbb8fc31384'), ObjectId('67016b3f0457ddbb8fc31385'), ObjectId('67016b3f0457ddbb8fc31386'), ObjectId('67016b3f0457ddbb8fc31387'), ObjectId('67016b3f0457ddbb8fc31388'), ObjectId('67016b3f0457ddbb8fc31389'), ObjectId('67016b3f0457ddbb8fc3138a'), ObjectId('67016b3f0457ddbb8fc3138b'), ObjectId('67016b3f0457ddbb8fc3138c'), ObjectId('67016b3f0457ddbb8fc3138d'), ObjectId('67016b3f0457ddbb8fc3138e'), ObjectId('67016b3f0457ddbb8fc3138f'), ObjectId('67016b3f0457ddbb8fc31390'), ObjectId('67016b3f0457ddbb8fc31391'), ObjectId('67016b3f0457ddbb8fc31392'), ObjectId('67016b3f0457ddbb8fc31393'), ObjectId('67016b3f0457ddbb8fc31394'), ObjectId('67016b3f0457ddbb8fc31395'), ObjectId('67016b3f0457ddbb8fc31396'), ObjectId('67016b3f0457ddbb8fc31397'), ObjectId('67016b3f0457ddbb8fc31398'), ObjectId('67016b3f0457ddbb8fc31399'), ObjectId('67016b3f0457ddbb8fc3139a'), ObjectId('67016b3f0457ddbb8fc3139b'), ObjectId('67016b3f0457ddbb8fc3139c'), ObjectId('67016b3f0457ddbb8fc3139d'), ObjectId('67016b3f0457ddbb8fc3139e'), ObjectId('67016b3f0457ddbb8fc3139f'), ObjectId('67016b3f0457ddbb8fc313a0'), ObjectId('67016b3f0457ddbb8fc313a1'), ObjectId('67016b3f0457ddbb8fc313a2'), ObjectId('67016b3f0457ddbb8fc313a3'), ObjectId('67016b3f0457ddbb8fc313a4'), ObjectId('67016b3f0457ddbb8fc313a5'), ObjectId('67016b3f0457ddbb8fc313a6'), ObjectId('67016b3f0457ddbb8fc313a7'), ObjectId('67016b3f0457ddbb8fc313a8'), ObjectId('67016b3f0457ddbb8fc313a9'), ObjectId('67016b3f0457ddbb8fc313aa'), ObjectId('67016b3f0457ddbb8fc313ab'), ObjectId('67016b3f0457ddbb8fc313ac'), ObjectId('67016b3f0457ddbb8fc313ad'), ObjectId('67016b3f0457ddbb8fc313ae'), ObjectId('67016b3f0457ddbb8fc313af'), ObjectId('67016b3f0457ddbb8fc313b0'), ObjectId('67016b3f0457ddbb8fc313b1'), ObjectId('67016b3f0457ddbb8fc313b2'), ObjectId('67016b3f0457ddbb8fc313b3'), ObjectId('67016b3f0457ddbb8fc313b4'), ObjectId('67016b3f0457ddbb8fc313b5'), ObjectId('67016b3f0457ddbb8fc313b6'), ObjectId('67016b3f0457ddbb8fc313b7'), ObjectId('67016b3f0457ddbb8fc313b8'), ObjectId('67016b3f0457ddbb8fc313b9'), ObjectId('67016b3f0457ddbb8fc313ba'), ObjectId('67016b3f0457ddbb8fc313bb'), ObjectId('67016b3f0457ddbb8fc313bc'), ObjectId('67016b3f0457ddbb8fc313bd'), ObjectId('67016b3f0457ddbb8fc313be'), ObjectId('67016b3f0457ddbb8fc313bf'), ObjectId('67016b3f0457ddbb8fc313c0'), ObjectId('67016b3f0457ddbb8fc313c1'), ObjectId('67016b3f0457ddbb8fc313c2'), ObjectId('67016b3f0457ddbb8fc313c3'), ObjectId('67016b3f0457ddbb8fc313c4'), ObjectId('67016b3f0457ddbb8fc313c5'), ObjectId('67016b3f0457ddbb8fc313c6'), ObjectId('67016b3f0457ddbb8fc313c7'), ObjectId('67016b3f0457ddbb8fc313c8'), ObjectId('67016b3f0457ddbb8fc313c9'), ObjectId('67016b3f0457ddbb8fc313ca'), ObjectId('67016b3f0457ddbb8fc313cb'), ObjectId('67016b3f0457ddbb8fc313cc'), ObjectId('67016b3f0457ddbb8fc313cd'), ObjectId('67016b3f0457ddbb8fc313ce'), ObjectId('67016b3f0457ddbb8fc313cf'), ObjectId('67016b3f0457ddbb8fc313d0'), ObjectId('67016b3f0457ddbb8fc313d1'), ObjectId('67016b3f0457ddbb8fc313d2'), ObjectId('67016b3f0457ddbb8fc313d3'), ObjectId('67016b3f0457ddbb8fc313d4'), ObjectId('67016b3f0457ddbb8fc313d5'), ObjectId('67016b3f0457ddbb8fc313d6'), ObjectId('67016b3f0457ddbb8fc313d7'), ObjectId('67016b3f0457ddbb8fc313d8'), ObjectId('67016b3f0457ddbb8fc313d9'), ObjectId('67016b3f0457ddbb8fc313da'), ObjectId('67016b3f0457ddbb8fc313db'), ObjectId('67016b3f0457ddbb8fc313dc'), ObjectId('67016b3f0457ddbb8fc313dd'), ObjectId('67016b3f0457ddbb8fc313de'), ObjectId('67016b3f0457ddbb8fc313df'), ObjectId('67016b3f0457ddbb8fc313e0'), ObjectId('67016b3f0457ddbb8fc313e1'), ObjectId('67016b3f0457ddbb8fc313e2'), ObjectId('67016b3f0457ddbb8fc313e3'), ObjectId('67016b3f0457ddbb8fc313e4'), ObjectId('67016b3f0457ddbb8fc313e5'), ObjectId('67016b3f0457ddbb8fc313e6'), ObjectId('67016b3f0457ddbb8fc313e7'), ObjectId('67016b3f0457ddbb8fc313e8'), ObjectId('67016b3f0457ddbb8fc313e9'), ObjectId('67016b3f0457ddbb8fc313ea'), ObjectId('67016b3f0457ddbb8fc313eb'), ObjectId('67016b3f0457ddbb8fc313ec'), ObjectId('67016b3f0457ddbb8fc313ed'), ObjectId('67016b3f0457ddbb8fc313ee'), ObjectId('67016b3f0457ddbb8fc313ef'), ObjectId('67016b3f0457ddbb8fc313f0'), ObjectId('67016b3f0457ddbb8fc313f1'), ObjectId('67016b3f0457ddbb8fc313f2'), ObjectId('67016b3f0457ddbb8fc313f3'), ObjectId('67016b3f0457ddbb8fc313f4'), ObjectId('67016b3f0457ddbb8fc313f5'), ObjectId('67016b3f0457ddbb8fc313f6'), ObjectId('67016b3f0457ddbb8fc313f7'), ObjectId('67016b3f0457ddbb8fc313f8'), ObjectId('67016b3f0457ddbb8fc313f9'), ObjectId('67016b3f0457ddbb8fc313fa'), ObjectId('67016b3f0457ddbb8fc313fb'), ObjectId('67016b3f0457ddbb8fc313fc'), ObjectId('67016b3f0457ddbb8fc313fd'), ObjectId('67016b3f0457ddbb8fc313fe'), ObjectId('67016b3f0457ddbb8fc313ff'), ObjectId('67016b3f0457ddbb8fc31400'), ObjectId('67016b3f0457ddbb8fc31401'), ObjectId('67016b3f0457ddbb8fc31402'), ObjectId('67016b3f0457ddbb8fc31403'), ObjectId('67016b3f0457ddbb8fc31404'), ObjectId('67016b3f0457ddbb8fc31405'), ObjectId('67016b3f0457ddbb8fc31406'), ObjectId('67016b3f0457ddbb8fc31407'), ObjectId('67016b3f0457ddbb8fc31408'), ObjectId('67016b3f0457ddbb8fc31409'), ObjectId('67016b3f0457ddbb8fc3140a'), ObjectId('67016b3f0457ddbb8fc3140b'), ObjectId('67016b3f0457ddbb8fc3140c'), ObjectId('67016b3f0457ddbb8fc3140d'), ObjectId('67016b3f0457ddbb8fc3140e'), ObjectId('67016b3f0457ddbb8fc3140f'), ObjectId('67016b3f0457ddbb8fc31410'), ObjectId('67016b3f0457ddbb8fc31411'), ObjectId('67016b3f0457ddbb8fc31412'), ObjectId('67016b3f0457ddbb8fc31413'), ObjectId('67016b3f0457ddbb8fc31414'), ObjectId('67016b3f0457ddbb8fc31415'), ObjectId('67016b3f0457ddbb8fc31416'), ObjectId('67016b3f0457ddbb8fc31417'), ObjectId('67016b3f0457ddbb8fc31418'), ObjectId('67016b3f0457ddbb8fc31419'), ObjectId('67016b3f0457ddbb8fc3141a'), ObjectId('67016b3f0457ddbb8fc3141b'), ObjectId('67016b3f0457ddbb8fc3141c'), ObjectId('67016b3f0457ddbb8fc3141d'), ObjectId('67016b3f0457ddbb8fc3141e'), ObjectId('67016b3f0457ddbb8fc3141f'), ObjectId('67016b3f0457ddbb8fc31420'), ObjectId('67016b3f0457ddbb8fc31421'), ObjectId('67016b3f0457ddbb8fc31422'), ObjectId('67016b3f0457ddbb8fc31423'), ObjectId('67016b3f0457ddbb8fc31424'), ObjectId('67016b3f0457ddbb8fc31425'), ObjectId('67016b3f0457ddbb8fc31426'), ObjectId('67016b3f0457ddbb8fc31427'), ObjectId('67016b3f0457ddbb8fc31428'), ObjectId('67016b3f0457ddbb8fc31429'), ObjectId('67016b3f0457ddbb8fc3142a'), ObjectId('67016b3f0457ddbb8fc3142b'), ObjectId('67016b3f0457ddbb8fc3142c'), ObjectId('67016b3f0457ddbb8fc3142d'), ObjectId('67016b3f0457ddbb8fc3142e'), ObjectId('67016b3f0457ddbb8fc3142f'), ObjectId('67016b3f0457ddbb8fc31430'), ObjectId('67016b3f0457ddbb8fc31431'), ObjectId('67016b3f0457ddbb8fc31432'), ObjectId('67016b3f0457ddbb8fc31433'), ObjectId('67016b3f0457ddbb8fc31434'), ObjectId('67016b3f0457ddbb8fc31435'), ObjectId('67016b3f0457ddbb8fc31436'), ObjectId('67016b3f0457ddbb8fc31437'), ObjectId('67016b3f0457ddbb8fc31438'), ObjectId('67016b3f0457ddbb8fc31439'), ObjectId('67016b3f0457ddbb8fc3143a'), ObjectId('67016b3f0457ddbb8fc3143b'), ObjectId('67016b3f0457ddbb8fc3143c'), ObjectId('67016b3f0457ddbb8fc3143d'), ObjectId('67016b3f0457ddbb8fc3143e'), ObjectId('67016b3f0457ddbb8fc3143f'), ObjectId('67016b3f0457ddbb8fc31440'), ObjectId('67016b3f0457ddbb8fc31441'), ObjectId('67016b3f0457ddbb8fc31442'), ObjectId('67016b3f0457ddbb8fc31443'), ObjectId('67016b3f0457ddbb8fc31444'), ObjectId('67016b3f0457ddbb8fc31445'), ObjectId('67016b3f0457ddbb8fc31446'), ObjectId('67016b3f0457ddbb8fc31447'), ObjectId('67016b3f0457ddbb8fc31448'), ObjectId('67016b3f0457ddbb8fc31449'), ObjectId('67016b3f0457ddbb8fc3144a'), ObjectId('67016b3f0457ddbb8fc3144b'), ObjectId('67016b3f0457ddbb8fc3144c'), ObjectId('67016b3f0457ddbb8fc3144d'), ObjectId('67016b3f0457ddbb8fc3144e'), ObjectId('67016b3f0457ddbb8fc3144f'), ObjectId('67016b3f0457ddbb8fc31450'), ObjectId('67016b3f0457ddbb8fc31451'), ObjectId('67016b3f0457ddbb8fc31452'), ObjectId('67016b3f0457ddbb8fc31453'), ObjectId('67016b3f0457ddbb8fc31454'), ObjectId('67016b3f0457ddbb8fc31455'), ObjectId('67016b3f0457ddbb8fc31456'), ObjectId('67016b3f0457ddbb8fc31457'), ObjectId('67016b3f0457ddbb8fc31458'), ObjectId('67016b3f0457ddbb8fc31459'), ObjectId('67016b3f0457ddbb8fc3145a'), ObjectId('67016b3f0457ddbb8fc3145b'), ObjectId('67016b3f0457ddbb8fc3145c'), ObjectId('67016b3f0457ddbb8fc3145d'), ObjectId('67016b3f0457ddbb8fc3145e'), ObjectId('67016b3f0457ddbb8fc3145f'), ObjectId('67016b3f0457ddbb8fc31460'), ObjectId('67016b3f0457ddbb8fc31461'), ObjectId('67016b3f0457ddbb8fc31462'), ObjectId('67016b3f0457ddbb8fc31463'), ObjectId('67016b3f0457ddbb8fc31464'), ObjectId('67016b3f0457ddbb8fc31465'), ObjectId('67016b3f0457ddbb8fc31466'), ObjectId('67016b3f0457ddbb8fc31467'), ObjectId('67016b3f0457ddbb8fc31468'), ObjectId('67016b3f0457ddbb8fc31469'), ObjectId('67016b3f0457ddbb8fc3146a'), ObjectId('67016b3f0457ddbb8fc3146b'), ObjectId('67016b3f0457ddbb8fc3146c'), ObjectId('67016b3f0457ddbb8fc3146d'), ObjectId('67016b3f0457ddbb8fc3146e'), ObjectId('67016b3f0457ddbb8fc3146f'), ObjectId('67016b3f0457ddbb8fc31470'), ObjectId('67016b3f0457ddbb8fc31471'), ObjectId('67016b3f0457ddbb8fc31472'), ObjectId('67016b3f0457ddbb8fc31473'), ObjectId('67016b3f0457ddbb8fc31474'), ObjectId('67016b3f0457ddbb8fc31475'), ObjectId('67016b3f0457ddbb8fc31476'), ObjectId('67016b3f0457ddbb8fc31477'), ObjectId('67016b3f0457ddbb8fc31478'), ObjectId('67016b3f0457ddbb8fc31479'), ObjectId('67016b3f0457ddbb8fc3147a'), ObjectId('67016b3f0457ddbb8fc3147b'), ObjectId('67016b3f0457ddbb8fc3147c'), ObjectId('67016b3f0457ddbb8fc3147d'), ObjectId('67016b3f0457ddbb8fc3147e'), ObjectId('67016b3f0457ddbb8fc3147f'), ObjectId('67016b3f0457ddbb8fc31480'), ObjectId('67016b3f0457ddbb8fc31481'), ObjectId('67016b3f0457ddbb8fc31482'), ObjectId('67016b3f0457ddbb8fc31483'), ObjectId('67016b3f0457ddbb8fc31484'), ObjectId('67016b3f0457ddbb8fc31485'), ObjectId('67016b3f0457ddbb8fc31486'), ObjectId('67016b3f0457ddbb8fc31487'), ObjectId('67016b3f0457ddbb8fc31488'), ObjectId('67016b3f0457ddbb8fc31489'), ObjectId('67016b3f0457ddbb8fc3148a'), ObjectId('67016b3f0457ddbb8fc3148b'), ObjectId('67016b3f0457ddbb8fc3148c'), ObjectId('67016b3f0457ddbb8fc3148d'), ObjectId('67016b3f0457ddbb8fc3148e'), ObjectId('67016b3f0457ddbb8fc3148f'), ObjectId('67016b3f0457ddbb8fc31490'), ObjectId('67016b3f0457ddbb8fc31491'), ObjectId('67016b3f0457ddbb8fc31492'), ObjectId('67016b3f0457ddbb8fc31493'), ObjectId('67016b3f0457ddbb8fc31494'), ObjectId('67016b3f0457ddbb8fc31495'), ObjectId('67016b3f0457ddbb8fc31496'), ObjectId('67016b3f0457ddbb8fc31497'), ObjectId('67016b3f0457ddbb8fc31498'), ObjectId('67016b3f0457ddbb8fc31499'), ObjectId('67016b3f0457ddbb8fc3149a'), ObjectId('67016b3f0457ddbb8fc3149b'), ObjectId('67016b3f0457ddbb8fc3149c'), ObjectId('67016b3f0457ddbb8fc3149d'), ObjectId('67016b3f0457ddbb8fc3149e'), ObjectId('67016b3f0457ddbb8fc3149f'), ObjectId('67016b3f0457ddbb8fc314a0'), ObjectId('67016b3f0457ddbb8fc314a1'), ObjectId('67016b3f0457ddbb8fc314a2'), ObjectId('67016b3f0457ddbb8fc314a3'), ObjectId('67016b3f0457ddbb8fc314a4'), ObjectId('67016b3f0457ddbb8fc314a5'), ObjectId('67016b3f0457ddbb8fc314a6'), ObjectId('67016b3f0457ddbb8fc314a7'), ObjectId('67016b3f0457ddbb8fc314a8'), ObjectId('67016b3f0457ddbb8fc314a9'), ObjectId('67016b3f0457ddbb8fc314aa'), ObjectId('67016b3f0457ddbb8fc314ab'), ObjectId('67016b3f0457ddbb8fc314ac'), ObjectId('67016b3f0457ddbb8fc314ad'), ObjectId('67016b3f0457ddbb8fc314ae'), ObjectId('67016b3f0457ddbb8fc314af'), ObjectId('67016b3f0457ddbb8fc314b0'), ObjectId('67016b3f0457ddbb8fc314b1'), ObjectId('67016b3f0457ddbb8fc314b2'), ObjectId('67016b3f0457ddbb8fc314b3'), ObjectId('67016b3f0457ddbb8fc314b4'), ObjectId('67016b3f0457ddbb8fc314b5'), ObjectId('67016b3f0457ddbb8fc314b6'), ObjectId('67016b3f0457ddbb8fc314b7'), ObjectId('67016b3f0457ddbb8fc314b8'), ObjectId('67016b3f0457ddbb8fc314b9'), ObjectId('67016b3f0457ddbb8fc314ba'), ObjectId('67016b3f0457ddbb8fc314bb'), ObjectId('67016b3f0457ddbb8fc314bc'), ObjectId('67016b3f0457ddbb8fc314bd'), ObjectId('67016b3f0457ddbb8fc314be'), ObjectId('67016b3f0457ddbb8fc314bf'), ObjectId('67016b3f0457ddbb8fc314c0'), ObjectId('67016b3f0457ddbb8fc314c1'), ObjectId('67016b3f0457ddbb8fc314c2'), ObjectId('67016b3f0457ddbb8fc314c3'), ObjectId('67016b3f0457ddbb8fc314c4'), ObjectId('67016b3f0457ddbb8fc314c5'), ObjectId('67016b3f0457ddbb8fc314c6'), ObjectId('67016b3f0457ddbb8fc314c7'), ObjectId('67016b3f0457ddbb8fc314c8'), ObjectId('67016b3f0457ddbb8fc314c9'), ObjectId('67016b3f0457ddbb8fc314ca'), ObjectId('67016b3f0457ddbb8fc314cb'), ObjectId('67016b3f0457ddbb8fc314cc'), ObjectId('67016b3f0457ddbb8fc314cd'), ObjectId('67016b3f0457ddbb8fc314ce'), ObjectId('67016b3f0457ddbb8fc314cf'), ObjectId('67016b3f0457ddbb8fc314d0'), ObjectId('67016b3f0457ddbb8fc314d1'), ObjectId('67016b3f0457ddbb8fc314d2'), ObjectId('67016b3f0457ddbb8fc314d3'), ObjectId('67016b3f0457ddbb8fc314d4'), ObjectId('67016b3f0457ddbb8fc314d5'), ObjectId('67016b3f0457ddbb8fc314d6'), ObjectId('67016b3f0457ddbb8fc314d7'), ObjectId('67016b3f0457ddbb8fc314d8'), ObjectId('67016b3f0457ddbb8fc314d9'), ObjectId('67016b3f0457ddbb8fc314da'), ObjectId('67016b3f0457ddbb8fc314db'), ObjectId('67016b3f0457ddbb8fc314dc'), ObjectId('67016b3f0457ddbb8fc314dd'), ObjectId('67016b3f0457ddbb8fc314de'), ObjectId('67016b3f0457ddbb8fc314df'), ObjectId('67016b3f0457ddbb8fc314e0'), ObjectId('67016b3f0457ddbb8fc314e1'), ObjectId('67016b3f0457ddbb8fc314e2'), ObjectId('67016b3f0457ddbb8fc314e3'), ObjectId('67016b3f0457ddbb8fc314e4'), ObjectId('67016b3f0457ddbb8fc314e5'), ObjectId('67016b3f0457ddbb8fc314e6'), ObjectId('67016b3f0457ddbb8fc314e7'), ObjectId('67016b3f0457ddbb8fc314e8'), ObjectId('67016b3f0457ddbb8fc314e9'), ObjectId('67016b3f0457ddbb8fc314ea'), ObjectId('67016b3f0457ddbb8fc314eb'), ObjectId('67016b3f0457ddbb8fc314ec'), ObjectId('67016b3f0457ddbb8fc314ed'), ObjectId('67016b3f0457ddbb8fc314ee'), ObjectId('67016b3f0457ddbb8fc314ef'), ObjectId('67016b3f0457ddbb8fc314f0'), ObjectId('67016b3f0457ddbb8fc314f1'), ObjectId('67016b3f0457ddbb8fc314f2'), ObjectId('67016b3f0457ddbb8fc314f3'), ObjectId('67016b3f0457ddbb8fc314f4'), ObjectId('67016b3f0457ddbb8fc314f5'), ObjectId('67016b3f0457ddbb8fc314f6'), ObjectId('67016b3f0457ddbb8fc314f7'), ObjectId('67016b3f0457ddbb8fc314f8'), ObjectId('67016b3f0457ddbb8fc314f9'), ObjectId('67016b3f0457ddbb8fc314fa'), ObjectId('67016b3f0457ddbb8fc314fb'), ObjectId('67016b3f0457ddbb8fc314fc'), ObjectId('67016b3f0457ddbb8fc314fd'), ObjectId('67016b3f0457ddbb8fc314fe'), ObjectId('67016b3f0457ddbb8fc314ff'), ObjectId('67016b3f0457ddbb8fc31500'), ObjectId('67016b3f0457ddbb8fc31501'), ObjectId('67016b3f0457ddbb8fc31502'), ObjectId('67016b3f0457ddbb8fc31503'), ObjectId('67016b3f0457ddbb8fc31504'), ObjectId('67016b3f0457ddbb8fc31505'), ObjectId('67016b3f0457ddbb8fc31506'), ObjectId('67016b3f0457ddbb8fc31507'), ObjectId('67016b3f0457ddbb8fc31508'), ObjectId('67016b3f0457ddbb8fc31509'), ObjectId('67016b3f0457ddbb8fc3150a'), ObjectId('67016b3f0457ddbb8fc3150b'), ObjectId('67016b3f0457ddbb8fc3150c'), ObjectId('67016b3f0457ddbb8fc3150d'), ObjectId('67016b3f0457ddbb8fc3150e'), ObjectId('67016b3f0457ddbb8fc3150f'), ObjectId('67016b3f0457ddbb8fc31510'), ObjectId('67016b3f0457ddbb8fc31511'), ObjectId('67016b3f0457ddbb8fc31512'), ObjectId('67016b3f0457ddbb8fc31513'), ObjectId('67016b3f0457ddbb8fc31514'), ObjectId('67016b3f0457ddbb8fc31515'), ObjectId('67016b3f0457ddbb8fc31516'), ObjectId('67016b3f0457ddbb8fc31517'), ObjectId('67016b3f0457ddbb8fc31518'), ObjectId('67016b3f0457ddbb8fc31519'), ObjectId('67016b3f0457ddbb8fc3151a'), ObjectId('67016b3f0457ddbb8fc3151b'), ObjectId('67016b3f0457ddbb8fc3151c'), ObjectId('67016b3f0457ddbb8fc3151d'), ObjectId('67016b3f0457ddbb8fc3151e'), ObjectId('67016b3f0457ddbb8fc3151f'), ObjectId('67016b3f0457ddbb8fc31520'), ObjectId('67016b3f0457ddbb8fc31521'), ObjectId('67016b3f0457ddbb8fc31522'), ObjectId('67016b3f0457ddbb8fc31523'), ObjectId('67016b3f0457ddbb8fc31524'), ObjectId('67016b3f0457ddbb8fc31525'), ObjectId('67016b3f0457ddbb8fc31526'), ObjectId('67016b3f0457ddbb8fc31527'), ObjectId('67016b3f0457ddbb8fc31528'), ObjectId('67016b3f0457ddbb8fc31529'), ObjectId('67016b3f0457ddbb8fc3152a'), ObjectId('67016b3f0457ddbb8fc3152b'), ObjectId('67016b3f0457ddbb8fc3152c'), ObjectId('67016b3f0457ddbb8fc3152d'), ObjectId('67016b3f0457ddbb8fc3152e'), ObjectId('67016b3f0457ddbb8fc3152f'), ObjectId('67016b3f0457ddbb8fc31530'), ObjectId('67016b3f0457ddbb8fc31531'), ObjectId('67016b3f0457ddbb8fc31532'), ObjectId('67016b3f0457ddbb8fc31533'), ObjectId('67016b3f0457ddbb8fc31534'), ObjectId('67016b3f0457ddbb8fc31535'), ObjectId('67016b3f0457ddbb8fc31536'), ObjectId('67016b3f0457ddbb8fc31537'), ObjectId('67016b3f0457ddbb8fc31538'), ObjectId('67016b3f0457ddbb8fc31539'), ObjectId('67016b3f0457ddbb8fc3153a'), ObjectId('67016b3f0457ddbb8fc3153b'), ObjectId('67016b3f0457ddbb8fc3153c'), ObjectId('67016b3f0457ddbb8fc3153d'), ObjectId('67016b3f0457ddbb8fc3153e'), ObjectId('67016b3f0457ddbb8fc3153f'), ObjectId('67016b3f0457ddbb8fc31540'), ObjectId('67016b3f0457ddbb8fc31541'), ObjectId('67016b3f0457ddbb8fc31542'), ObjectId('67016b3f0457ddbb8fc31543'), ObjectId('67016b3f0457ddbb8fc31544'), ObjectId('67016b3f0457ddbb8fc31545'), ObjectId('67016b3f0457ddbb8fc31546'), ObjectId('67016b3f0457ddbb8fc31547'), ObjectId('67016b3f0457ddbb8fc31548'), ObjectId('67016b3f0457ddbb8fc31549'), ObjectId('67016b3f0457ddbb8fc3154a'), ObjectId('67016b3f0457ddbb8fc3154b'), ObjectId('67016b3f0457ddbb8fc3154c'), ObjectId('67016b3f0457ddbb8fc3154d'), ObjectId('67016b3f0457ddbb8fc3154e'), ObjectId('67016b3f0457ddbb8fc3154f'), ObjectId('67016b3f0457ddbb8fc31550'), ObjectId('67016b3f0457ddbb8fc31551'), ObjectId('67016b3f0457ddbb8fc31552'), ObjectId('67016b3f0457ddbb8fc31553'), ObjectId('67016b3f0457ddbb8fc31554'), ObjectId('67016b3f0457ddbb8fc31555'), ObjectId('67016b3f0457ddbb8fc31556'), ObjectId('67016b3f0457ddbb8fc31557'), ObjectId('67016b3f0457ddbb8fc31558'), ObjectId('67016b3f0457ddbb8fc31559'), ObjectId('67016b3f0457ddbb8fc3155a'), ObjectId('67016b3f0457ddbb8fc3155b'), ObjectId('67016b3f0457ddbb8fc3155c'), ObjectId('67016b3f0457ddbb8fc3155d'), ObjectId('67016b3f0457ddbb8fc3155e'), ObjectId('67016b3f0457ddbb8fc3155f'), ObjectId('67016b3f0457ddbb8fc31560'), ObjectId('67016b3f0457ddbb8fc31561'), ObjectId('67016b3f0457ddbb8fc31562'), ObjectId('67016b3f0457ddbb8fc31563'), ObjectId('67016b3f0457ddbb8fc31564'), ObjectId('67016b3f0457ddbb8fc31565'), ObjectId('67016b3f0457ddbb8fc31566'), ObjectId('67016b3f0457ddbb8fc31567'), ObjectId('67016b3f0457ddbb8fc31568'), ObjectId('67016b3f0457ddbb8fc31569'), ObjectId('67016b3f0457ddbb8fc3156a'), ObjectId('67016b3f0457ddbb8fc3156b'), ObjectId('67016b3f0457ddbb8fc3156c'), ObjectId('67016b3f0457ddbb8fc3156d'), ObjectId('67016b3f0457ddbb8fc3156e'), ObjectId('67016b3f0457ddbb8fc3156f'), ObjectId('67016b3f0457ddbb8fc31570'), ObjectId('67016b3f0457ddbb8fc31571'), ObjectId('67016b3f0457ddbb8fc31572'), ObjectId('67016b3f0457ddbb8fc31573'), ObjectId('67016b3f0457ddbb8fc31574'), ObjectId('67016b3f0457ddbb8fc31575'), ObjectId('67016b3f0457ddbb8fc31576'), ObjectId('67016b3f0457ddbb8fc31577'), ObjectId('67016b3f0457ddbb8fc31578'), ObjectId('67016b3f0457ddbb8fc31579'), ObjectId('67016b3f0457ddbb8fc3157a'), ObjectId('67016b3f0457ddbb8fc3157b'), ObjectId('67016b3f0457ddbb8fc3157c'), ObjectId('67016b3f0457ddbb8fc3157d'), ObjectId('67016b3f0457ddbb8fc3157e'), ObjectId('67016b3f0457ddbb8fc3157f'), ObjectId('67016b3f0457ddbb8fc31580'), ObjectId('67016b3f0457ddbb8fc31581'), ObjectId('67016b3f0457ddbb8fc31582'), ObjectId('67016b3f0457ddbb8fc31583'), ObjectId('67016b3f0457ddbb8fc31584'), ObjectId('67016b3f0457ddbb8fc31585'), ObjectId('67016b3f0457ddbb8fc31586'), ObjectId('67016b3f0457ddbb8fc31587'), ObjectId('67016b3f0457ddbb8fc31588'), ObjectId('67016b3f0457ddbb8fc31589'), ObjectId('67016b3f0457ddbb8fc3158a'), ObjectId('67016b3f0457ddbb8fc3158b'), ObjectId('67016b3f0457ddbb8fc3158c'), ObjectId('67016b3f0457ddbb8fc3158d'), ObjectId('67016b3f0457ddbb8fc3158e'), ObjectId('67016b3f0457ddbb8fc3158f'), ObjectId('67016b3f0457ddbb8fc31590'), ObjectId('67016b3f0457ddbb8fc31591'), ObjectId('67016b3f0457ddbb8fc31592'), ObjectId('67016b3f0457ddbb8fc31593'), ObjectId('67016b3f0457ddbb8fc31594'), ObjectId('67016b3f0457ddbb8fc31595'), ObjectId('67016b3f0457ddbb8fc31596'), ObjectId('67016b3f0457ddbb8fc31597'), ObjectId('67016b3f0457ddbb8fc31598'), ObjectId('67016b3f0457ddbb8fc31599'), ObjectId('67016b3f0457ddbb8fc3159a'), ObjectId('67016b3f0457ddbb8fc3159b'), ObjectId('67016b3f0457ddbb8fc3159c'), ObjectId('67016b3f0457ddbb8fc3159d'), ObjectId('67016b3f0457ddbb8fc3159e'), ObjectId('67016b3f0457ddbb8fc3159f'), ObjectId('67016b3f0457ddbb8fc315a0'), ObjectId('67016b3f0457ddbb8fc315a1'), ObjectId('67016b3f0457ddbb8fc315a2'), ObjectId('67016b3f0457ddbb8fc315a3'), ObjectId('67016b3f0457ddbb8fc315a4'), ObjectId('67016b3f0457ddbb8fc315a5'), ObjectId('67016b3f0457ddbb8fc315a6'), ObjectId('67016b3f0457ddbb8fc315a7'), ObjectId('67016b3f0457ddbb8fc315a8'), ObjectId('67016b3f0457ddbb8fc315a9'), ObjectId('67016b3f0457ddbb8fc315aa'), ObjectId('67016b3f0457ddbb8fc315ab'), ObjectId('67016b3f0457ddbb8fc315ac'), ObjectId('67016b3f0457ddbb8fc315ad'), ObjectId('67016b3f0457ddbb8fc315ae'), ObjectId('67016b3f0457ddbb8fc315af'), ObjectId('67016b3f0457ddbb8fc315b0'), ObjectId('67016b3f0457ddbb8fc315b1'), ObjectId('67016b3f0457ddbb8fc315b2'), ObjectId('67016b3f0457ddbb8fc315b3'), ObjectId('67016b3f0457ddbb8fc315b4'), ObjectId('67016b3f0457ddbb8fc315b5'), ObjectId('67016b3f0457ddbb8fc315b6'), ObjectId('67016b3f0457ddbb8fc315b7'), ObjectId('67016b3f0457ddbb8fc315b8'), ObjectId('67016b3f0457ddbb8fc315b9'), ObjectId('67016b3f0457ddbb8fc315ba'), ObjectId('67016b3f0457ddbb8fc315bb'), ObjectId('67016b3f0457ddbb8fc315bc'), ObjectId('67016b3f0457ddbb8fc315bd'), ObjectId('67016b3f0457ddbb8fc315be'), ObjectId('67016b3f0457ddbb8fc315bf'), ObjectId('67016b3f0457ddbb8fc315c0'), ObjectId('67016b3f0457ddbb8fc315c1'), ObjectId('67016b3f0457ddbb8fc315c2'), ObjectId('67016b3f0457ddbb8fc315c3'), ObjectId('67016b3f0457ddbb8fc315c4'), ObjectId('67016b3f0457ddbb8fc315c5'), ObjectId('67016b3f0457ddbb8fc315c6'), ObjectId('67016b3f0457ddbb8fc315c7'), ObjectId('67016b3f0457ddbb8fc315c8'), ObjectId('67016b3f0457ddbb8fc315c9'), ObjectId('67016b3f0457ddbb8fc315ca'), ObjectId('67016b3f0457ddbb8fc315cb'), ObjectId('67016b3f0457ddbb8fc315cc'), ObjectId('67016b3f0457ddbb8fc315cd'), ObjectId('67016b3f0457ddbb8fc315ce'), ObjectId('67016b3f0457ddbb8fc315cf'), ObjectId('67016b3f0457ddbb8fc315d0'), ObjectId('67016b3f0457ddbb8fc315d1'), ObjectId('67016b3f0457ddbb8fc315d2'), ObjectId('67016b3f0457ddbb8fc315d3'), ObjectId('67016b3f0457ddbb8fc315d4'), ObjectId('67016b3f0457ddbb8fc315d5'), ObjectId('67016b3f0457ddbb8fc315d6'), ObjectId('67016b3f0457ddbb8fc315d7'), ObjectId('67016b3f0457ddbb8fc315d8'), ObjectId('67016b3f0457ddbb8fc315d9'), ObjectId('67016b3f0457ddbb8fc315da'), ObjectId('67016b3f0457ddbb8fc315db'), ObjectId('67016b3f0457ddbb8fc315dc'), ObjectId('67016b3f0457ddbb8fc315dd'), ObjectId('67016b3f0457ddbb8fc315de'), ObjectId('67016b3f0457ddbb8fc315df'), ObjectId('67016b3f0457ddbb8fc315e0'), ObjectId('67016b3f0457ddbb8fc315e1'), ObjectId('67016b3f0457ddbb8fc315e2'), ObjectId('67016b3f0457ddbb8fc315e3'), ObjectId('67016b3f0457ddbb8fc315e4'), ObjectId('67016b3f0457ddbb8fc315e5'), ObjectId('67016b3f0457ddbb8fc315e6'), ObjectId('67016b3f0457ddbb8fc315e7'), ObjectId('67016b3f0457ddbb8fc315e8'), ObjectId('67016b3f0457ddbb8fc315e9'), ObjectId('67016b3f0457ddbb8fc315ea'), ObjectId('67016b3f0457ddbb8fc315eb'), ObjectId('67016b3f0457ddbb8fc315ec'), ObjectId('67016b3f0457ddbb8fc315ed'), ObjectId('67016b3f0457ddbb8fc315ee'), ObjectId('67016b3f0457ddbb8fc315ef'), ObjectId('67016b3f0457ddbb8fc315f0'), ObjectId('67016b3f0457ddbb8fc315f1'), ObjectId('67016b3f0457ddbb8fc315f2'), ObjectId('67016b3f0457ddbb8fc315f3'), ObjectId('67016b3f0457ddbb8fc315f4'), ObjectId('67016b3f0457ddbb8fc315f5'), ObjectId('67016b3f0457ddbb8fc315f6'), ObjectId('67016b3f0457ddbb8fc315f7'), ObjectId('67016b3f0457ddbb8fc315f8'), ObjectId('67016b3f0457ddbb8fc315f9'), ObjectId('67016b3f0457ddbb8fc315fa'), ObjectId('67016b3f0457ddbb8fc315fb'), ObjectId('67016b3f0457ddbb8fc315fc'), ObjectId('67016b3f0457ddbb8fc315fd'), ObjectId('67016b3f0457ddbb8fc315fe'), ObjectId('67016b3f0457ddbb8fc315ff'), ObjectId('67016b3f0457ddbb8fc31600'), ObjectId('67016b3f0457ddbb8fc31601'), ObjectId('67016b3f0457ddbb8fc31602'), ObjectId('67016b3f0457ddbb8fc31603'), ObjectId('67016b3f0457ddbb8fc31604'), ObjectId('67016b3f0457ddbb8fc31605'), ObjectId('67016b3f0457ddbb8fc31606'), ObjectId('67016b3f0457ddbb8fc31607'), ObjectId('67016b3f0457ddbb8fc31608'), ObjectId('67016b3f0457ddbb8fc31609'), ObjectId('67016b3f0457ddbb8fc3160a'), ObjectId('67016b3f0457ddbb8fc3160b'), ObjectId('67016b3f0457ddbb8fc3160c'), ObjectId('67016b3f0457ddbb8fc3160d'), ObjectId('67016b3f0457ddbb8fc3160e'), ObjectId('67016b3f0457ddbb8fc3160f'), ObjectId('67016b3f0457ddbb8fc31610'), ObjectId('67016b3f0457ddbb8fc31611'), ObjectId('67016b3f0457ddbb8fc31612'), ObjectId('67016b3f0457ddbb8fc31613'), ObjectId('67016b3f0457ddbb8fc31614'), ObjectId('67016b3f0457ddbb8fc31615'), ObjectId('67016b3f0457ddbb8fc31616'), ObjectId('67016b3f0457ddbb8fc31617'), ObjectId('67016b3f0457ddbb8fc31618'), ObjectId('67016b3f0457ddbb8fc31619'), ObjectId('67016b3f0457ddbb8fc3161a'), ObjectId('67016b3f0457ddbb8fc3161b'), ObjectId('67016b3f0457ddbb8fc3161c'), ObjectId('67016b3f0457ddbb8fc3161d'), ObjectId('67016b3f0457ddbb8fc3161e'), ObjectId('67016b3f0457ddbb8fc3161f'), ObjectId('67016b3f0457ddbb8fc31620'), ObjectId('67016b3f0457ddbb8fc31621'), ObjectId('67016b3f0457ddbb8fc31622'), ObjectId('67016b3f0457ddbb8fc31623'), ObjectId('67016b3f0457ddbb8fc31624'), ObjectId('67016b3f0457ddbb8fc31625'), ObjectId('67016b3f0457ddbb8fc31626'), ObjectId('67016b3f0457ddbb8fc31627'), ObjectId('67016b3f0457ddbb8fc31628'), ObjectId('67016b3f0457ddbb8fc31629'), ObjectId('67016b3f0457ddbb8fc3162a'), ObjectId('67016b3f0457ddbb8fc3162b'), ObjectId('67016b3f0457ddbb8fc3162c'), ObjectId('67016b3f0457ddbb8fc3162d'), ObjectId('67016b3f0457ddbb8fc3162e'), ObjectId('67016b3f0457ddbb8fc3162f'), ObjectId('67016b3f0457ddbb8fc31630'), ObjectId('67016b3f0457ddbb8fc31631'), ObjectId('67016b3f0457ddbb8fc31632'), ObjectId('67016b3f0457ddbb8fc31633'), ObjectId('67016b3f0457ddbb8fc31634'), ObjectId('67016b3f0457ddbb8fc31635'), ObjectId('67016b3f0457ddbb8fc31636'), ObjectId('67016b3f0457ddbb8fc31637'), ObjectId('67016b3f0457ddbb8fc31638'), ObjectId('67016b3f0457ddbb8fc31639'), ObjectId('67016b3f0457ddbb8fc3163a'), ObjectId('67016b3f0457ddbb8fc3163b'), ObjectId('67016b3f0457ddbb8fc3163c'), ObjectId('67016b3f0457ddbb8fc3163d'), ObjectId('67016b3f0457ddbb8fc3163e'), ObjectId('67016b3f0457ddbb8fc3163f'), ObjectId('67016b3f0457ddbb8fc31640'), ObjectId('67016b3f0457ddbb8fc31641'), ObjectId('67016b3f0457ddbb8fc31642'), ObjectId('67016b3f0457ddbb8fc31643'), ObjectId('67016b3f0457ddbb8fc31644'), ObjectId('67016b3f0457ddbb8fc31645'), ObjectId('67016b3f0457ddbb8fc31646'), ObjectId('67016b3f0457ddbb8fc31647'), ObjectId('67016b3f0457ddbb8fc31648'), ObjectId('67016b3f0457ddbb8fc31649'), ObjectId('67016b3f0457ddbb8fc3164a'), ObjectId('67016b3f0457ddbb8fc3164b'), ObjectId('67016b3f0457ddbb8fc3164c'), ObjectId('67016b3f0457ddbb8fc3164d'), ObjectId('67016b3f0457ddbb8fc3164e'), ObjectId('67016b3f0457ddbb8fc3164f'), ObjectId('67016b3f0457ddbb8fc31650'), ObjectId('67016b3f0457ddbb8fc31651'), ObjectId('67016b3f0457ddbb8fc31652'), ObjectId('67016b3f0457ddbb8fc31653'), ObjectId('67016b3f0457ddbb8fc31654'), ObjectId('67016b3f0457ddbb8fc31655'), ObjectId('67016b3f0457ddbb8fc31656'), ObjectId('67016b3f0457ddbb8fc31657'), ObjectId('67016b3f0457ddbb8fc31658'), ObjectId('67016b3f0457ddbb8fc31659'), ObjectId('67016b3f0457ddbb8fc3165a'), ObjectId('67016b3f0457ddbb8fc3165b'), ObjectId('67016b3f0457ddbb8fc3165c'), ObjectId('67016b3f0457ddbb8fc3165d'), ObjectId('67016b3f0457ddbb8fc3165e'), ObjectId('67016b3f0457ddbb8fc3165f'), ObjectId('67016b3f0457ddbb8fc31660'), ObjectId('67016b3f0457ddbb8fc31661'), ObjectId('67016b3f0457ddbb8fc31662'), ObjectId('67016b3f0457ddbb8fc31663'), ObjectId('67016b3f0457ddbb8fc31664'), ObjectId('67016b3f0457ddbb8fc31665'), ObjectId('67016b3f0457ddbb8fc31666'), ObjectId('67016b3f0457ddbb8fc31667'), ObjectId('67016b3f0457ddbb8fc31668'), ObjectId('67016b3f0457ddbb8fc31669'), ObjectId('67016b3f0457ddbb8fc3166a'), ObjectId('67016b3f0457ddbb8fc3166b'), ObjectId('67016b3f0457ddbb8fc3166c'), ObjectId('67016b3f0457ddbb8fc3166d'), ObjectId('67016b3f0457ddbb8fc3166e'), ObjectId('67016b3f0457ddbb8fc3166f'), ObjectId('67016b3f0457ddbb8fc31670'), ObjectId('67016b3f0457ddbb8fc31671'), ObjectId('67016b3f0457ddbb8fc31672'), ObjectId('67016b3f0457ddbb8fc31673'), ObjectId('67016b3f0457ddbb8fc31674'), ObjectId('67016b3f0457ddbb8fc31675'), ObjectId('67016b3f0457ddbb8fc31676'), ObjectId('67016b3f0457ddbb8fc31677'), ObjectId('67016b3f0457ddbb8fc31678'), ObjectId('67016b3f0457ddbb8fc31679'), ObjectId('67016b3f0457ddbb8fc3167a'), ObjectId('67016b3f0457ddbb8fc3167b'), ObjectId('67016b3f0457ddbb8fc3167c'), ObjectId('67016b3f0457ddbb8fc3167d'), ObjectId('67016b3f0457ddbb8fc3167e'), ObjectId('67016b3f0457ddbb8fc3167f'), ObjectId('67016b3f0457ddbb8fc31680'), ObjectId('67016b3f0457ddbb8fc31681'), ObjectId('67016b3f0457ddbb8fc31682'), ObjectId('67016b3f0457ddbb8fc31683'), ObjectId('67016b3f0457ddbb8fc31684'), ObjectId('67016b3f0457ddbb8fc31685'), ObjectId('67016b3f0457ddbb8fc31686'), ObjectId('67016b3f0457ddbb8fc31687'), ObjectId('67016b3f0457ddbb8fc31688'), ObjectId('67016b3f0457ddbb8fc31689'), ObjectId('67016b3f0457ddbb8fc3168a'), ObjectId('67016b3f0457ddbb8fc3168b'), ObjectId('67016b3f0457ddbb8fc3168c'), ObjectId('67016b3f0457ddbb8fc3168d'), ObjectId('67016b3f0457ddbb8fc3168e'), ObjectId('67016b3f0457ddbb8fc3168f'), ObjectId('67016b3f0457ddbb8fc31690'), ObjectId('67016b3f0457ddbb8fc31691'), ObjectId('67016b3f0457ddbb8fc31692'), ObjectId('67016b3f0457ddbb8fc31693'), ObjectId('67016b3f0457ddbb8fc31694'), ObjectId('67016b3f0457ddbb8fc31695'), ObjectId('67016b3f0457ddbb8fc31696'), ObjectId('67016b3f0457ddbb8fc31697'), ObjectId('67016b3f0457ddbb8fc31698'), ObjectId('67016b3f0457ddbb8fc31699'), ObjectId('67016b3f0457ddbb8fc3169a'), ObjectId('67016b3f0457ddbb8fc3169b'), ObjectId('67016b3f0457ddbb8fc3169c'), ObjectId('67016b3f0457ddbb8fc3169d'), ObjectId('67016b3f0457ddbb8fc3169e'), ObjectId('67016b3f0457ddbb8fc3169f'), ObjectId('67016b3f0457ddbb8fc316a0'), ObjectId('67016b3f0457ddbb8fc316a1'), ObjectId('67016b3f0457ddbb8fc316a2'), ObjectId('67016b3f0457ddbb8fc316a3'), ObjectId('67016b3f0457ddbb8fc316a4'), ObjectId('67016b3f0457ddbb8fc316a5'), ObjectId('67016b3f0457ddbb8fc316a6'), ObjectId('67016b3f0457ddbb8fc316a7'), ObjectId('67016b3f0457ddbb8fc316a8'), ObjectId('67016b3f0457ddbb8fc316a9'), ObjectId('67016b3f0457ddbb8fc316aa'), ObjectId('67016b3f0457ddbb8fc316ab'), ObjectId('67016b3f0457ddbb8fc316ac'), ObjectId('67016b3f0457ddbb8fc316ad'), ObjectId('67016b3f0457ddbb8fc316ae'), ObjectId('67016b3f0457ddbb8fc316af'), ObjectId('67016b3f0457ddbb8fc316b0'), ObjectId('67016b3f0457ddbb8fc316b1'), ObjectId('67016b3f0457ddbb8fc316b2'), ObjectId('67016b3f0457ddbb8fc316b3'), ObjectId('67016b3f0457ddbb8fc316b4'), ObjectId('67016b3f0457ddbb8fc316b5'), ObjectId('67016b3f0457ddbb8fc316b6'), ObjectId('67016b3f0457ddbb8fc316b7'), ObjectId('67016b3f0457ddbb8fc316b8'), ObjectId('67016b3f0457ddbb8fc316b9'), ObjectId('67016b3f0457ddbb8fc316ba'), ObjectId('67016b3f0457ddbb8fc316bb'), ObjectId('67016b3f0457ddbb8fc316bc'), ObjectId('67016b3f0457ddbb8fc316bd'), ObjectId('67016b3f0457ddbb8fc316be'), ObjectId('67016b3f0457ddbb8fc316bf'), ObjectId('67016b3f0457ddbb8fc316c0'), ObjectId('67016b3f0457ddbb8fc316c1'), ObjectId('67016b3f0457ddbb8fc316c2'), ObjectId('67016b3f0457ddbb8fc316c3'), ObjectId('67016b3f0457ddbb8fc316c4'), ObjectId('67016b3f0457ddbb8fc316c5'), ObjectId('67016b3f0457ddbb8fc316c6'), ObjectId('67016b3f0457ddbb8fc316c7'), ObjectId('67016b3f0457ddbb8fc316c8'), ObjectId('67016b3f0457ddbb8fc316c9'), ObjectId('67016b3f0457ddbb8fc316ca'), ObjectId('67016b3f0457ddbb8fc316cb'), ObjectId('67016b3f0457ddbb8fc316cc'), ObjectId('67016b3f0457ddbb8fc316cd'), ObjectId('67016b3f0457ddbb8fc316ce'), ObjectId('67016b3f0457ddbb8fc316cf'), ObjectId('67016b3f0457ddbb8fc316d0'), ObjectId('67016b3f0457ddbb8fc316d1'), ObjectId('67016b3f0457ddbb8fc316d2'), ObjectId('67016b3f0457ddbb8fc316d3'), ObjectId('67016b3f0457ddbb8fc316d4'), ObjectId('67016b3f0457ddbb8fc316d5'), ObjectId('67016b3f0457ddbb8fc316d6'), ObjectId('67016b3f0457ddbb8fc316d7'), ObjectId('67016b3f0457ddbb8fc316d8'), ObjectId('67016b3f0457ddbb8fc316d9'), ObjectId('67016b3f0457ddbb8fc316da'), ObjectId('67016b3f0457ddbb8fc316db'), ObjectId('67016b3f0457ddbb8fc316dc'), ObjectId('67016b3f0457ddbb8fc316dd'), ObjectId('67016b3f0457ddbb8fc316de'), ObjectId('67016b3f0457ddbb8fc316df'), ObjectId('67016b3f0457ddbb8fc316e0'), ObjectId('67016b3f0457ddbb8fc316e1'), ObjectId('67016b3f0457ddbb8fc316e2'), ObjectId('67016b3f0457ddbb8fc316e3'), ObjectId('67016b3f0457ddbb8fc316e4'), ObjectId('67016b3f0457ddbb8fc316e5'), ObjectId('67016b3f0457ddbb8fc316e6'), ObjectId('67016b3f0457ddbb8fc316e7'), ObjectId('67016b3f0457ddbb8fc316e8'), ObjectId('67016b3f0457ddbb8fc316e9'), ObjectId('67016b3f0457ddbb8fc316ea'), ObjectId('67016b3f0457ddbb8fc316eb'), ObjectId('67016b3f0457ddbb8fc316ec'), ObjectId('67016b3f0457ddbb8fc316ed'), ObjectId('67016b3f0457ddbb8fc316ee'), ObjectId('67016b3f0457ddbb8fc316ef'), ObjectId('67016b3f0457ddbb8fc316f0'), ObjectId('67016b3f0457ddbb8fc316f1'), ObjectId('67016b3f0457ddbb8fc316f2'), ObjectId('67016b3f0457ddbb8fc316f3'), ObjectId('67016b3f0457ddbb8fc316f4'), ObjectId('67016b3f0457ddbb8fc316f5'), ObjectId('67016b3f0457ddbb8fc316f6'), ObjectId('67016b3f0457ddbb8fc316f7'), ObjectId('67016b3f0457ddbb8fc316f8'), ObjectId('67016b3f0457ddbb8fc316f9'), ObjectId('67016b3f0457ddbb8fc316fa'), ObjectId('67016b3f0457ddbb8fc316fb'), ObjectId('67016b3f0457ddbb8fc316fc'), ObjectId('67016b3f0457ddbb8fc316fd'), ObjectId('67016b3f0457ddbb8fc316fe'), ObjectId('67016b3f0457ddbb8fc316ff'), ObjectId('67016b3f0457ddbb8fc31700'), ObjectId('67016b3f0457ddbb8fc31701'), ObjectId('67016b3f0457ddbb8fc31702'), ObjectId('67016b3f0457ddbb8fc31703'), ObjectId('67016b3f0457ddbb8fc31704'), ObjectId('67016b3f0457ddbb8fc31705'), ObjectId('67016b3f0457ddbb8fc31706'), ObjectId('67016b3f0457ddbb8fc31707'), ObjectId('67016b3f0457ddbb8fc31708'), ObjectId('67016b3f0457ddbb8fc31709'), ObjectId('67016b3f0457ddbb8fc3170a'), ObjectId('67016b3f0457ddbb8fc3170b'), ObjectId('67016b3f0457ddbb8fc3170c'), ObjectId('67016b3f0457ddbb8fc3170d'), ObjectId('67016b3f0457ddbb8fc3170e'), ObjectId('67016b3f0457ddbb8fc3170f'), ObjectId('67016b3f0457ddbb8fc31710'), ObjectId('67016b3f0457ddbb8fc31711'), ObjectId('67016b3f0457ddbb8fc31712'), ObjectId('67016b3f0457ddbb8fc31713'), ObjectId('67016b3f0457ddbb8fc31714'), ObjectId('67016b3f0457ddbb8fc31715'), ObjectId('67016b3f0457ddbb8fc31716'), ObjectId('67016b3f0457ddbb8fc31717'), ObjectId('67016b3f0457ddbb8fc31718'), ObjectId('67016b3f0457ddbb8fc31719'), ObjectId('67016b3f0457ddbb8fc3171a'), ObjectId('67016b3f0457ddbb8fc3171b'), ObjectId('67016b3f0457ddbb8fc3171c'), ObjectId('67016b3f0457ddbb8fc3171d'), ObjectId('67016b3f0457ddbb8fc3171e'), ObjectId('67016b3f0457ddbb8fc3171f'), ObjectId('67016b3f0457ddbb8fc31720'), ObjectId('67016b3f0457ddbb8fc31721'), ObjectId('67016b3f0457ddbb8fc31722'), ObjectId('67016b3f0457ddbb8fc31723'), ObjectId('67016b3f0457ddbb8fc31724'), ObjectId('67016b3f0457ddbb8fc31725'), ObjectId('67016b3f0457ddbb8fc31726'), ObjectId('67016b3f0457ddbb8fc31727'), ObjectId('67016b3f0457ddbb8fc31728'), ObjectId('67016b3f0457ddbb8fc31729'), ObjectId('67016b3f0457ddbb8fc3172a'), ObjectId('67016b3f0457ddbb8fc3172b'), ObjectId('67016b3f0457ddbb8fc3172c'), ObjectId('67016b3f0457ddbb8fc3172d'), ObjectId('67016b3f0457ddbb8fc3172e'), ObjectId('67016b3f0457ddbb8fc3172f'), ObjectId('67016b3f0457ddbb8fc31730'), ObjectId('67016b3f0457ddbb8fc31731'), ObjectId('67016b3f0457ddbb8fc31732'), ObjectId('67016b3f0457ddbb8fc31733'), ObjectId('67016b3f0457ddbb8fc31734'), ObjectId('67016b3f0457ddbb8fc31735'), ObjectId('67016b3f0457ddbb8fc31736'), ObjectId('67016b3f0457ddbb8fc31737'), ObjectId('67016b3f0457ddbb8fc31738'), ObjectId('67016b3f0457ddbb8fc31739'), ObjectId('67016b3f0457ddbb8fc3173a'), ObjectId('67016b3f0457ddbb8fc3173b'), ObjectId('67016b3f0457ddbb8fc3173c'), ObjectId('67016b3f0457ddbb8fc3173d'), ObjectId('67016b3f0457ddbb8fc3173e'), ObjectId('67016b3f0457ddbb8fc3173f'), ObjectId('67016b3f0457ddbb8fc31740'), ObjectId('67016b3f0457ddbb8fc31741'), ObjectId('67016b3f0457ddbb8fc31742'), ObjectId('67016b3f0457ddbb8fc31743'), ObjectId('67016b3f0457ddbb8fc31744'), ObjectId('67016b3f0457ddbb8fc31745'), ObjectId('67016b3f0457ddbb8fc31746'), ObjectId('67016b3f0457ddbb8fc31747'), ObjectId('67016b3f0457ddbb8fc31748'), ObjectId('67016b3f0457ddbb8fc31749'), ObjectId('67016b3f0457ddbb8fc3174a'), ObjectId('67016b3f0457ddbb8fc3174b'), ObjectId('67016b3f0457ddbb8fc3174c'), ObjectId('67016b3f0457ddbb8fc3174d'), ObjectId('67016b3f0457ddbb8fc3174e'), ObjectId('67016b3f0457ddbb8fc3174f'), ObjectId('67016b3f0457ddbb8fc31750'), ObjectId('67016b3f0457ddbb8fc31751'), ObjectId('67016b3f0457ddbb8fc31752'), ObjectId('67016b3f0457ddbb8fc31753'), ObjectId('67016b3f0457ddbb8fc31754'), ObjectId('67016b3f0457ddbb8fc31755'), ObjectId('67016b3f0457ddbb8fc31756'), ObjectId('67016b3f0457ddbb8fc31757'), ObjectId('67016b3f0457ddbb8fc31758'), ObjectId('67016b3f0457ddbb8fc31759'), ObjectId('67016b3f0457ddbb8fc3175a'), ObjectId('67016b3f0457ddbb8fc3175b'), ObjectId('67016b3f0457ddbb8fc3175c'), ObjectId('67016b3f0457ddbb8fc3175d'), ObjectId('67016b3f0457ddbb8fc3175e'), ObjectId('67016b3f0457ddbb8fc3175f'), ObjectId('67016b3f0457ddbb8fc31760'), ObjectId('67016b3f0457ddbb8fc31761'), ObjectId('67016b3f0457ddbb8fc31762'), ObjectId('67016b3f0457ddbb8fc31763'), ObjectId('67016b3f0457ddbb8fc31764'), ObjectId('67016b3f0457ddbb8fc31765'), ObjectId('67016b3f0457ddbb8fc31766'), ObjectId('67016b3f0457ddbb8fc31767'), ObjectId('67016b3f0457ddbb8fc31768'), ObjectId('67016b3f0457ddbb8fc31769'), ObjectId('67016b3f0457ddbb8fc3176a'), ObjectId('67016b3f0457ddbb8fc3176b'), ObjectId('67016b3f0457ddbb8fc3176c'), ObjectId('67016b3f0457ddbb8fc3176d'), ObjectId('67016b3f0457ddbb8fc3176e'), ObjectId('67016b3f0457ddbb8fc3176f'), ObjectId('67016b3f0457ddbb8fc31770'), ObjectId('67016b3f0457ddbb8fc31771'), ObjectId('67016b3f0457ddbb8fc31772'), ObjectId('67016b3f0457ddbb8fc31773'), ObjectId('67016b3f0457ddbb8fc31774'), ObjectId('67016b3f0457ddbb8fc31775'), ObjectId('67016b3f0457ddbb8fc31776'), ObjectId('67016b3f0457ddbb8fc31777'), ObjectId('67016b3f0457ddbb8fc31778'), ObjectId('67016b3f0457ddbb8fc31779'), ObjectId('67016b3f0457ddbb8fc3177a'), ObjectId('67016b3f0457ddbb8fc3177b'), ObjectId('67016b3f0457ddbb8fc3177c'), ObjectId('67016b3f0457ddbb8fc3177d'), ObjectId('67016b3f0457ddbb8fc3177e'), ObjectId('67016b3f0457ddbb8fc3177f'), ObjectId('67016b3f0457ddbb8fc31780'), ObjectId('67016b3f0457ddbb8fc31781'), ObjectId('67016b3f0457ddbb8fc31782'), ObjectId('67016b3f0457ddbb8fc31783'), ObjectId('67016b3f0457ddbb8fc31784'), ObjectId('67016b3f0457ddbb8fc31785'), ObjectId('67016b3f0457ddbb8fc31786'), ObjectId('67016b3f0457ddbb8fc31787'), ObjectId('67016b3f0457ddbb8fc31788'), ObjectId('67016b3f0457ddbb8fc31789'), ObjectId('67016b3f0457ddbb8fc3178a'), ObjectId('67016b3f0457ddbb8fc3178b'), ObjectId('67016b3f0457ddbb8fc3178c'), ObjectId('67016b3f0457ddbb8fc3178d'), ObjectId('67016b3f0457ddbb8fc3178e'), ObjectId('67016b3f0457ddbb8fc3178f'), ObjectId('67016b3f0457ddbb8fc31790'), ObjectId('67016b3f0457ddbb8fc31791'), ObjectId('67016b3f0457ddbb8fc31792'), ObjectId('67016b3f0457ddbb8fc31793'), ObjectId('67016b3f0457ddbb8fc31794'), ObjectId('67016b3f0457ddbb8fc31795'), ObjectId('67016b3f0457ddbb8fc31796'), ObjectId('67016b3f0457ddbb8fc31797'), ObjectId('67016b3f0457ddbb8fc31798'), ObjectId('67016b3f0457ddbb8fc31799'), ObjectId('67016b3f0457ddbb8fc3179a'), ObjectId('67016b3f0457ddbb8fc3179b'), ObjectId('67016b3f0457ddbb8fc3179c'), ObjectId('67016b3f0457ddbb8fc3179d'), ObjectId('67016b3f0457ddbb8fc3179e'), ObjectId('67016b3f0457ddbb8fc3179f'), ObjectId('67016b3f0457ddbb8fc317a0'), ObjectId('67016b3f0457ddbb8fc317a1'), ObjectId('67016b3f0457ddbb8fc317a2'), ObjectId('67016b3f0457ddbb8fc317a3'), ObjectId('67016b3f0457ddbb8fc317a4'), ObjectId('67016b3f0457ddbb8fc317a5'), ObjectId('67016b3f0457ddbb8fc317a6'), ObjectId('67016b3f0457ddbb8fc317a7'), ObjectId('67016b3f0457ddbb8fc317a8'), ObjectId('67016b3f0457ddbb8fc317a9'), ObjectId('67016b3f0457ddbb8fc317aa'), ObjectId('67016b3f0457ddbb8fc317ab'), ObjectId('67016b3f0457ddbb8fc317ac'), ObjectId('67016b3f0457ddbb8fc317ad'), ObjectId('67016b3f0457ddbb8fc317ae'), ObjectId('67016b3f0457ddbb8fc317af'), ObjectId('67016b3f0457ddbb8fc317b0'), ObjectId('67016b3f0457ddbb8fc317b1'), ObjectId('67016b3f0457ddbb8fc317b2'), ObjectId('67016b3f0457ddbb8fc317b3'), ObjectId('67016b3f0457ddbb8fc317b4'), ObjectId('67016b3f0457ddbb8fc317b5'), ObjectId('67016b3f0457ddbb8fc317b6'), ObjectId('67016b3f0457ddbb8fc317b7'), ObjectId('67016b3f0457ddbb8fc317b8'), ObjectId('67016b3f0457ddbb8fc317b9'), ObjectId('67016b3f0457ddbb8fc317ba'), ObjectId('67016b3f0457ddbb8fc317bb'), ObjectId('67016b3f0457ddbb8fc317bc'), ObjectId('67016b3f0457ddbb8fc317bd'), ObjectId('67016b3f0457ddbb8fc317be'), ObjectId('67016b3f0457ddbb8fc317bf'), ObjectId('67016b3f0457ddbb8fc317c0'), ObjectId('67016b3f0457ddbb8fc317c1'), ObjectId('67016b3f0457ddbb8fc317c2'), ObjectId('67016b3f0457ddbb8fc317c3'), ObjectId('67016b3f0457ddbb8fc317c4'), ObjectId('67016b3f0457ddbb8fc317c5'), ObjectId('67016b3f0457ddbb8fc317c6'), ObjectId('67016b3f0457ddbb8fc317c7'), ObjectId('67016b3f0457ddbb8fc317c8'), ObjectId('67016b3f0457ddbb8fc317c9'), ObjectId('67016b3f0457ddbb8fc317ca'), ObjectId('67016b3f0457ddbb8fc317cb'), ObjectId('67016b3f0457ddbb8fc317cc'), ObjectId('67016b3f0457ddbb8fc317cd'), ObjectId('67016b3f0457ddbb8fc317ce'), ObjectId('67016b3f0457ddbb8fc317cf'), ObjectId('67016b3f0457ddbb8fc317d0'), ObjectId('67016b3f0457ddbb8fc317d1'), ObjectId('67016b3f0457ddbb8fc317d2'), ObjectId('67016b3f0457ddbb8fc317d3'), ObjectId('67016b3f0457ddbb8fc317d4'), ObjectId('67016b3f0457ddbb8fc317d5'), ObjectId('67016b3f0457ddbb8fc317d6'), ObjectId('67016b3f0457ddbb8fc317d7'), ObjectId('67016b3f0457ddbb8fc317d8'), ObjectId('67016b3f0457ddbb8fc317d9'), ObjectId('67016b3f0457ddbb8fc317da'), ObjectId('67016b3f0457ddbb8fc317db'), ObjectId('67016b3f0457ddbb8fc317dc'), ObjectId('67016b3f0457ddbb8fc317dd'), ObjectId('67016b3f0457ddbb8fc317de'), ObjectId('67016b3f0457ddbb8fc317df'), ObjectId('67016b3f0457ddbb8fc317e0'), ObjectId('67016b3f0457ddbb8fc317e1'), ObjectId('67016b3f0457ddbb8fc317e2'), ObjectId('67016b3f0457ddbb8fc317e3'), ObjectId('67016b3f0457ddbb8fc317e4'), ObjectId('67016b3f0457ddbb8fc317e5'), ObjectId('67016b3f0457ddbb8fc317e6'), ObjectId('67016b3f0457ddbb8fc317e7'), ObjectId('67016b3f0457ddbb8fc317e8'), ObjectId('67016b3f0457ddbb8fc317e9'), ObjectId('67016b3f0457ddbb8fc317ea'), ObjectId('67016b3f0457ddbb8fc317eb'), ObjectId('67016b3f0457ddbb8fc317ec'), ObjectId('67016b3f0457ddbb8fc317ed'), ObjectId('67016b3f0457ddbb8fc317ee'), ObjectId('67016b3f0457ddbb8fc317ef'), ObjectId('67016b3f0457ddbb8fc317f0'), ObjectId('67016b3f0457ddbb8fc317f1'), ObjectId('67016b3f0457ddbb8fc317f2'), ObjectId('67016b3f0457ddbb8fc317f3'), ObjectId('67016b3f0457ddbb8fc317f4'), ObjectId('67016b3f0457ddbb8fc317f5'), ObjectId('67016b3f0457ddbb8fc317f6'), ObjectId('67016b3f0457ddbb8fc317f7'), ObjectId('67016b3f0457ddbb8fc317f8'), ObjectId('67016b3f0457ddbb8fc317f9'), ObjectId('67016b3f0457ddbb8fc317fa'), ObjectId('67016b3f0457ddbb8fc317fb'), ObjectId('67016b3f0457ddbb8fc317fc'), ObjectId('67016b3f0457ddbb8fc317fd'), ObjectId('67016b3f0457ddbb8fc317fe'), ObjectId('67016b3f0457ddbb8fc317ff'), ObjectId('67016b3f0457ddbb8fc31800'), ObjectId('67016b3f0457ddbb8fc31801'), ObjectId('67016b3f0457ddbb8fc31802'), ObjectId('67016b3f0457ddbb8fc31803'), ObjectId('67016b3f0457ddbb8fc31804'), ObjectId('67016b3f0457ddbb8fc31805'), ObjectId('67016b3f0457ddbb8fc31806'), ObjectId('67016b3f0457ddbb8fc31807'), ObjectId('67016b3f0457ddbb8fc31808'), ObjectId('67016b3f0457ddbb8fc31809'), ObjectId('67016b3f0457ddbb8fc3180a'), ObjectId('67016b3f0457ddbb8fc3180b'), ObjectId('67016b3f0457ddbb8fc3180c'), ObjectId('67016b3f0457ddbb8fc3180d'), ObjectId('67016b3f0457ddbb8fc3180e'), ObjectId('67016b3f0457ddbb8fc3180f'), ObjectId('67016b3f0457ddbb8fc31810'), ObjectId('67016b3f0457ddbb8fc31811'), ObjectId('67016b3f0457ddbb8fc31812'), ObjectId('67016b3f0457ddbb8fc31813'), ObjectId('67016b3f0457ddbb8fc31814'), ObjectId('67016b3f0457ddbb8fc31815'), ObjectId('67016b3f0457ddbb8fc31816'), ObjectId('67016b3f0457ddbb8fc31817'), ObjectId('67016b3f0457ddbb8fc31818'), ObjectId('67016b3f0457ddbb8fc31819'), ObjectId('67016b3f0457ddbb8fc3181a'), ObjectId('67016b3f0457ddbb8fc3181b'), ObjectId('67016b3f0457ddbb8fc3181c'), ObjectId('67016b3f0457ddbb8fc3181d'), ObjectId('67016b3f0457ddbb8fc3181e'), ObjectId('67016b3f0457ddbb8fc3181f'), ObjectId('67016b3f0457ddbb8fc31820'), ObjectId('67016b3f0457ddbb8fc31821'), ObjectId('67016b3f0457ddbb8fc31822'), ObjectId('67016b3f0457ddbb8fc31823'), ObjectId('67016b3f0457ddbb8fc31824'), ObjectId('67016b3f0457ddbb8fc31825'), ObjectId('67016b3f0457ddbb8fc31826'), ObjectId('67016b3f0457ddbb8fc31827'), ObjectId('67016b3f0457ddbb8fc31828'), ObjectId('67016b3f0457ddbb8fc31829'), ObjectId('67016b3f0457ddbb8fc3182a'), ObjectId('67016b3f0457ddbb8fc3182b'), ObjectId('67016b3f0457ddbb8fc3182c'), ObjectId('67016b3f0457ddbb8fc3182d'), ObjectId('67016b3f0457ddbb8fc3182e'), ObjectId('67016b3f0457ddbb8fc3182f'), ObjectId('67016b3f0457ddbb8fc31830'), ObjectId('67016b3f0457ddbb8fc31831'), ObjectId('67016b3f0457ddbb8fc31832'), ObjectId('67016b3f0457ddbb8fc31833'), ObjectId('67016b3f0457ddbb8fc31834'), ObjectId('67016b3f0457ddbb8fc31835'), ObjectId('67016b3f0457ddbb8fc31836'), ObjectId('67016b3f0457ddbb8fc31837'), ObjectId('67016b3f0457ddbb8fc31838'), ObjectId('67016b3f0457ddbb8fc31839'), ObjectId('67016b3f0457ddbb8fc3183a'), ObjectId('67016b3f0457ddbb8fc3183b'), ObjectId('67016b3f0457ddbb8fc3183c'), ObjectId('67016b3f0457ddbb8fc3183d'), ObjectId('67016b3f0457ddbb8fc3183e'), ObjectId('67016b3f0457ddbb8fc3183f'), ObjectId('67016b3f0457ddbb8fc31840'), ObjectId('67016b3f0457ddbb8fc31841'), ObjectId('67016b3f0457ddbb8fc31842'), ObjectId('67016b3f0457ddbb8fc31843'), ObjectId('67016b3f0457ddbb8fc31844'), ObjectId('67016b3f0457ddbb8fc31845'), ObjectId('67016b3f0457ddbb8fc31846'), ObjectId('67016b3f0457ddbb8fc31847'), ObjectId('67016b3f0457ddbb8fc31848'), ObjectId('67016b3f0457ddbb8fc31849'), ObjectId('67016b3f0457ddbb8fc3184a'), ObjectId('67016b3f0457ddbb8fc3184b'), ObjectId('67016b3f0457ddbb8fc3184c'), ObjectId('67016b3f0457ddbb8fc3184d'), ObjectId('67016b3f0457ddbb8fc3184e'), ObjectId('67016b3f0457ddbb8fc3184f'), ObjectId('67016b3f0457ddbb8fc31850'), ObjectId('67016b3f0457ddbb8fc31851'), ObjectId('67016b3f0457ddbb8fc31852'), ObjectId('67016b3f0457ddbb8fc31853'), ObjectId('67016b3f0457ddbb8fc31854'), ObjectId('67016b3f0457ddbb8fc31855'), ObjectId('67016b3f0457ddbb8fc31856'), ObjectId('67016b3f0457ddbb8fc31857'), ObjectId('67016b3f0457ddbb8fc31858'), ObjectId('67016b3f0457ddbb8fc31859'), ObjectId('67016b3f0457ddbb8fc3185a'), ObjectId('67016b3f0457ddbb8fc3185b'), ObjectId('67016b3f0457ddbb8fc3185c'), ObjectId('67016b3f0457ddbb8fc3185d'), ObjectId('67016b3f0457ddbb8fc3185e'), ObjectId('67016b3f0457ddbb8fc3185f'), ObjectId('67016b3f0457ddbb8fc31860'), ObjectId('67016b3f0457ddbb8fc31861'), ObjectId('67016b3f0457ddbb8fc31862'), ObjectId('67016b3f0457ddbb8fc31863'), ObjectId('67016b3f0457ddbb8fc31864'), ObjectId('67016b3f0457ddbb8fc31865'), ObjectId('67016b3f0457ddbb8fc31866'), ObjectId('67016b3f0457ddbb8fc31867'), ObjectId('67016b3f0457ddbb8fc31868'), ObjectId('67016b3f0457ddbb8fc31869'), ObjectId('67016b3f0457ddbb8fc3186a'), ObjectId('67016b3f0457ddbb8fc3186b'), ObjectId('67016b3f0457ddbb8fc3186c'), ObjectId('67016b3f0457ddbb8fc3186d'), ObjectId('67016b3f0457ddbb8fc3186e'), ObjectId('67016b3f0457ddbb8fc3186f'), ObjectId('67016b3f0457ddbb8fc31870'), ObjectId('67016b3f0457ddbb8fc31871'), ObjectId('67016b3f0457ddbb8fc31872'), ObjectId('67016b3f0457ddbb8fc31873'), ObjectId('67016b3f0457ddbb8fc31874'), ObjectId('67016b3f0457ddbb8fc31875'), ObjectId('67016b3f0457ddbb8fc31876'), ObjectId('67016b3f0457ddbb8fc31877'), ObjectId('67016b3f0457ddbb8fc31878'), ObjectId('67016b3f0457ddbb8fc31879'), ObjectId('67016b3f0457ddbb8fc3187a'), ObjectId('67016b3f0457ddbb8fc3187b'), ObjectId('67016b3f0457ddbb8fc3187c'), ObjectId('67016b3f0457ddbb8fc3187d'), ObjectId('67016b3f0457ddbb8fc3187e'), ObjectId('67016b3f0457ddbb8fc3187f'), ObjectId('67016b3f0457ddbb8fc31880'), ObjectId('67016b3f0457ddbb8fc31881'), ObjectId('67016b3f0457ddbb8fc31882'), ObjectId('67016b3f0457ddbb8fc31883'), ObjectId('67016b3f0457ddbb8fc31884'), ObjectId('67016b3f0457ddbb8fc31885'), ObjectId('67016b3f0457ddbb8fc31886'), ObjectId('67016b3f0457ddbb8fc31887'), ObjectId('67016b3f0457ddbb8fc31888'), ObjectId('67016b3f0457ddbb8fc31889'), ObjectId('67016b3f0457ddbb8fc3188a'), ObjectId('67016b3f0457ddbb8fc3188b'), ObjectId('67016b3f0457ddbb8fc3188c'), ObjectId('67016b3f0457ddbb8fc3188d'), ObjectId('67016b3f0457ddbb8fc3188e'), ObjectId('67016b3f0457ddbb8fc3188f'), ObjectId('67016b3f0457ddbb8fc31890'), ObjectId('67016b3f0457ddbb8fc31891'), ObjectId('67016b3f0457ddbb8fc31892'), ObjectId('67016b3f0457ddbb8fc31893'), ObjectId('67016b3f0457ddbb8fc31894'), ObjectId('67016b3f0457ddbb8fc31895'), ObjectId('67016b3f0457ddbb8fc31896'), ObjectId('67016b3f0457ddbb8fc31897'), ObjectId('67016b3f0457ddbb8fc31898'), ObjectId('67016b3f0457ddbb8fc31899'), ObjectId('67016b3f0457ddbb8fc3189a'), ObjectId('67016b3f0457ddbb8fc3189b'), ObjectId('67016b3f0457ddbb8fc3189c'), ObjectId('67016b3f0457ddbb8fc3189d'), ObjectId('67016b3f0457ddbb8fc3189e'), ObjectId('67016b3f0457ddbb8fc3189f'), ObjectId('67016b3f0457ddbb8fc318a0'), ObjectId('67016b3f0457ddbb8fc318a1'), ObjectId('67016b3f0457ddbb8fc318a2'), ObjectId('67016b3f0457ddbb8fc318a3'), ObjectId('67016b3f0457ddbb8fc318a4'), ObjectId('67016b3f0457ddbb8fc318a5'), ObjectId('67016b3f0457ddbb8fc318a6'), ObjectId('67016b3f0457ddbb8fc318a7'), ObjectId('67016b3f0457ddbb8fc318a8'), ObjectId('67016b3f0457ddbb8fc318a9'), ObjectId('67016b3f0457ddbb8fc318aa'), ObjectId('67016b3f0457ddbb8fc318ab'), ObjectId('67016b3f0457ddbb8fc318ac'), ObjectId('67016b3f0457ddbb8fc318ad'), ObjectId('67016b3f0457ddbb8fc318ae'), ObjectId('67016b3f0457ddbb8fc318af'), ObjectId('67016b3f0457ddbb8fc318b0'), ObjectId('67016b3f0457ddbb8fc318b1'), ObjectId('67016b3f0457ddbb8fc318b2'), ObjectId('67016b3f0457ddbb8fc318b3'), ObjectId('67016b3f0457ddbb8fc318b4'), ObjectId('67016b3f0457ddbb8fc318b5'), ObjectId('67016b3f0457ddbb8fc318b6'), ObjectId('67016b3f0457ddbb8fc318b7'), ObjectId('67016b3f0457ddbb8fc318b8'), ObjectId('67016b3f0457ddbb8fc318b9'), ObjectId('67016b3f0457ddbb8fc318ba'), ObjectId('67016b3f0457ddbb8fc318bb'), ObjectId('67016b3f0457ddbb8fc318bc'), ObjectId('67016b3f0457ddbb8fc318bd'), ObjectId('67016b3f0457ddbb8fc318be'), ObjectId('67016b3f0457ddbb8fc318bf'), ObjectId('67016b3f0457ddbb8fc318c0'), ObjectId('67016b3f0457ddbb8fc318c1'), ObjectId('67016b3f0457ddbb8fc318c2'), ObjectId('67016b3f0457ddbb8fc318c3'), ObjectId('67016b3f0457ddbb8fc318c4'), ObjectId('67016b3f0457ddbb8fc318c5'), ObjectId('67016b3f0457ddbb8fc318c6'), ObjectId('67016b3f0457ddbb8fc318c7'), ObjectId('67016b3f0457ddbb8fc318c8'), ObjectId('67016b3f0457ddbb8fc318c9'), ObjectId('67016b3f0457ddbb8fc318ca'), ObjectId('67016b3f0457ddbb8fc318cb'), ObjectId('67016b3f0457ddbb8fc318cc'), ObjectId('67016b3f0457ddbb8fc318cd'), ObjectId('67016b3f0457ddbb8fc318ce'), ObjectId('67016b3f0457ddbb8fc318cf'), ObjectId('67016b3f0457ddbb8fc318d0'), ObjectId('67016b3f0457ddbb8fc318d1'), ObjectId('67016b3f0457ddbb8fc318d2'), ObjectId('67016b3f0457ddbb8fc318d3'), ObjectId('67016b3f0457ddbb8fc318d4'), ObjectId('67016b3f0457ddbb8fc318d5'), ObjectId('67016b3f0457ddbb8fc318d6'), ObjectId('67016b3f0457ddbb8fc318d7'), ObjectId('67016b3f0457ddbb8fc318d8'), ObjectId('67016b3f0457ddbb8fc318d9'), ObjectId('67016b3f0457ddbb8fc318da'), ObjectId('67016b3f0457ddbb8fc318db'), ObjectId('67016b3f0457ddbb8fc318dc'), ObjectId('67016b3f0457ddbb8fc318dd'), ObjectId('67016b3f0457ddbb8fc318de'), ObjectId('67016b3f0457ddbb8fc318df'), ObjectId('67016b3f0457ddbb8fc318e0'), ObjectId('67016b3f0457ddbb8fc318e1'), ObjectId('67016b3f0457ddbb8fc318e2'), ObjectId('67016b3f0457ddbb8fc318e3'), ObjectId('67016b3f0457ddbb8fc318e4'), ObjectId('67016b3f0457ddbb8fc318e5'), ObjectId('67016b3f0457ddbb8fc318e6'), ObjectId('67016b3f0457ddbb8fc318e7'), ObjectId('67016b3f0457ddbb8fc318e8'), ObjectId('67016b3f0457ddbb8fc318e9'), ObjectId('67016b3f0457ddbb8fc318ea'), ObjectId('67016b3f0457ddbb8fc318eb'), ObjectId('67016b3f0457ddbb8fc318ec'), ObjectId('67016b3f0457ddbb8fc318ed'), ObjectId('67016b3f0457ddbb8fc318ee'), ObjectId('67016b3f0457ddbb8fc318ef'), ObjectId('67016b3f0457ddbb8fc318f0'), ObjectId('67016b3f0457ddbb8fc318f1'), ObjectId('67016b3f0457ddbb8fc318f2'), ObjectId('67016b3f0457ddbb8fc318f3'), ObjectId('67016b3f0457ddbb8fc318f4'), ObjectId('67016b3f0457ddbb8fc318f5'), ObjectId('67016b3f0457ddbb8fc318f6'), ObjectId('67016b3f0457ddbb8fc318f7'), ObjectId('67016b3f0457ddbb8fc318f8'), ObjectId('67016b3f0457ddbb8fc318f9'), ObjectId('67016b3f0457ddbb8fc318fa'), ObjectId('67016b3f0457ddbb8fc318fb'), ObjectId('67016b3f0457ddbb8fc318fc'), ObjectId('67016b3f0457ddbb8fc318fd'), ObjectId('67016b3f0457ddbb8fc318fe'), ObjectId('67016b3f0457ddbb8fc318ff'), ObjectId('67016b3f0457ddbb8fc31900'), ObjectId('67016b3f0457ddbb8fc31901'), ObjectId('67016b3f0457ddbb8fc31902'), ObjectId('67016b3f0457ddbb8fc31903'), ObjectId('67016b3f0457ddbb8fc31904'), ObjectId('67016b3f0457ddbb8fc31905'), ObjectId('67016b3f0457ddbb8fc31906'), ObjectId('67016b3f0457ddbb8fc31907'), ObjectId('67016b3f0457ddbb8fc31908'), ObjectId('67016b3f0457ddbb8fc31909'), ObjectId('67016b3f0457ddbb8fc3190a'), ObjectId('67016b3f0457ddbb8fc3190b'), ObjectId('67016b3f0457ddbb8fc3190c'), ObjectId('67016b3f0457ddbb8fc3190d'), ObjectId('67016b3f0457ddbb8fc3190e'), ObjectId('67016b3f0457ddbb8fc3190f'), ObjectId('67016b3f0457ddbb8fc31910'), ObjectId('67016b3f0457ddbb8fc31911'), ObjectId('67016b3f0457ddbb8fc31912'), ObjectId('67016b3f0457ddbb8fc31913'), ObjectId('67016b3f0457ddbb8fc31914'), ObjectId('67016b3f0457ddbb8fc31915'), ObjectId('67016b3f0457ddbb8fc31916'), ObjectId('67016b3f0457ddbb8fc31917'), ObjectId('67016b3f0457ddbb8fc31918'), ObjectId('67016b3f0457ddbb8fc31919'), ObjectId('67016b3f0457ddbb8fc3191a'), ObjectId('67016b3f0457ddbb8fc3191b'), ObjectId('67016b3f0457ddbb8fc3191c'), ObjectId('67016b3f0457ddbb8fc3191d'), ObjectId('67016b3f0457ddbb8fc3191e'), ObjectId('67016b3f0457ddbb8fc3191f'), ObjectId('67016b3f0457ddbb8fc31920'), ObjectId('67016b3f0457ddbb8fc31921'), ObjectId('67016b3f0457ddbb8fc31922'), ObjectId('67016b3f0457ddbb8fc31923'), ObjectId('67016b3f0457ddbb8fc31924'), ObjectId('67016b3f0457ddbb8fc31925'), ObjectId('67016b3f0457ddbb8fc31926'), ObjectId('67016b3f0457ddbb8fc31927'), ObjectId('67016b3f0457ddbb8fc31928'), ObjectId('67016b3f0457ddbb8fc31929'), ObjectId('67016b3f0457ddbb8fc3192a'), ObjectId('67016b3f0457ddbb8fc3192b'), ObjectId('67016b3f0457ddbb8fc3192c'), ObjectId('67016b3f0457ddbb8fc3192d'), ObjectId('67016b3f0457ddbb8fc3192e'), ObjectId('67016b3f0457ddbb8fc3192f'), ObjectId('67016b3f0457ddbb8fc31930'), ObjectId('67016b3f0457ddbb8fc31931'), ObjectId('67016b3f0457ddbb8fc31932'), ObjectId('67016b3f0457ddbb8fc31933'), ObjectId('67016b3f0457ddbb8fc31934'), ObjectId('67016b3f0457ddbb8fc31935'), ObjectId('67016b3f0457ddbb8fc31936'), ObjectId('67016b3f0457ddbb8fc31937'), ObjectId('67016b3f0457ddbb8fc31938'), ObjectId('67016b3f0457ddbb8fc31939'), ObjectId('67016b3f0457ddbb8fc3193a'), ObjectId('67016b3f0457ddbb8fc3193b'), ObjectId('67016b3f0457ddbb8fc3193c'), ObjectId('67016b3f0457ddbb8fc3193d'), ObjectId('67016b3f0457ddbb8fc3193e'), ObjectId('67016b3f0457ddbb8fc3193f'), ObjectId('67016b3f0457ddbb8fc31940'), ObjectId('67016b3f0457ddbb8fc31941'), ObjectId('67016b3f0457ddbb8fc31942'), ObjectId('67016b3f0457ddbb8fc31943'), ObjectId('67016b3f0457ddbb8fc31944'), ObjectId('67016b3f0457ddbb8fc31945'), ObjectId('67016b3f0457ddbb8fc31946'), ObjectId('67016b3f0457ddbb8fc31947'), ObjectId('67016b3f0457ddbb8fc31948'), ObjectId('67016b3f0457ddbb8fc31949'), ObjectId('67016b3f0457ddbb8fc3194a'), ObjectId('67016b3f0457ddbb8fc3194b'), ObjectId('67016b3f0457ddbb8fc3194c'), ObjectId('67016b3f0457ddbb8fc3194d'), ObjectId('67016b3f0457ddbb8fc3194e'), ObjectId('67016b3f0457ddbb8fc3194f'), ObjectId('67016b3f0457ddbb8fc31950'), ObjectId('67016b3f0457ddbb8fc31951'), ObjectId('67016b3f0457ddbb8fc31952'), ObjectId('67016b3f0457ddbb8fc31953'), ObjectId('67016b3f0457ddbb8fc31954'), ObjectId('67016b3f0457ddbb8fc31955'), ObjectId('67016b3f0457ddbb8fc31956'), ObjectId('67016b3f0457ddbb8fc31957'), ObjectId('67016b3f0457ddbb8fc31958'), ObjectId('67016b3f0457ddbb8fc31959'), ObjectId('67016b3f0457ddbb8fc3195a'), ObjectId('67016b3f0457ddbb8fc3195b'), ObjectId('67016b3f0457ddbb8fc3195c'), ObjectId('67016b3f0457ddbb8fc3195d'), ObjectId('67016b3f0457ddbb8fc3195e'), ObjectId('67016b3f0457ddbb8fc3195f'), ObjectId('67016b3f0457ddbb8fc31960'), ObjectId('67016b3f0457ddbb8fc31961'), ObjectId('67016b3f0457ddbb8fc31962'), ObjectId('67016b3f0457ddbb8fc31963'), ObjectId('67016b3f0457ddbb8fc31964'), ObjectId('67016b3f0457ddbb8fc31965'), ObjectId('67016b3f0457ddbb8fc31966'), ObjectId('67016b3f0457ddbb8fc31967'), ObjectId('67016b3f0457ddbb8fc31968'), ObjectId('67016b3f0457ddbb8fc31969'), ObjectId('67016b3f0457ddbb8fc3196a'), ObjectId('67016b3f0457ddbb8fc3196b'), ObjectId('67016b3f0457ddbb8fc3196c'), ObjectId('67016b3f0457ddbb8fc3196d'), ObjectId('67016b3f0457ddbb8fc3196e'), ObjectId('67016b3f0457ddbb8fc3196f'), ObjectId('67016b3f0457ddbb8fc31970'), ObjectId('67016b3f0457ddbb8fc31971'), ObjectId('67016b3f0457ddbb8fc31972'), ObjectId('67016b3f0457ddbb8fc31973'), ObjectId('67016b3f0457ddbb8fc31974'), ObjectId('67016b3f0457ddbb8fc31975'), ObjectId('67016b3f0457ddbb8fc31976'), ObjectId('67016b3f0457ddbb8fc31977'), ObjectId('67016b3f0457ddbb8fc31978'), ObjectId('67016b3f0457ddbb8fc31979'), ObjectId('67016b3f0457ddbb8fc3197a'), ObjectId('67016b3f0457ddbb8fc3197b'), ObjectId('67016b3f0457ddbb8fc3197c'), ObjectId('67016b3f0457ddbb8fc3197d'), ObjectId('67016b3f0457ddbb8fc3197e'), ObjectId('67016b3f0457ddbb8fc3197f'), ObjectId('67016b3f0457ddbb8fc31980'), ObjectId('67016b3f0457ddbb8fc31981'), ObjectId('67016b3f0457ddbb8fc31982'), ObjectId('67016b3f0457ddbb8fc31983'), ObjectId('67016b3f0457ddbb8fc31984'), ObjectId('67016b3f0457ddbb8fc31985'), ObjectId('67016b3f0457ddbb8fc31986'), ObjectId('67016b3f0457ddbb8fc31987'), ObjectId('67016b3f0457ddbb8fc31988'), ObjectId('67016b3f0457ddbb8fc31989'), ObjectId('67016b3f0457ddbb8fc3198a'), ObjectId('67016b3f0457ddbb8fc3198b'), ObjectId('67016b3f0457ddbb8fc3198c'), ObjectId('67016b3f0457ddbb8fc3198d'), ObjectId('67016b3f0457ddbb8fc3198e'), ObjectId('67016b3f0457ddbb8fc3198f'), ObjectId('67016b3f0457ddbb8fc31990'), ObjectId('67016b3f0457ddbb8fc31991'), ObjectId('67016b3f0457ddbb8fc31992'), ObjectId('67016b3f0457ddbb8fc31993'), ObjectId('67016b3f0457ddbb8fc31994'), ObjectId('67016b3f0457ddbb8fc31995'), ObjectId('67016b3f0457ddbb8fc31996'), ObjectId('67016b3f0457ddbb8fc31997'), ObjectId('67016b3f0457ddbb8fc31998'), ObjectId('67016b3f0457ddbb8fc31999'), ObjectId('67016b3f0457ddbb8fc3199a'), ObjectId('67016b3f0457ddbb8fc3199b'), ObjectId('67016b3f0457ddbb8fc3199c'), ObjectId('67016b3f0457ddbb8fc3199d'), ObjectId('67016b3f0457ddbb8fc3199e'), ObjectId('67016b3f0457ddbb8fc3199f'), ObjectId('67016b3f0457ddbb8fc319a0'), ObjectId('67016b3f0457ddbb8fc319a1'), ObjectId('67016b3f0457ddbb8fc319a2'), ObjectId('67016b3f0457ddbb8fc319a3'), ObjectId('67016b3f0457ddbb8fc319a4'), ObjectId('67016b3f0457ddbb8fc319a5'), ObjectId('67016b3f0457ddbb8fc319a6'), ObjectId('67016b3f0457ddbb8fc319a7'), ObjectId('67016b3f0457ddbb8fc319a8'), ObjectId('67016b3f0457ddbb8fc319a9'), ObjectId('67016b3f0457ddbb8fc319aa'), ObjectId('67016b3f0457ddbb8fc319ab'), ObjectId('67016b3f0457ddbb8fc319ac'), ObjectId('67016b3f0457ddbb8fc319ad'), ObjectId('67016b3f0457ddbb8fc319ae'), ObjectId('67016b3f0457ddbb8fc319af'), ObjectId('67016b3f0457ddbb8fc319b0'), ObjectId('67016b3f0457ddbb8fc319b1'), ObjectId('67016b3f0457ddbb8fc319b2'), ObjectId('67016b3f0457ddbb8fc319b3'), ObjectId('67016b3f0457ddbb8fc319b4'), ObjectId('67016b3f0457ddbb8fc319b5'), ObjectId('67016b3f0457ddbb8fc319b6'), ObjectId('67016b3f0457ddbb8fc319b7'), ObjectId('67016b3f0457ddbb8fc319b8'), ObjectId('67016b3f0457ddbb8fc319b9'), ObjectId('67016b3f0457ddbb8fc319ba'), ObjectId('67016b3f0457ddbb8fc319bb'), ObjectId('67016b3f0457ddbb8fc319bc'), ObjectId('67016b3f0457ddbb8fc319bd'), ObjectId('67016b3f0457ddbb8fc319be'), ObjectId('67016b3f0457ddbb8fc319bf'), ObjectId('67016b3f0457ddbb8fc319c0'), ObjectId('67016b3f0457ddbb8fc319c1'), ObjectId('67016b3f0457ddbb8fc319c2'), ObjectId('67016b3f0457ddbb8fc319c3'), ObjectId('67016b3f0457ddbb8fc319c4'), ObjectId('67016b3f0457ddbb8fc319c5'), ObjectId('67016b3f0457ddbb8fc319c6'), ObjectId('67016b3f0457ddbb8fc319c7'), ObjectId('67016b3f0457ddbb8fc319c8'), ObjectId('67016b3f0457ddbb8fc319c9'), ObjectId('67016b3f0457ddbb8fc319ca'), ObjectId('67016b3f0457ddbb8fc319cb'), ObjectId('67016b3f0457ddbb8fc319cc'), ObjectId('67016b3f0457ddbb8fc319cd'), ObjectId('67016b3f0457ddbb8fc319ce'), ObjectId('67016b3f0457ddbb8fc319cf'), ObjectId('67016b3f0457ddbb8fc319d0'), ObjectId('67016b3f0457ddbb8fc319d1'), ObjectId('67016b3f0457ddbb8fc319d2'), ObjectId('67016b3f0457ddbb8fc319d3'), ObjectId('67016b3f0457ddbb8fc319d4'), ObjectId('67016b3f0457ddbb8fc319d5'), ObjectId('67016b3f0457ddbb8fc319d6'), ObjectId('67016b3f0457ddbb8fc319d7'), ObjectId('67016b3f0457ddbb8fc319d8'), ObjectId('67016b3f0457ddbb8fc319d9'), ObjectId('67016b3f0457ddbb8fc319da'), ObjectId('67016b3f0457ddbb8fc319db'), ObjectId('67016b3f0457ddbb8fc319dc'), ObjectId('67016b3f0457ddbb8fc319dd'), ObjectId('67016b3f0457ddbb8fc319de'), ObjectId('67016b3f0457ddbb8fc319df'), ObjectId('67016b3f0457ddbb8fc319e0'), ObjectId('67016b3f0457ddbb8fc319e1'), ObjectId('67016b3f0457ddbb8fc319e2'), ObjectId('67016b3f0457ddbb8fc319e3'), ObjectId('67016b3f0457ddbb8fc319e4'), ObjectId('67016b3f0457ddbb8fc319e5'), ObjectId('67016b3f0457ddbb8fc319e6'), ObjectId('67016b3f0457ddbb8fc319e7'), ObjectId('67016b3f0457ddbb8fc319e8'), ObjectId('67016b3f0457ddbb8fc319e9'), ObjectId('67016b3f0457ddbb8fc319ea'), ObjectId('67016b3f0457ddbb8fc319eb'), ObjectId('67016b3f0457ddbb8fc319ec'), ObjectId('67016b3f0457ddbb8fc319ed'), ObjectId('67016b3f0457ddbb8fc319ee'), ObjectId('67016b3f0457ddbb8fc319ef'), ObjectId('67016b3f0457ddbb8fc319f0'), ObjectId('67016b3f0457ddbb8fc319f1'), ObjectId('67016b3f0457ddbb8fc319f2'), ObjectId('67016b3f0457ddbb8fc319f3'), ObjectId('67016b3f0457ddbb8fc319f4'), ObjectId('67016b3f0457ddbb8fc319f5'), ObjectId('67016b3f0457ddbb8fc319f6'), ObjectId('67016b3f0457ddbb8fc319f7'), ObjectId('67016b3f0457ddbb8fc319f8'), ObjectId('67016b3f0457ddbb8fc319f9'), ObjectId('67016b3f0457ddbb8fc319fa'), ObjectId('67016b3f0457ddbb8fc319fb'), ObjectId('67016b3f0457ddbb8fc319fc'), ObjectId('67016b3f0457ddbb8fc319fd'), ObjectId('67016b3f0457ddbb8fc319fe'), ObjectId('67016b3f0457ddbb8fc319ff'), ObjectId('67016b3f0457ddbb8fc31a00'), ObjectId('67016b3f0457ddbb8fc31a01'), ObjectId('67016b3f0457ddbb8fc31a02'), ObjectId('67016b3f0457ddbb8fc31a03'), ObjectId('67016b3f0457ddbb8fc31a04'), ObjectId('67016b3f0457ddbb8fc31a05'), ObjectId('67016b3f0457ddbb8fc31a06'), ObjectId('67016b3f0457ddbb8fc31a07'), ObjectId('67016b3f0457ddbb8fc31a08'), ObjectId('67016b3f0457ddbb8fc31a09'), ObjectId('67016b3f0457ddbb8fc31a0a'), ObjectId('67016b3f0457ddbb8fc31a0b'), ObjectId('67016b3f0457ddbb8fc31a0c'), ObjectId('67016b3f0457ddbb8fc31a0d'), ObjectId('67016b3f0457ddbb8fc31a0e'), ObjectId('67016b3f0457ddbb8fc31a0f'), ObjectId('67016b3f0457ddbb8fc31a10'), ObjectId('67016b3f0457ddbb8fc31a11'), ObjectId('67016b3f0457ddbb8fc31a12'), ObjectId('67016b3f0457ddbb8fc31a13'), ObjectId('67016b3f0457ddbb8fc31a14'), ObjectId('67016b3f0457ddbb8fc31a15'), ObjectId('67016b3f0457ddbb8fc31a16'), ObjectId('67016b3f0457ddbb8fc31a17'), ObjectId('67016b3f0457ddbb8fc31a18'), ObjectId('67016b3f0457ddbb8fc31a19'), ObjectId('67016b3f0457ddbb8fc31a1a'), ObjectId('67016b3f0457ddbb8fc31a1b'), ObjectId('67016b3f0457ddbb8fc31a1c'), ObjectId('67016b3f0457ddbb8fc31a1d'), ObjectId('67016b3f0457ddbb8fc31a1e'), ObjectId('67016b3f0457ddbb8fc31a1f'), ObjectId('67016b3f0457ddbb8fc31a20'), ObjectId('67016b3f0457ddbb8fc31a21'), ObjectId('67016b3f0457ddbb8fc31a22'), ObjectId('67016b3f0457ddbb8fc31a23'), ObjectId('67016b3f0457ddbb8fc31a24'), ObjectId('67016b3f0457ddbb8fc31a25'), ObjectId('67016b3f0457ddbb8fc31a26'), ObjectId('67016b3f0457ddbb8fc31a27'), ObjectId('67016b3f0457ddbb8fc31a28'), ObjectId('67016b3f0457ddbb8fc31a29'), ObjectId('67016b3f0457ddbb8fc31a2a'), ObjectId('67016b3f0457ddbb8fc31a2b'), ObjectId('67016b3f0457ddbb8fc31a2c'), ObjectId('67016b3f0457ddbb8fc31a2d'), ObjectId('67016b3f0457ddbb8fc31a2e'), ObjectId('67016b3f0457ddbb8fc31a2f'), ObjectId('67016b3f0457ddbb8fc31a30'), ObjectId('67016b3f0457ddbb8fc31a31'), ObjectId('67016b3f0457ddbb8fc31a32'), ObjectId('67016b3f0457ddbb8fc31a33'), ObjectId('67016b3f0457ddbb8fc31a34'), ObjectId('67016b3f0457ddbb8fc31a35'), ObjectId('67016b3f0457ddbb8fc31a36'), ObjectId('67016b3f0457ddbb8fc31a37'), ObjectId('67016b3f0457ddbb8fc31a38'), ObjectId('67016b3f0457ddbb8fc31a39'), ObjectId('67016b3f0457ddbb8fc31a3a'), ObjectId('67016b3f0457ddbb8fc31a3b'), ObjectId('67016b3f0457ddbb8fc31a3c'), ObjectId('67016b3f0457ddbb8fc31a3d'), ObjectId('67016b3f0457ddbb8fc31a3e'), ObjectId('67016b3f0457ddbb8fc31a3f'), ObjectId('67016b3f0457ddbb8fc31a40'), ObjectId('67016b3f0457ddbb8fc31a41'), ObjectId('67016b3f0457ddbb8fc31a42'), ObjectId('67016b3f0457ddbb8fc31a43'), ObjectId('67016b3f0457ddbb8fc31a44'), ObjectId('67016b3f0457ddbb8fc31a45'), ObjectId('67016b3f0457ddbb8fc31a46'), ObjectId('67016b3f0457ddbb8fc31a47'), ObjectId('67016b3f0457ddbb8fc31a48'), ObjectId('67016b3f0457ddbb8fc31a49'), ObjectId('67016b3f0457ddbb8fc31a4a'), ObjectId('67016b3f0457ddbb8fc31a4b'), ObjectId('67016b3f0457ddbb8fc31a4c'), ObjectId('67016b3f0457ddbb8fc31a4d'), ObjectId('67016b3f0457ddbb8fc31a4e'), ObjectId('67016b3f0457ddbb8fc31a4f'), ObjectId('67016b3f0457ddbb8fc31a50'), ObjectId('67016b3f0457ddbb8fc31a51'), ObjectId('67016b3f0457ddbb8fc31a52'), ObjectId('67016b3f0457ddbb8fc31a53'), ObjectId('67016b3f0457ddbb8fc31a54'), ObjectId('67016b3f0457ddbb8fc31a55'), ObjectId('67016b3f0457ddbb8fc31a56'), ObjectId('67016b3f0457ddbb8fc31a57'), ObjectId('67016b3f0457ddbb8fc31a58'), ObjectId('67016b3f0457ddbb8fc31a59'), ObjectId('67016b3f0457ddbb8fc31a5a'), ObjectId('67016b3f0457ddbb8fc31a5b'), ObjectId('67016b3f0457ddbb8fc31a5c'), ObjectId('67016b3f0457ddbb8fc31a5d'), ObjectId('67016b3f0457ddbb8fc31a5e'), ObjectId('67016b3f0457ddbb8fc31a5f'), ObjectId('67016b3f0457ddbb8fc31a60'), ObjectId('67016b3f0457ddbb8fc31a61'), ObjectId('67016b3f0457ddbb8fc31a62'), ObjectId('67016b3f0457ddbb8fc31a63'), ObjectId('67016b3f0457ddbb8fc31a64'), ObjectId('67016b3f0457ddbb8fc31a65'), ObjectId('67016b3f0457ddbb8fc31a66'), ObjectId('67016b3f0457ddbb8fc31a67'), ObjectId('67016b3f0457ddbb8fc31a68'), ObjectId('67016b3f0457ddbb8fc31a69'), ObjectId('67016b3f0457ddbb8fc31a6a'), ObjectId('67016b3f0457ddbb8fc31a6b'), ObjectId('67016b3f0457ddbb8fc31a6c'), ObjectId('67016b3f0457ddbb8fc31a6d'), ObjectId('67016b3f0457ddbb8fc31a6e'), ObjectId('67016b3f0457ddbb8fc31a6f'), ObjectId('67016b3f0457ddbb8fc31a70'), ObjectId('67016b3f0457ddbb8fc31a71'), ObjectId('67016b3f0457ddbb8fc31a72'), ObjectId('67016b3f0457ddbb8fc31a73'), ObjectId('67016b3f0457ddbb8fc31a74'), ObjectId('67016b3f0457ddbb8fc31a75'), ObjectId('67016b3f0457ddbb8fc31a76'), ObjectId('67016b3f0457ddbb8fc31a77'), ObjectId('67016b3f0457ddbb8fc31a78'), ObjectId('67016b3f0457ddbb8fc31a79'), ObjectId('67016b3f0457ddbb8fc31a7a'), ObjectId('67016b3f0457ddbb8fc31a7b'), ObjectId('67016b3f0457ddbb8fc31a7c'), ObjectId('67016b3f0457ddbb8fc31a7d'), ObjectId('67016b3f0457ddbb8fc31a7e'), ObjectId('67016b3f0457ddbb8fc31a7f'), ObjectId('67016b3f0457ddbb8fc31a80'), ObjectId('67016b3f0457ddbb8fc31a81'), ObjectId('67016b3f0457ddbb8fc31a82'), ObjectId('67016b3f0457ddbb8fc31a83'), ObjectId('67016b3f0457ddbb8fc31a84'), ObjectId('67016b3f0457ddbb8fc31a85'), ObjectId('67016b3f0457ddbb8fc31a86'), ObjectId('67016b3f0457ddbb8fc31a87'), ObjectId('67016b3f0457ddbb8fc31a88'), ObjectId('67016b3f0457ddbb8fc31a89'), ObjectId('67016b3f0457ddbb8fc31a8a'), ObjectId('67016b3f0457ddbb8fc31a8b'), ObjectId('67016b3f0457ddbb8fc31a8c'), ObjectId('67016b3f0457ddbb8fc31a8d'), ObjectId('67016b3f0457ddbb8fc31a8e'), ObjectId('67016b3f0457ddbb8fc31a8f'), ObjectId('67016b3f0457ddbb8fc31a90'), ObjectId('67016b3f0457ddbb8fc31a91'), ObjectId('67016b3f0457ddbb8fc31a92'), ObjectId('67016b3f0457ddbb8fc31a93'), ObjectId('67016b3f0457ddbb8fc31a94'), ObjectId('67016b3f0457ddbb8fc31a95'), ObjectId('67016b3f0457ddbb8fc31a96'), ObjectId('67016b3f0457ddbb8fc31a97'), ObjectId('67016b3f0457ddbb8fc31a98'), ObjectId('67016b3f0457ddbb8fc31a99'), ObjectId('67016b3f0457ddbb8fc31a9a'), ObjectId('67016b3f0457ddbb8fc31a9b'), ObjectId('67016b3f0457ddbb8fc31a9c'), ObjectId('67016b3f0457ddbb8fc31a9d'), ObjectId('67016b3f0457ddbb8fc31a9e'), ObjectId('67016b3f0457ddbb8fc31a9f'), ObjectId('67016b3f0457ddbb8fc31aa0'), ObjectId('67016b3f0457ddbb8fc31aa1'), ObjectId('67016b3f0457ddbb8fc31aa2'), ObjectId('67016b3f0457ddbb8fc31aa3'), ObjectId('67016b3f0457ddbb8fc31aa4'), ObjectId('67016b3f0457ddbb8fc31aa5'), ObjectId('67016b3f0457ddbb8fc31aa6'), ObjectId('67016b3f0457ddbb8fc31aa7'), ObjectId('67016b3f0457ddbb8fc31aa8'), ObjectId('67016b3f0457ddbb8fc31aa9'), ObjectId('67016b3f0457ddbb8fc31aaa'), ObjectId('67016b3f0457ddbb8fc31aab'), ObjectId('67016b3f0457ddbb8fc31aac'), ObjectId('67016b3f0457ddbb8fc31aad'), ObjectId('67016b3f0457ddbb8fc31aae'), ObjectId('67016b3f0457ddbb8fc31aaf'), ObjectId('67016b3f0457ddbb8fc31ab0'), ObjectId('67016b3f0457ddbb8fc31ab1'), ObjectId('67016b3f0457ddbb8fc31ab2'), ObjectId('67016b3f0457ddbb8fc31ab3'), ObjectId('67016b3f0457ddbb8fc31ab4'), ObjectId('67016b3f0457ddbb8fc31ab5'), ObjectId('67016b3f0457ddbb8fc31ab6'), ObjectId('67016b3f0457ddbb8fc31ab7'), ObjectId('67016b3f0457ddbb8fc31ab8'), ObjectId('67016b3f0457ddbb8fc31ab9'), ObjectId('67016b3f0457ddbb8fc31aba'), ObjectId('67016b3f0457ddbb8fc31abb'), ObjectId('67016b3f0457ddbb8fc31abc'), ObjectId('67016b3f0457ddbb8fc31abd'), ObjectId('67016b3f0457ddbb8fc31abe'), ObjectId('67016b3f0457ddbb8fc31abf'), ObjectId('67016b3f0457ddbb8fc31ac0'), ObjectId('67016b3f0457ddbb8fc31ac1'), ObjectId('67016b3f0457ddbb8fc31ac2'), ObjectId('67016b3f0457ddbb8fc31ac3'), ObjectId('67016b3f0457ddbb8fc31ac4'), ObjectId('67016b3f0457ddbb8fc31ac5'), ObjectId('67016b3f0457ddbb8fc31ac6'), ObjectId('67016b3f0457ddbb8fc31ac7'), ObjectId('67016b3f0457ddbb8fc31ac8'), ObjectId('67016b3f0457ddbb8fc31ac9'), ObjectId('67016b3f0457ddbb8fc31aca'), ObjectId('67016b3f0457ddbb8fc31acb'), ObjectId('67016b3f0457ddbb8fc31acc'), ObjectId('67016b3f0457ddbb8fc31acd'), ObjectId('67016b3f0457ddbb8fc31ace'), ObjectId('67016b3f0457ddbb8fc31acf'), ObjectId('67016b3f0457ddbb8fc31ad0'), ObjectId('67016b3f0457ddbb8fc31ad1'), ObjectId('67016b3f0457ddbb8fc31ad2'), ObjectId('67016b3f0457ddbb8fc31ad3'), ObjectId('67016b3f0457ddbb8fc31ad4'), ObjectId('67016b3f0457ddbb8fc31ad5'), ObjectId('67016b3f0457ddbb8fc31ad6'), ObjectId('67016b3f0457ddbb8fc31ad7'), ObjectId('67016b3f0457ddbb8fc31ad8'), ObjectId('67016b3f0457ddbb8fc31ad9'), ObjectId('67016b3f0457ddbb8fc31ada'), ObjectId('67016b3f0457ddbb8fc31adb'), ObjectId('67016b3f0457ddbb8fc31adc'), ObjectId('67016b3f0457ddbb8fc31add'), ObjectId('67016b3f0457ddbb8fc31ade'), ObjectId('67016b3f0457ddbb8fc31adf'), ObjectId('67016b3f0457ddbb8fc31ae0'), ObjectId('67016b3f0457ddbb8fc31ae1'), ObjectId('67016b3f0457ddbb8fc31ae2'), ObjectId('67016b3f0457ddbb8fc31ae3'), ObjectId('67016b3f0457ddbb8fc31ae4'), ObjectId('67016b3f0457ddbb8fc31ae5'), ObjectId('67016b3f0457ddbb8fc31ae6'), ObjectId('67016b3f0457ddbb8fc31ae7'), ObjectId('67016b3f0457ddbb8fc31ae8'), ObjectId('67016b3f0457ddbb8fc31ae9'), ObjectId('67016b3f0457ddbb8fc31aea'), ObjectId('67016b3f0457ddbb8fc31aeb'), ObjectId('67016b3f0457ddbb8fc31aec'), ObjectId('67016b3f0457ddbb8fc31aed'), ObjectId('67016b3f0457ddbb8fc31aee'), ObjectId('67016b3f0457ddbb8fc31aef'), ObjectId('67016b3f0457ddbb8fc31af0'), ObjectId('67016b3f0457ddbb8fc31af1'), ObjectId('67016b3f0457ddbb8fc31af2'), ObjectId('67016b3f0457ddbb8fc31af3'), ObjectId('67016b3f0457ddbb8fc31af4'), ObjectId('67016b3f0457ddbb8fc31af5'), ObjectId('67016b3f0457ddbb8fc31af6'), ObjectId('67016b3f0457ddbb8fc31af7'), ObjectId('67016b3f0457ddbb8fc31af8'), ObjectId('67016b3f0457ddbb8fc31af9'), ObjectId('67016b3f0457ddbb8fc31afa'), ObjectId('67016b3f0457ddbb8fc31afb'), ObjectId('67016b3f0457ddbb8fc31afc'), ObjectId('67016b3f0457ddbb8fc31afd'), ObjectId('67016b3f0457ddbb8fc31afe'), ObjectId('67016b3f0457ddbb8fc31aff'), ObjectId('67016b3f0457ddbb8fc31b00'), ObjectId('67016b3f0457ddbb8fc31b01'), ObjectId('67016b3f0457ddbb8fc31b02'), ObjectId('67016b3f0457ddbb8fc31b03'), ObjectId('67016b3f0457ddbb8fc31b04'), ObjectId('67016b3f0457ddbb8fc31b05'), ObjectId('67016b3f0457ddbb8fc31b06'), ObjectId('67016b3f0457ddbb8fc31b07'), ObjectId('67016b3f0457ddbb8fc31b08'), ObjectId('67016b3f0457ddbb8fc31b09'), ObjectId('67016b3f0457ddbb8fc31b0a'), ObjectId('67016b3f0457ddbb8fc31b0b'), ObjectId('67016b3f0457ddbb8fc31b0c'), ObjectId('67016b3f0457ddbb8fc31b0d'), ObjectId('67016b3f0457ddbb8fc31b0e'), ObjectId('67016b3f0457ddbb8fc31b0f'), ObjectId('67016b3f0457ddbb8fc31b10'), ObjectId('67016b3f0457ddbb8fc31b11'), ObjectId('67016b3f0457ddbb8fc31b12'), ObjectId('67016b3f0457ddbb8fc31b13'), ObjectId('67016b3f0457ddbb8fc31b14'), ObjectId('67016b3f0457ddbb8fc31b15'), ObjectId('67016b3f0457ddbb8fc31b16'), ObjectId('67016b3f0457ddbb8fc31b17'), ObjectId('67016b3f0457ddbb8fc31b18'), ObjectId('67016b3f0457ddbb8fc31b19'), ObjectId('67016b3f0457ddbb8fc31b1a'), ObjectId('67016b3f0457ddbb8fc31b1b'), ObjectId('67016b3f0457ddbb8fc31b1c'), ObjectId('67016b3f0457ddbb8fc31b1d'), ObjectId('67016b3f0457ddbb8fc31b1e'), ObjectId('67016b3f0457ddbb8fc31b1f'), ObjectId('67016b3f0457ddbb8fc31b20'), ObjectId('67016b3f0457ddbb8fc31b21'), ObjectId('67016b3f0457ddbb8fc31b22'), ObjectId('67016b3f0457ddbb8fc31b23'), ObjectId('67016b3f0457ddbb8fc31b24'), ObjectId('67016b3f0457ddbb8fc31b25'), ObjectId('67016b3f0457ddbb8fc31b26'), ObjectId('67016b3f0457ddbb8fc31b27'), ObjectId('67016b3f0457ddbb8fc31b28'), ObjectId('67016b3f0457ddbb8fc31b29'), ObjectId('67016b3f0457ddbb8fc31b2a'), ObjectId('67016b3f0457ddbb8fc31b2b'), ObjectId('67016b3f0457ddbb8fc31b2c'), ObjectId('67016b3f0457ddbb8fc31b2d'), ObjectId('67016b3f0457ddbb8fc31b2e'), ObjectId('67016b3f0457ddbb8fc31b2f'), ObjectId('67016b3f0457ddbb8fc31b30'), ObjectId('67016b3f0457ddbb8fc31b31'), ObjectId('67016b3f0457ddbb8fc31b32'), ObjectId('67016b3f0457ddbb8fc31b33'), ObjectId('67016b3f0457ddbb8fc31b34'), ObjectId('67016b3f0457ddbb8fc31b35'), ObjectId('67016b3f0457ddbb8fc31b36'), ObjectId('67016b3f0457ddbb8fc31b37'), ObjectId('67016b3f0457ddbb8fc31b38'), ObjectId('67016b3f0457ddbb8fc31b39'), ObjectId('67016b3f0457ddbb8fc31b3a'), ObjectId('67016b3f0457ddbb8fc31b3b'), ObjectId('67016b3f0457ddbb8fc31b3c'), ObjectId('67016b3f0457ddbb8fc31b3d'), ObjectId('67016b3f0457ddbb8fc31b3e'), ObjectId('67016b3f0457ddbb8fc31b3f'), ObjectId('67016b3f0457ddbb8fc31b40'), ObjectId('67016b3f0457ddbb8fc31b41'), ObjectId('67016b3f0457ddbb8fc31b42'), ObjectId('67016b3f0457ddbb8fc31b43'), ObjectId('67016b3f0457ddbb8fc31b44'), ObjectId('67016b3f0457ddbb8fc31b45'), ObjectId('67016b3f0457ddbb8fc31b46'), ObjectId('67016b3f0457ddbb8fc31b47'), ObjectId('67016b3f0457ddbb8fc31b48'), ObjectId('67016b3f0457ddbb8fc31b49'), ObjectId('67016b3f0457ddbb8fc31b4a'), ObjectId('67016b3f0457ddbb8fc31b4b'), ObjectId('67016b3f0457ddbb8fc31b4c'), ObjectId('67016b3f0457ddbb8fc31b4d'), ObjectId('67016b3f0457ddbb8fc31b4e'), ObjectId('67016b3f0457ddbb8fc31b4f'), ObjectId('67016b3f0457ddbb8fc31b50'), ObjectId('67016b3f0457ddbb8fc31b51'), ObjectId('67016b3f0457ddbb8fc31b52'), ObjectId('67016b3f0457ddbb8fc31b53'), ObjectId('67016b3f0457ddbb8fc31b54'), ObjectId('67016b3f0457ddbb8fc31b55'), ObjectId('67016b3f0457ddbb8fc31b56'), ObjectId('67016b3f0457ddbb8fc31b57'), ObjectId('67016b3f0457ddbb8fc31b58'), ObjectId('67016b3f0457ddbb8fc31b59'), ObjectId('67016b3f0457ddbb8fc31b5a'), ObjectId('67016b3f0457ddbb8fc31b5b'), ObjectId('67016b3f0457ddbb8fc31b5c'), ObjectId('67016b3f0457ddbb8fc31b5d'), ObjectId('67016b3f0457ddbb8fc31b5e'), ObjectId('67016b3f0457ddbb8fc31b5f'), ObjectId('67016b3f0457ddbb8fc31b60'), ObjectId('67016b3f0457ddbb8fc31b61'), ObjectId('67016b3f0457ddbb8fc31b62'), ObjectId('67016b3f0457ddbb8fc31b63'), ObjectId('67016b3f0457ddbb8fc31b64'), ObjectId('67016b3f0457ddbb8fc31b65'), ObjectId('67016b3f0457ddbb8fc31b66'), ObjectId('67016b3f0457ddbb8fc31b67'), ObjectId('67016b3f0457ddbb8fc31b68'), ObjectId('67016b3f0457ddbb8fc31b69'), ObjectId('67016b3f0457ddbb8fc31b6a'), ObjectId('67016b3f0457ddbb8fc31b6b'), ObjectId('67016b3f0457ddbb8fc31b6c'), ObjectId('67016b3f0457ddbb8fc31b6d'), ObjectId('67016b3f0457ddbb8fc31b6e'), ObjectId('67016b3f0457ddbb8fc31b6f'), ObjectId('67016b3f0457ddbb8fc31b70'), ObjectId('67016b3f0457ddbb8fc31b71'), ObjectId('67016b3f0457ddbb8fc31b72'), ObjectId('67016b3f0457ddbb8fc31b73'), ObjectId('67016b3f0457ddbb8fc31b74'), ObjectId('67016b3f0457ddbb8fc31b75'), ObjectId('67016b3f0457ddbb8fc31b76'), ObjectId('67016b3f0457ddbb8fc31b77'), ObjectId('67016b3f0457ddbb8fc31b78'), ObjectId('67016b3f0457ddbb8fc31b79'), ObjectId('67016b3f0457ddbb8fc31b7a'), ObjectId('67016b3f0457ddbb8fc31b7b'), ObjectId('67016b3f0457ddbb8fc31b7c'), ObjectId('67016b3f0457ddbb8fc31b7d'), ObjectId('67016b3f0457ddbb8fc31b7e'), ObjectId('67016b3f0457ddbb8fc31b7f'), ObjectId('67016b3f0457ddbb8fc31b80'), ObjectId('67016b3f0457ddbb8fc31b81'), ObjectId('67016b3f0457ddbb8fc31b82'), ObjectId('67016b3f0457ddbb8fc31b83'), ObjectId('67016b3f0457ddbb8fc31b84'), ObjectId('67016b3f0457ddbb8fc31b85'), ObjectId('67016b3f0457ddbb8fc31b86'), ObjectId('67016b3f0457ddbb8fc31b87'), ObjectId('67016b3f0457ddbb8fc31b88')], acknowledged=True)"
      ]
     },
     "execution_count": 22,
     "metadata": {},
     "output_type": "execute_result"
    }
   ],
   "source": [
    "db.historical_stock_data.insert_many(stock_data_to_insert)"
   ]
  },
  {
   "cell_type": "markdown",
   "id": "7d93a907",
   "metadata": {},
   "source": [
    "### Retrieving Time-Series Data"
   ]
  },
  {
   "cell_type": "code",
   "execution_count": 23,
   "id": "d35804d5",
   "metadata": {},
   "outputs": [
    {
     "data": {
      "text/plain": [
       "datetime.datetime(2024, 4, 5, 17, 37, 51, 661914)"
      ]
     },
     "execution_count": 23,
     "metadata": {},
     "output_type": "execute_result"
    }
   ],
   "source": [
    "gt_date = datetime.now() - relativedelta(months=6)\n",
    "gt_date"
   ]
  },
  {
   "cell_type": "code",
   "execution_count": 24,
   "id": "82a48727",
   "metadata": {},
   "outputs": [
    {
     "name": "stdout",
     "output_type": "stream",
     "text": [
      "[{'Date': datetime.datetime(2024, 4, 8, 0, 0), 'Ticker': 'META', 'Open': 529.280029296875, 'Close': 519.25, 'High': 531.489990234375, 'Low': 518.8900146484375, 'Adj Close': 518.2406005859375, '_id': ObjectId('67016b3f0457ddbb8fc31526'), 'Volume': 13260600}, {'Date': datetime.datetime(2024, 4, 9, 0, 0), 'Ticker': 'META', 'Open': 522.22998046875, 'Close': 516.9000244140625, 'High': 525.8699951171875, 'Low': 506.739990234375, 'Adj Close': 515.8951416015625, '_id': ObjectId('67016b3f0457ddbb8fc31527'), 'Volume': 10881400}]\n"
     ]
    }
   ],
   "source": [
    "ts_cursor = db.historical_stock_data.find({\"Ticker\": \"META\", \"Date\": {\"$gte\": gt_date}})\n",
    "\n",
    "fb_price_data = []\n",
    "\n",
    "for entry in ts_cursor:\n",
    "    fb_price_data.append(entry)\n",
    "\n",
    "print(fb_price_data[0:2])"
   ]
  },
  {
   "cell_type": "code",
   "execution_count": 25,
   "id": "21e7d133",
   "metadata": {},
   "outputs": [
    {
     "data": {
      "text/html": [
       "<div>\n",
       "<style scoped>\n",
       "    .dataframe tbody tr th:only-of-type {\n",
       "        vertical-align: middle;\n",
       "    }\n",
       "\n",
       "    .dataframe tbody tr th {\n",
       "        vertical-align: top;\n",
       "    }\n",
       "\n",
       "    .dataframe thead th {\n",
       "        text-align: right;\n",
       "    }\n",
       "</style>\n",
       "<table border=\"1\" class=\"dataframe\">\n",
       "  <thead>\n",
       "    <tr style=\"text-align: right;\">\n",
       "      <th></th>\n",
       "      <th>Ticker</th>\n",
       "      <th>Open</th>\n",
       "      <th>Close</th>\n",
       "      <th>High</th>\n",
       "      <th>Low</th>\n",
       "      <th>Adj Close</th>\n",
       "      <th>Volume</th>\n",
       "    </tr>\n",
       "    <tr>\n",
       "      <th>Date</th>\n",
       "      <th></th>\n",
       "      <th></th>\n",
       "      <th></th>\n",
       "      <th></th>\n",
       "      <th></th>\n",
       "      <th></th>\n",
       "      <th></th>\n",
       "    </tr>\n",
       "  </thead>\n",
       "  <tbody>\n",
       "    <tr>\n",
       "      <th>2024-04-08</th>\n",
       "      <td>META</td>\n",
       "      <td>529.280029</td>\n",
       "      <td>519.250000</td>\n",
       "      <td>531.489990</td>\n",
       "      <td>518.890015</td>\n",
       "      <td>518.240601</td>\n",
       "      <td>13260600</td>\n",
       "    </tr>\n",
       "    <tr>\n",
       "      <th>2024-04-09</th>\n",
       "      <td>META</td>\n",
       "      <td>522.229980</td>\n",
       "      <td>516.900024</td>\n",
       "      <td>525.869995</td>\n",
       "      <td>506.739990</td>\n",
       "      <td>515.895142</td>\n",
       "      <td>10881400</td>\n",
       "    </tr>\n",
       "    <tr>\n",
       "      <th>2024-04-10</th>\n",
       "      <td>META</td>\n",
       "      <td>509.290009</td>\n",
       "      <td>519.830017</td>\n",
       "      <td>522.559998</td>\n",
       "      <td>505.799988</td>\n",
       "      <td>518.819458</td>\n",
       "      <td>11418500</td>\n",
       "    </tr>\n",
       "    <tr>\n",
       "      <th>2024-04-11</th>\n",
       "      <td>META</td>\n",
       "      <td>521.109985</td>\n",
       "      <td>523.159973</td>\n",
       "      <td>523.859985</td>\n",
       "      <td>517.289978</td>\n",
       "      <td>522.142944</td>\n",
       "      <td>10369500</td>\n",
       "    </tr>\n",
       "    <tr>\n",
       "      <th>2024-04-12</th>\n",
       "      <td>META</td>\n",
       "      <td>517.750000</td>\n",
       "      <td>511.899994</td>\n",
       "      <td>520.190002</td>\n",
       "      <td>509.329987</td>\n",
       "      <td>510.904846</td>\n",
       "      <td>11944900</td>\n",
       "    </tr>\n",
       "    <tr>\n",
       "      <th>...</th>\n",
       "      <td>...</td>\n",
       "      <td>...</td>\n",
       "      <td>...</td>\n",
       "      <td>...</td>\n",
       "      <td>...</td>\n",
       "      <td>...</td>\n",
       "      <td>...</td>\n",
       "    </tr>\n",
       "    <tr>\n",
       "      <th>2024-09-30</th>\n",
       "      <td>META</td>\n",
       "      <td>567.700012</td>\n",
       "      <td>572.440002</td>\n",
       "      <td>574.679993</td>\n",
       "      <td>564.799988</td>\n",
       "      <td>572.440002</td>\n",
       "      <td>12792300</td>\n",
       "    </tr>\n",
       "    <tr>\n",
       "      <th>2024-10-01</th>\n",
       "      <td>META</td>\n",
       "      <td>577.979980</td>\n",
       "      <td>576.469971</td>\n",
       "      <td>583.039978</td>\n",
       "      <td>570.099976</td>\n",
       "      <td>576.469971</td>\n",
       "      <td>15259300</td>\n",
       "    </tr>\n",
       "    <tr>\n",
       "      <th>2024-10-02</th>\n",
       "      <td>META</td>\n",
       "      <td>574.859985</td>\n",
       "      <td>572.809998</td>\n",
       "      <td>576.000000</td>\n",
       "      <td>569.340027</td>\n",
       "      <td>572.809998</td>\n",
       "      <td>6524700</td>\n",
       "    </tr>\n",
       "    <tr>\n",
       "      <th>2024-10-03</th>\n",
       "      <td>META</td>\n",
       "      <td>570.150024</td>\n",
       "      <td>582.770020</td>\n",
       "      <td>583.359985</td>\n",
       "      <td>568.729980</td>\n",
       "      <td>582.770020</td>\n",
       "      <td>11581000</td>\n",
       "    </tr>\n",
       "    <tr>\n",
       "      <th>2024-10-04</th>\n",
       "      <td>META</td>\n",
       "      <td>583.729980</td>\n",
       "      <td>595.940002</td>\n",
       "      <td>596.849976</td>\n",
       "      <td>581.429993</td>\n",
       "      <td>595.940002</td>\n",
       "      <td>14169500</td>\n",
       "    </tr>\n",
       "  </tbody>\n",
       "</table>\n",
       "<p>126 rows × 7 columns</p>\n",
       "</div>"
      ],
      "text/plain": [
       "           Ticker        Open       Close        High         Low   Adj Close  \\\n",
       "Date                                                                            \n",
       "2024-04-08   META  529.280029  519.250000  531.489990  518.890015  518.240601   \n",
       "2024-04-09   META  522.229980  516.900024  525.869995  506.739990  515.895142   \n",
       "2024-04-10   META  509.290009  519.830017  522.559998  505.799988  518.819458   \n",
       "2024-04-11   META  521.109985  523.159973  523.859985  517.289978  522.142944   \n",
       "2024-04-12   META  517.750000  511.899994  520.190002  509.329987  510.904846   \n",
       "...           ...         ...         ...         ...         ...         ...   \n",
       "2024-09-30   META  567.700012  572.440002  574.679993  564.799988  572.440002   \n",
       "2024-10-01   META  577.979980  576.469971  583.039978  570.099976  576.469971   \n",
       "2024-10-02   META  574.859985  572.809998  576.000000  569.340027  572.809998   \n",
       "2024-10-03   META  570.150024  582.770020  583.359985  568.729980  582.770020   \n",
       "2024-10-04   META  583.729980  595.940002  596.849976  581.429993  595.940002   \n",
       "\n",
       "              Volume  \n",
       "Date                  \n",
       "2024-04-08  13260600  \n",
       "2024-04-09  10881400  \n",
       "2024-04-10  11418500  \n",
       "2024-04-11  10369500  \n",
       "2024-04-12  11944900  \n",
       "...              ...  \n",
       "2024-09-30  12792300  \n",
       "2024-10-01  15259300  \n",
       "2024-10-02   6524700  \n",
       "2024-10-03  11581000  \n",
       "2024-10-04  14169500  \n",
       "\n",
       "[126 rows x 7 columns]"
      ]
     },
     "execution_count": 25,
     "metadata": {},
     "output_type": "execute_result"
    }
   ],
   "source": [
    "read_in_data = pandas.DataFrame(fb_price_data)\n",
    "read_in_data = read_in_data.set_index(\"Date\")\n",
    "read_in_data = read_in_data.drop(\"_id\", axis=1)\n",
    "\n",
    "read_in_data"
   ]
  },
  {
   "cell_type": "code",
   "execution_count": null,
   "id": "e6e786a2",
   "metadata": {},
   "outputs": [],
   "source": []
  }
 ],
 "metadata": {
  "kernelspec": {
   "display_name": "Python 3",
   "language": "python",
   "name": "python3"
  },
  "language_info": {
   "codemirror_mode": {
    "name": "ipython",
    "version": 3
   },
   "file_extension": ".py",
   "mimetype": "text/x-python",
   "name": "python",
   "nbconvert_exporter": "python",
   "pygments_lexer": "ipython3",
   "version": "3.12.5"
  }
 },
 "nbformat": 4,
 "nbformat_minor": 5
}
